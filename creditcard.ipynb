{
 "cells": [
  {
   "cell_type": "code",
   "execution_count": 1,
   "metadata": {},
   "outputs": [
    {
     "name": "stdout",
     "output_type": "stream",
     "text": [
      "Pandas Version : Pandas 1.1.5\n",
      "Numpy Version : Numpy 1.19.2\n",
      "Seaborn Version : Seaborn 0.11.1\n"
     ]
    }
   ],
   "source": [
    "import pandas as pd\n",
    "import numpy as np\n",
    "import matplotlib.pyplot as plt\n",
    "import seaborn as sns\n",
    "import statistics as sts\n",
    "\n",
    "print(f\"Pandas Version : Pandas {pd.__version__}\") # print(\"Pandas Version : Pandas {}\" ,pd.__version__ )\n",
    "print(f\"Numpy Version : Numpy {np.__version__}\")\n",
    "#print(f\"Matplotlib Version : Matplotlib {plt.__version__}\")\n",
    "print(f\"Seaborn Version : Seaborn {sns.__version__}\")\n"
   ]
  },
  {
   "cell_type": "code",
   "execution_count": 2,
   "metadata": {},
   "outputs": [],
   "source": [
    "import zipfile\n",
    "\n",
    "zf = zipfile.ZipFile('/Users/drgopasinha/Desktop/Ivy_python/creditcard.csv.zip') \n",
    "df = pd.read_csv(zf.open('creditcard.csv'))"
   ]
  },
  {
   "cell_type": "code",
   "execution_count": 3,
   "metadata": {},
   "outputs": [],
   "source": [
    "pd.set_option('display.max_rows', 500)\n",
    "pd.set_option('display.max_columns', 500)\n",
    "pd.set_option('display.width', 1000)"
   ]
  },
  {
   "cell_type": "code",
   "execution_count": 4,
   "metadata": {},
   "outputs": [
    {
     "data": {
      "text/html": [
       "<div>\n",
       "<style scoped>\n",
       "    .dataframe tbody tr th:only-of-type {\n",
       "        vertical-align: middle;\n",
       "    }\n",
       "\n",
       "    .dataframe tbody tr th {\n",
       "        vertical-align: top;\n",
       "    }\n",
       "\n",
       "    .dataframe thead th {\n",
       "        text-align: right;\n",
       "    }\n",
       "</style>\n",
       "<table border=\"1\" class=\"dataframe\">\n",
       "  <thead>\n",
       "    <tr style=\"text-align: right;\">\n",
       "      <th></th>\n",
       "      <th>Time</th>\n",
       "      <th>V1</th>\n",
       "      <th>V2</th>\n",
       "      <th>V3</th>\n",
       "      <th>V4</th>\n",
       "      <th>V5</th>\n",
       "      <th>V6</th>\n",
       "      <th>V7</th>\n",
       "      <th>V8</th>\n",
       "      <th>V9</th>\n",
       "      <th>V10</th>\n",
       "      <th>V11</th>\n",
       "      <th>V12</th>\n",
       "      <th>V13</th>\n",
       "      <th>V14</th>\n",
       "      <th>V15</th>\n",
       "      <th>V16</th>\n",
       "      <th>V17</th>\n",
       "      <th>V18</th>\n",
       "      <th>V19</th>\n",
       "      <th>V20</th>\n",
       "      <th>V21</th>\n",
       "      <th>V22</th>\n",
       "      <th>V23</th>\n",
       "      <th>V24</th>\n",
       "      <th>V25</th>\n",
       "      <th>V26</th>\n",
       "      <th>V27</th>\n",
       "      <th>V28</th>\n",
       "      <th>Amount</th>\n",
       "      <th>Class</th>\n",
       "    </tr>\n",
       "  </thead>\n",
       "  <tbody>\n",
       "    <tr>\n",
       "      <th>0</th>\n",
       "      <td>0.0</td>\n",
       "      <td>-1.359807</td>\n",
       "      <td>-0.072781</td>\n",
       "      <td>2.536347</td>\n",
       "      <td>1.378155</td>\n",
       "      <td>-0.338321</td>\n",
       "      <td>0.462388</td>\n",
       "      <td>0.239599</td>\n",
       "      <td>0.098698</td>\n",
       "      <td>0.363787</td>\n",
       "      <td>0.090794</td>\n",
       "      <td>-0.551600</td>\n",
       "      <td>-0.617801</td>\n",
       "      <td>-0.991390</td>\n",
       "      <td>-0.311169</td>\n",
       "      <td>1.468177</td>\n",
       "      <td>-0.470401</td>\n",
       "      <td>0.207971</td>\n",
       "      <td>0.025791</td>\n",
       "      <td>0.403993</td>\n",
       "      <td>0.251412</td>\n",
       "      <td>-0.018307</td>\n",
       "      <td>0.277838</td>\n",
       "      <td>-0.110474</td>\n",
       "      <td>0.066928</td>\n",
       "      <td>0.128539</td>\n",
       "      <td>-0.189115</td>\n",
       "      <td>0.133558</td>\n",
       "      <td>-0.021053</td>\n",
       "      <td>149.62</td>\n",
       "      <td>0</td>\n",
       "    </tr>\n",
       "    <tr>\n",
       "      <th>1</th>\n",
       "      <td>0.0</td>\n",
       "      <td>1.191857</td>\n",
       "      <td>0.266151</td>\n",
       "      <td>0.166480</td>\n",
       "      <td>0.448154</td>\n",
       "      <td>0.060018</td>\n",
       "      <td>-0.082361</td>\n",
       "      <td>-0.078803</td>\n",
       "      <td>0.085102</td>\n",
       "      <td>-0.255425</td>\n",
       "      <td>-0.166974</td>\n",
       "      <td>1.612727</td>\n",
       "      <td>1.065235</td>\n",
       "      <td>0.489095</td>\n",
       "      <td>-0.143772</td>\n",
       "      <td>0.635558</td>\n",
       "      <td>0.463917</td>\n",
       "      <td>-0.114805</td>\n",
       "      <td>-0.183361</td>\n",
       "      <td>-0.145783</td>\n",
       "      <td>-0.069083</td>\n",
       "      <td>-0.225775</td>\n",
       "      <td>-0.638672</td>\n",
       "      <td>0.101288</td>\n",
       "      <td>-0.339846</td>\n",
       "      <td>0.167170</td>\n",
       "      <td>0.125895</td>\n",
       "      <td>-0.008983</td>\n",
       "      <td>0.014724</td>\n",
       "      <td>2.69</td>\n",
       "      <td>0</td>\n",
       "    </tr>\n",
       "    <tr>\n",
       "      <th>2</th>\n",
       "      <td>1.0</td>\n",
       "      <td>-1.358354</td>\n",
       "      <td>-1.340163</td>\n",
       "      <td>1.773209</td>\n",
       "      <td>0.379780</td>\n",
       "      <td>-0.503198</td>\n",
       "      <td>1.800499</td>\n",
       "      <td>0.791461</td>\n",
       "      <td>0.247676</td>\n",
       "      <td>-1.514654</td>\n",
       "      <td>0.207643</td>\n",
       "      <td>0.624501</td>\n",
       "      <td>0.066084</td>\n",
       "      <td>0.717293</td>\n",
       "      <td>-0.165946</td>\n",
       "      <td>2.345865</td>\n",
       "      <td>-2.890083</td>\n",
       "      <td>1.109969</td>\n",
       "      <td>-0.121359</td>\n",
       "      <td>-2.261857</td>\n",
       "      <td>0.524980</td>\n",
       "      <td>0.247998</td>\n",
       "      <td>0.771679</td>\n",
       "      <td>0.909412</td>\n",
       "      <td>-0.689281</td>\n",
       "      <td>-0.327642</td>\n",
       "      <td>-0.139097</td>\n",
       "      <td>-0.055353</td>\n",
       "      <td>-0.059752</td>\n",
       "      <td>378.66</td>\n",
       "      <td>0</td>\n",
       "    </tr>\n",
       "    <tr>\n",
       "      <th>3</th>\n",
       "      <td>1.0</td>\n",
       "      <td>-0.966272</td>\n",
       "      <td>-0.185226</td>\n",
       "      <td>1.792993</td>\n",
       "      <td>-0.863291</td>\n",
       "      <td>-0.010309</td>\n",
       "      <td>1.247203</td>\n",
       "      <td>0.237609</td>\n",
       "      <td>0.377436</td>\n",
       "      <td>-1.387024</td>\n",
       "      <td>-0.054952</td>\n",
       "      <td>-0.226487</td>\n",
       "      <td>0.178228</td>\n",
       "      <td>0.507757</td>\n",
       "      <td>-0.287924</td>\n",
       "      <td>-0.631418</td>\n",
       "      <td>-1.059647</td>\n",
       "      <td>-0.684093</td>\n",
       "      <td>1.965775</td>\n",
       "      <td>-1.232622</td>\n",
       "      <td>-0.208038</td>\n",
       "      <td>-0.108300</td>\n",
       "      <td>0.005274</td>\n",
       "      <td>-0.190321</td>\n",
       "      <td>-1.175575</td>\n",
       "      <td>0.647376</td>\n",
       "      <td>-0.221929</td>\n",
       "      <td>0.062723</td>\n",
       "      <td>0.061458</td>\n",
       "      <td>123.50</td>\n",
       "      <td>0</td>\n",
       "    </tr>\n",
       "    <tr>\n",
       "      <th>4</th>\n",
       "      <td>2.0</td>\n",
       "      <td>-1.158233</td>\n",
       "      <td>0.877737</td>\n",
       "      <td>1.548718</td>\n",
       "      <td>0.403034</td>\n",
       "      <td>-0.407193</td>\n",
       "      <td>0.095921</td>\n",
       "      <td>0.592941</td>\n",
       "      <td>-0.270533</td>\n",
       "      <td>0.817739</td>\n",
       "      <td>0.753074</td>\n",
       "      <td>-0.822843</td>\n",
       "      <td>0.538196</td>\n",
       "      <td>1.345852</td>\n",
       "      <td>-1.119670</td>\n",
       "      <td>0.175121</td>\n",
       "      <td>-0.451449</td>\n",
       "      <td>-0.237033</td>\n",
       "      <td>-0.038195</td>\n",
       "      <td>0.803487</td>\n",
       "      <td>0.408542</td>\n",
       "      <td>-0.009431</td>\n",
       "      <td>0.798278</td>\n",
       "      <td>-0.137458</td>\n",
       "      <td>0.141267</td>\n",
       "      <td>-0.206010</td>\n",
       "      <td>0.502292</td>\n",
       "      <td>0.219422</td>\n",
       "      <td>0.215153</td>\n",
       "      <td>69.99</td>\n",
       "      <td>0</td>\n",
       "    </tr>\n",
       "  </tbody>\n",
       "</table>\n",
       "</div>"
      ],
      "text/plain": [
       "   Time        V1        V2        V3        V4        V5        V6        V7        V8        V9       V10       V11       V12       V13       V14       V15       V16       V17       V18       V19       V20       V21       V22       V23       V24       V25       V26       V27       V28  Amount  Class\n",
       "0   0.0 -1.359807 -0.072781  2.536347  1.378155 -0.338321  0.462388  0.239599  0.098698  0.363787  0.090794 -0.551600 -0.617801 -0.991390 -0.311169  1.468177 -0.470401  0.207971  0.025791  0.403993  0.251412 -0.018307  0.277838 -0.110474  0.066928  0.128539 -0.189115  0.133558 -0.021053  149.62      0\n",
       "1   0.0  1.191857  0.266151  0.166480  0.448154  0.060018 -0.082361 -0.078803  0.085102 -0.255425 -0.166974  1.612727  1.065235  0.489095 -0.143772  0.635558  0.463917 -0.114805 -0.183361 -0.145783 -0.069083 -0.225775 -0.638672  0.101288 -0.339846  0.167170  0.125895 -0.008983  0.014724    2.69      0\n",
       "2   1.0 -1.358354 -1.340163  1.773209  0.379780 -0.503198  1.800499  0.791461  0.247676 -1.514654  0.207643  0.624501  0.066084  0.717293 -0.165946  2.345865 -2.890083  1.109969 -0.121359 -2.261857  0.524980  0.247998  0.771679  0.909412 -0.689281 -0.327642 -0.139097 -0.055353 -0.059752  378.66      0\n",
       "3   1.0 -0.966272 -0.185226  1.792993 -0.863291 -0.010309  1.247203  0.237609  0.377436 -1.387024 -0.054952 -0.226487  0.178228  0.507757 -0.287924 -0.631418 -1.059647 -0.684093  1.965775 -1.232622 -0.208038 -0.108300  0.005274 -0.190321 -1.175575  0.647376 -0.221929  0.062723  0.061458  123.50      0\n",
       "4   2.0 -1.158233  0.877737  1.548718  0.403034 -0.407193  0.095921  0.592941 -0.270533  0.817739  0.753074 -0.822843  0.538196  1.345852 -1.119670  0.175121 -0.451449 -0.237033 -0.038195  0.803487  0.408542 -0.009431  0.798278 -0.137458  0.141267 -0.206010  0.502292  0.219422  0.215153   69.99      0"
      ]
     },
     "execution_count": 4,
     "metadata": {},
     "output_type": "execute_result"
    }
   ],
   "source": [
    "df.head()"
   ]
  },
  {
   "cell_type": "code",
   "execution_count": 5,
   "metadata": {},
   "outputs": [
    {
     "name": "stdout",
     "output_type": "stream",
     "text": [
      "<class 'pandas.core.frame.DataFrame'>\n",
      "RangeIndex: 284807 entries, 0 to 284806\n",
      "Data columns (total 31 columns):\n",
      " #   Column  Non-Null Count   Dtype  \n",
      "---  ------  --------------   -----  \n",
      " 0   Time    284807 non-null  float64\n",
      " 1   V1      284807 non-null  float64\n",
      " 2   V2      284807 non-null  float64\n",
      " 3   V3      284807 non-null  float64\n",
      " 4   V4      284807 non-null  float64\n",
      " 5   V5      284807 non-null  float64\n",
      " 6   V6      284807 non-null  float64\n",
      " 7   V7      284807 non-null  float64\n",
      " 8   V8      284807 non-null  float64\n",
      " 9   V9      284807 non-null  float64\n",
      " 10  V10     284807 non-null  float64\n",
      " 11  V11     284807 non-null  float64\n",
      " 12  V12     284807 non-null  float64\n",
      " 13  V13     284807 non-null  float64\n",
      " 14  V14     284807 non-null  float64\n",
      " 15  V15     284807 non-null  float64\n",
      " 16  V16     284807 non-null  float64\n",
      " 17  V17     284807 non-null  float64\n",
      " 18  V18     284807 non-null  float64\n",
      " 19  V19     284807 non-null  float64\n",
      " 20  V20     284807 non-null  float64\n",
      " 21  V21     284807 non-null  float64\n",
      " 22  V22     284807 non-null  float64\n",
      " 23  V23     284807 non-null  float64\n",
      " 24  V24     284807 non-null  float64\n",
      " 25  V25     284807 non-null  float64\n",
      " 26  V26     284807 non-null  float64\n",
      " 27  V27     284807 non-null  float64\n",
      " 28  V28     284807 non-null  float64\n",
      " 29  Amount  284807 non-null  float64\n",
      " 30  Class   284807 non-null  int64  \n",
      "dtypes: float64(30), int64(1)\n",
      "memory usage: 67.4 MB\n"
     ]
    }
   ],
   "source": [
    "df.info()"
   ]
  },
  {
   "cell_type": "code",
   "execution_count": 6,
   "metadata": {},
   "outputs": [
    {
     "data": {
      "text/plain": [
       "Time      0\n",
       "V1        0\n",
       "V2        0\n",
       "V3        0\n",
       "V4        0\n",
       "V5        0\n",
       "V6        0\n",
       "V7        0\n",
       "V8        0\n",
       "V9        0\n",
       "V10       0\n",
       "V11       0\n",
       "V12       0\n",
       "V13       0\n",
       "V14       0\n",
       "V15       0\n",
       "V16       0\n",
       "V17       0\n",
       "V18       0\n",
       "V19       0\n",
       "V20       0\n",
       "V21       0\n",
       "V22       0\n",
       "V23       0\n",
       "V24       0\n",
       "V25       0\n",
       "V26       0\n",
       "V27       0\n",
       "V28       0\n",
       "Amount    0\n",
       "Class     0\n",
       "dtype: int64"
      ]
     },
     "execution_count": 6,
     "metadata": {},
     "output_type": "execute_result"
    }
   ],
   "source": [
    "df.isnull().sum()"
   ]
  },
  {
   "cell_type": "code",
   "execution_count": 7,
   "metadata": {},
   "outputs": [
    {
     "data": {
      "text/plain": [
       "(                Time            V1            V2            V3            V4            V5            V6            V7            V8            V9\n",
       " count  284807.000000  2.848070e+05  2.848070e+05  2.848070e+05  2.848070e+05  2.848070e+05  2.848070e+05  2.848070e+05  2.848070e+05  2.848070e+05\n",
       " mean    94813.859575  3.919560e-15  5.688174e-16 -8.769071e-15  2.782312e-15 -1.552563e-15  2.010663e-15 -1.694249e-15 -1.927028e-16 -3.137024e-15\n",
       " std     47488.145955  1.958696e+00  1.651309e+00  1.516255e+00  1.415869e+00  1.380247e+00  1.332271e+00  1.237094e+00  1.194353e+00  1.098632e+00\n",
       " min         0.000000 -5.640751e+01 -7.271573e+01 -4.832559e+01 -5.683171e+00 -1.137433e+02 -2.616051e+01 -4.355724e+01 -7.321672e+01 -1.343407e+01\n",
       " 25%     54201.500000 -9.203734e-01 -5.985499e-01 -8.903648e-01 -8.486401e-01 -6.915971e-01 -7.682956e-01 -5.540759e-01 -2.086297e-01 -6.430976e-01\n",
       " 50%     84692.000000  1.810880e-02  6.548556e-02  1.798463e-01 -1.984653e-02 -5.433583e-02 -2.741871e-01  4.010308e-02  2.235804e-02 -5.142873e-02\n",
       " 75%    139320.500000  1.315642e+00  8.037239e-01  1.027196e+00  7.433413e-01  6.119264e-01  3.985649e-01  5.704361e-01  3.273459e-01  5.971390e-01\n",
       " max    172792.000000  2.454930e+00  2.205773e+01  9.382558e+00  1.687534e+01  3.480167e+01  7.330163e+01  1.205895e+02  2.000721e+01  1.559499e+01,\n",
       "                 V10           V11           V12           V13           V14           V15           V16           V17           V18           V19\n",
       " count  2.848070e+05  2.848070e+05  2.848070e+05  2.848070e+05  2.848070e+05  2.848070e+05  2.848070e+05  2.848070e+05  2.848070e+05  2.848070e+05\n",
       " mean   1.768627e-15  9.170318e-16 -1.810658e-15  1.693438e-15  1.479045e-15  3.482336e-15  1.392007e-15 -7.528491e-16  4.328772e-16  9.049732e-16\n",
       " std    1.088850e+00  1.020713e+00  9.992014e-01  9.952742e-01  9.585956e-01  9.153160e-01  8.762529e-01  8.493371e-01  8.381762e-01  8.140405e-01\n",
       " min   -2.458826e+01 -4.797473e+00 -1.868371e+01 -5.791881e+00 -1.921433e+01 -4.498945e+00 -1.412985e+01 -2.516280e+01 -9.498746e+00 -7.213527e+00\n",
       " 25%   -5.354257e-01 -7.624942e-01 -4.055715e-01 -6.485393e-01 -4.255740e-01 -5.828843e-01 -4.680368e-01 -4.837483e-01 -4.988498e-01 -4.562989e-01\n",
       " 50%   -9.291738e-02 -3.275735e-02  1.400326e-01 -1.356806e-02  5.060132e-02  4.807155e-02  6.641332e-02 -6.567575e-02 -3.636312e-03  3.734823e-03\n",
       " 75%    4.539234e-01  7.395934e-01  6.182380e-01  6.625050e-01  4.931498e-01  6.488208e-01  5.232963e-01  3.996750e-01  5.008067e-01  4.589494e-01\n",
       " max    2.374514e+01  1.201891e+01  7.848392e+00  7.126883e+00  1.052677e+01  8.877742e+00  1.731511e+01  9.253526e+00  5.041069e+00  5.591971e+00,\n",
       "                 V20           V21           V22           V23           V24           V25           V26           V27           V28         Amount\n",
       " count  2.848070e+05  2.848070e+05  2.848070e+05  2.848070e+05  2.848070e+05  2.848070e+05  2.848070e+05  2.848070e+05  2.848070e+05  284807.000000\n",
       " mean   5.085503e-16  1.537294e-16  7.959909e-16  5.367590e-16  4.458112e-15  1.453003e-15  1.699104e-15 -3.660161e-16 -1.206049e-16      88.349619\n",
       " std    7.709250e-01  7.345240e-01  7.257016e-01  6.244603e-01  6.056471e-01  5.212781e-01  4.822270e-01  4.036325e-01  3.300833e-01     250.120109\n",
       " min   -5.449772e+01 -3.483038e+01 -1.093314e+01 -4.480774e+01 -2.836627e+00 -1.029540e+01 -2.604551e+00 -2.256568e+01 -1.543008e+01       0.000000\n",
       " 25%   -2.117214e-01 -2.283949e-01 -5.423504e-01 -1.618463e-01 -3.545861e-01 -3.171451e-01 -3.269839e-01 -7.083953e-02 -5.295979e-02       5.600000\n",
       " 50%   -6.248109e-02 -2.945017e-02  6.781943e-03 -1.119293e-02  4.097606e-02  1.659350e-02 -5.213911e-02  1.342146e-03  1.124383e-02      22.000000\n",
       " 75%    1.330408e-01  1.863772e-01  5.285536e-01  1.476421e-01  4.395266e-01  3.507156e-01  2.409522e-01  9.104512e-02  7.827995e-02      77.165000\n",
       " max    3.942090e+01  2.720284e+01  1.050309e+01  2.252841e+01  4.584549e+00  7.519589e+00  3.517346e+00  3.161220e+01  3.384781e+01   25691.160000)"
      ]
     },
     "execution_count": 7,
     "metadata": {},
     "output_type": "execute_result"
    }
   ],
   "source": [
    "df.iloc[:,0:10].describe(),df.iloc[:,10:20].describe(),df.iloc[:,20:30].describe()"
   ]
  },
  {
   "cell_type": "markdown",
   "metadata": {},
   "source": [
    "There is a huge difference between mean and median of all the variables which indicates presence of outliers."
   ]
  },
  {
   "cell_type": "code",
   "execution_count": 9,
   "metadata": {},
   "outputs": [
    {
     "data": {
      "text/plain": [
       "0    0.998273\n",
       "1    0.001727\n",
       "Name: Class, dtype: float64"
      ]
     },
     "execution_count": 9,
     "metadata": {},
     "output_type": "execute_result"
    }
   ],
   "source": [
    "#df['Class']=pd.to_numeric(df['Class'])#.astype('numeris')\n",
    "df.Class.value_counts(normalize=True)"
   ]
  },
  {
   "cell_type": "code",
   "execution_count": 10,
   "metadata": {},
   "outputs": [
    {
     "data": {
      "text/plain": [
       "(count     492.000000\n",
       " mean      122.211321\n",
       " std       256.683288\n",
       " min         0.000000\n",
       " 25%         1.000000\n",
       " 50%         9.250000\n",
       " 75%       105.890000\n",
       " max      2125.870000\n",
       " Name: Amount, dtype: float64,\n",
       " count    284315.000000\n",
       " mean         88.291022\n",
       " std         250.105092\n",
       " min           0.000000\n",
       " 25%           5.650000\n",
       " 50%          22.000000\n",
       " 75%          77.050000\n",
       " max       25691.160000\n",
       " Name: Amount, dtype: float64)"
      ]
     },
     "execution_count": 10,
     "metadata": {},
     "output_type": "execute_result"
    }
   ],
   "source": [
    "df[df.Class==1].Amount.describe(),df['Amount'][df.Class==0].describe()"
   ]
  },
  {
   "cell_type": "markdown",
   "metadata": {},
   "source": [
    "The average amount for fraudulent transactions is higher than that of normal transactions even there is only 0.172% of credit card frauds."
   ]
  },
  {
   "cell_type": "code",
   "execution_count": 11,
   "metadata": {},
   "outputs": [
    {
     "data": {
      "image/png": "[encoded data removed]",
      "text/plain": [
       "<Figure size 720x432 with 2 Axes>"
      ]
     },
     "metadata": {
      "needs_background": "light"
     },
     "output_type": "display_data"
    }
   ],
   "source": [
    "fig,ax=plt.subplots(1,2,figsize=(10,6))\n",
    "#plt.subplot(2,1,1)\n",
    "ax[0].hist(df['Amount'][df.Class==1])\n",
    "ax[0].set_title('Histogram of fraudulent transactions')\n",
    "ax[0].grid(True)\n",
    "#plt.subplot(2,1,2)\n",
    "ax[1].hist(df['Amount'][df.Class==0])\n",
    "ax[1].set_title('Histogram of non-fraudulent transactions')\n",
    "ax[1].grid(True)\n",
    "fig.suptitle('Histogram of Amount w.r.t class',fontsize=16)\n",
    "plt.show()"
   ]
  },
  {
   "cell_type": "markdown",
   "metadata": {},
   "source": [
    "There exists a decreasing curve for amounts for fraudulent transactions with max amount near 2000 and highest frequency just above 400 whereas for nonfraudulent transactions max frequency is obtained in the class of amount 0 - 2500 with frequency > 280000. "
   ]
  },
  {
   "cell_type": "code",
   "execution_count": 12,
   "metadata": {},
   "outputs": [
    {
     "data": {
      "text/plain": [
       "0.01931132310652477"
      ]
     },
     "execution_count": 12,
     "metadata": {},
     "output_type": "execute_result"
    },
    {
     "data": {
      "image/png": "[encoded data removed]",
      "text/plain": [
       "<Figure size 432x288 with 1 Axes>"
      ]
     },
     "metadata": {
      "needs_background": "light"
     },
     "output_type": "display_data"
    }
   ],
   "source": [
    "#df[df.Amount>5000].Class.value_counts()\n",
    "plt.boxplot(df[df.Amount<5000].Amount)\n",
    "#plt.show()\n",
    "5500/len(df)"
   ]
  },
  {
   "cell_type": "code",
   "execution_count": 13,
   "metadata": {},
   "outputs": [
    {
     "data": {
      "text/plain": [
       "(0    284315\n",
       " 1       492\n",
       " Name: Class, dtype: int64,\n",
       " 0    99.827251\n",
       " 1     0.172749\n",
       " Name: Class, dtype: float64)"
      ]
     },
     "execution_count": 13,
     "metadata": {},
     "output_type": "execute_result"
    }
   ],
   "source": [
    "df.Class.value_counts(),100*df.Class.value_counts(normalize=True)"
   ]
  },
  {
   "cell_type": "markdown",
   "metadata": {},
   "source": [
    "There is only approx. 0.02% of data with transaction amount greater than 5000 and all are nonfraudulent. Hence removing these datapoints will not affect much of ML model. From boxplot all outliers (with amounts < 5000) are clustered together and are more in number. "
   ]
  },
  {
   "cell_type": "code",
   "execution_count": 14,
   "metadata": {},
   "outputs": [
    {
     "data": {
      "image/png": "[encoded data removed]",
      "text/plain": [
       "<Figure size 432x288 with 1 Axes>"
      ]
     },
     "metadata": {
      "needs_background": "light"
     },
     "output_type": "display_data"
    }
   ],
   "source": [
    "plt.hist(df.Time,edgecolor='black')\n",
    "plt.grid(True)\n",
    "plt.xlabel('Time in sec')\n",
    "plt.title('Distribution of time elapsed',fontsize=20)\n",
    "plt.show()"
   ]
  },
  {
   "cell_type": "markdown",
   "metadata": {},
   "source": [
    "A general pattern is noted in transaction w.r.t to variable 'Time'. The number of transactions increases as more seconds elapses and after 86400 secs or 24\n",
    "hours it again falls and then follows the trend of previous day. Since this data is of 48 hours transactions we can compute the timepoints w.r.t to 24 hours of a single day and then divide the data according to ***4*** time frames of the day which can be classified as '***groups***'"
   ]
  },
  {
   "cell_type": "code",
   "execution_count": 15,
   "metadata": {},
   "outputs": [
    {
     "data": {
      "image/png": "[encoded data removed]",
      "text/plain": [
       "<Figure size 432x288 with 1 Axes>"
      ]
     },
     "metadata": {
      "needs_background": "light"
     },
     "output_type": "display_data"
    }
   ],
   "source": [
    "plt.hist(df.Amount,edgecolor='black')\n",
    "plt.grid(True)\n",
    "plt.xlabel('Transaction Amount')\n",
    "plt.title('Distribution of amount',fontsize=20)\n",
    "plt.show()"
   ]
  },
  {
   "cell_type": "markdown",
   "metadata": {},
   "source": [
    "The histogram of amount clearly shows that there are some outliers in the amounts which is a part of fraudulent transactions."
   ]
  },
  {
   "cell_type": "code",
   "execution_count": 16,
   "metadata": {},
   "outputs": [
    {
     "data": {
      "image/png": "[encoded data removed]",
      "text/plain": [
       "<Figure size 432x288 with 1 Axes>"
      ]
     },
     "metadata": {
      "needs_background": "light"
     },
     "output_type": "display_data"
    },
    {
     "data": {
      "image/png": "[encoded data removed]",
      "text/plain": [
       "<Figure size 432x288 with 1 Axes>"
      ]
     },
     "metadata": {
      "needs_background": "light"
     },
     "output_type": "display_data"
    }
   ],
   "source": [
    "import seaborn as sns\n",
    "\n",
    "plt.subplot(2,1,1)\n",
    "sns.boxplot(y=df.Time,x=df.Class)#,hue='blue')\n",
    "plt.show()\n",
    "plt.subplot(2,1,2)\n",
    "sns.boxplot(y=df.Amount[df.Amount<5000],x=df.Class)#,hue='blue')\n",
    "plt.show()"
   ]
  },
  {
   "cell_type": "code",
   "execution_count": 17,
   "metadata": {},
   "outputs": [
    {
     "data": {
      "text/plain": [
       "46841     0\n",
       "54018     0\n",
       "58465     0\n",
       "151296    0\n",
       "169457    0\n",
       "274771    0\n",
       "284249    0\n",
       "Name: Class, dtype: int64"
      ]
     },
     "execution_count": 17,
     "metadata": {},
     "output_type": "execute_result"
    }
   ],
   "source": [
    "df[df.Amount>10000].Class \n",
    "#There are only 7 values with amount > 10000 and all are nonfraudulent transactions"
   ]
  },
  {
   "cell_type": "code",
   "execution_count": 18,
   "metadata": {},
   "outputs": [],
   "source": [
    "#df.log_amt=np.log(df.Amount)\n",
    "#df.log_amt.fillna(0,inplace=True)\n",
    "#df.log_amt.describe()"
   ]
  },
  {
   "cell_type": "code",
   "execution_count": 19,
   "metadata": {},
   "outputs": [],
   "source": [
    "#var=[]\n",
    "#dat=df.iloc[:,1:29]\n",
    "#l=dat.columns.tolist()\n",
    "#for i in list(range(len(l))):\n",
    "#    var.append(sts.variance(dat[l[i]].values))\n",
    "#print(var)"
   ]
  },
  {
   "cell_type": "markdown",
   "metadata": {},
   "source": [
    "## Feature Engineering w.r.t Time ##"
   ]
  },
  {
   "cell_type": "code",
   "execution_count": 20,
   "metadata": {},
   "outputs": [
    {
     "data": {
      "image/png": "[encoded data removed]",
      "text/plain": [
       "<Figure size 432x288 with 1 Axes>"
      ]
     },
     "metadata": {
      "needs_background": "light"
     },
     "output_type": "display_data"
    }
   ],
   "source": [
    "df['Hour']=df.Time/3600\n",
    "plt.hist(df.Hour,edgecolor='black',bins=8)\n",
    "plt.title('Transaction counts w.r.t Hours',fontsize=16)\n",
    "plt.xlabel('Hours')\n",
    "plt.show()"
   ]
  },
  {
   "cell_type": "markdown",
   "metadata": {},
   "source": [
    "We observe a clear pattern in the data of 2-day transactions. We will now modify this 'Time' column to a time period in a single day by converting to 24 hour clocktime. "
   ]
  },
  {
   "cell_type": "code",
   "execution_count": 21,
   "metadata": {},
   "outputs": [
    {
     "data": {
      "text/plain": [
       "144786    24.000000\n",
       "144787    24.000278\n",
       "144788    24.000278\n",
       "144789    24.000278\n",
       "144790    24.000278\n",
       "            ...    \n",
       "284802    47.996111\n",
       "284803    47.996389\n",
       "284804    47.996667\n",
       "284805    47.996667\n",
       "284806    47.997778\n",
       "Name: Hour, Length: 140021, dtype: float64"
      ]
     },
     "execution_count": 21,
     "metadata": {},
     "output_type": "execute_result"
    }
   ],
   "source": [
    "df[df.Hour>=24].Hour"
   ]
  },
  {
   "cell_type": "markdown",
   "metadata": {},
   "source": [
    "Now we modify the 'Hour' column to 24:00 clocktime "
   ]
  },
  {
   "cell_type": "code",
   "execution_count": 22,
   "metadata": {},
   "outputs": [],
   "source": [
    "df['Hour']=np.where(df.Hour>=24,df.Hour-24,df.Hour)\n",
    "#if df.Hour==24 or df.Hour>24:\n",
    " #   df['Hour']=df.Hour-24\n",
    "#else:\n",
    " #   df['Hour']=df.Hour"
   ]
  },
  {
   "cell_type": "code",
   "execution_count": 23,
   "metadata": {},
   "outputs": [
    {
     "data": {
      "image/png": "[encoded data removed]",
      "text/plain": [
       "<Figure size 360x360 with 1 Axes>"
      ]
     },
     "metadata": {
      "needs_background": "light"
     },
     "output_type": "display_data"
    }
   ],
   "source": [
    "import seaborn as sns\n",
    "#fig,ax=plt.subplot(1,2)\n",
    "sns.displot(data=df,x='Hour',stat='count',bins=4,color='maroon')\n",
    "plt.title('Number of transactions w.r.t 24 hour time',fontsize=16)\n",
    "plt.show()"
   ]
  },
  {
   "cell_type": "code",
   "execution_count": 24,
   "metadata": {},
   "outputs": [
    {
     "data": {
      "text/plain": [
       "(count    23934.000000\n",
       " mean        61.247847\n",
       " std        214.570982\n",
       " min          0.000000\n",
       " 25%          5.000000\n",
       " 50%         15.115000\n",
       " 75%         46.940000\n",
       " max      18910.000000\n",
       " Name: Amount, dtype: float64,\n",
       "           Amount\n",
       " Class           \n",
       " 0      61.112550\n",
       " 1      87.227016)"
      ]
     },
     "execution_count": 24,
     "metadata": {},
     "output_type": "execute_result"
    }
   ],
   "source": [
    "df[df.Hour<6].Amount.describe(),df[df.Hour<6].pivot_table(index='Class',values='Amount',aggfunc='mean')"
   ]
  },
  {
   "cell_type": "code",
   "execution_count": 25,
   "metadata": {},
   "outputs": [
    {
     "data": {
      "text/plain": [
       "(count    70912.000000\n",
       " mean        98.249385\n",
       " std        264.057041\n",
       " min          0.000000\n",
       " 25%          7.570000\n",
       " 50%         28.300000\n",
       " 75%         89.792500\n",
       " max      12910.930000\n",
       " Name: Amount, dtype: float64,\n",
       "            Amount\n",
       " Class            \n",
       " 0       98.210138\n",
       " 1      121.795254)"
      ]
     },
     "execution_count": 25,
     "metadata": {},
     "output_type": "execute_result"
    }
   ],
   "source": [
    "df[(df.Hour>=6) & (df.Hour<12)].Amount.describe(),df[(df.Hour>=6) & (df.Hour<12)].pivot_table(index='Class',values='Amount',aggfunc='mean')"
   ]
  },
  {
   "cell_type": "code",
   "execution_count": 26,
   "metadata": {},
   "outputs": [
    {
     "data": {
      "text/plain": [
       "(count    96435.000000\n",
       " mean       102.063408\n",
       " std        276.624724\n",
       " min          0.000000\n",
       " 25%          7.335000\n",
       " 50%         26.980000\n",
       " 75%         90.000000\n",
       " max      19656.530000\n",
       " Name: Amount, dtype: float64,\n",
       "            Amount\n",
       " Class            \n",
       " 0      102.004440\n",
       " 1      144.441642)"
      ]
     },
     "execution_count": 26,
     "metadata": {},
     "output_type": "execute_result"
    }
   ],
   "source": [
    "df[(df.Hour>=12) & (df.Hour<18)].Amount.describe(),df[(df.Hour>=12) & (df.Hour<18)].pivot_table(index='Class',values='Amount',aggfunc='mean')"
   ]
  },
  {
   "cell_type": "code",
   "execution_count": 27,
   "metadata": {},
   "outputs": [
    {
     "data": {
      "text/plain": [
       "(count    93526.000000\n",
       " mean        73.638763\n",
       " std        215.146509\n",
       " min          0.000000\n",
       " 25%          3.990000\n",
       " 50%         17.210000\n",
       " 75%         62.737500\n",
       " max      25691.160000\n",
       " Name: Amount, dtype: float64,\n",
       "            Amount\n",
       " Class            \n",
       " 0       73.563367\n",
       " 1      134.351724)"
      ]
     },
     "execution_count": 27,
     "metadata": {},
     "output_type": "execute_result"
    }
   ],
   "source": [
    "df[(df.Hour>=18) & (df.Hour<=24)].Amount.describe(),df[(df.Hour>=18) & (df.Hour<=24)].pivot_table(index='Class',values='Amount',aggfunc='mean')"
   ]
  },
  {
   "cell_type": "markdown",
   "metadata": {},
   "source": [
    "****Average transaction amount for fraudulent transactions in more at all time point of the two days of observation****.\n",
    "The average amount for each 'Class' is increasing till 18 hours and from 18 to 24 hours the average amount of transaction falls w.r.t to the previous time period that is 12 to  18 hours"
   ]
  },
  {
   "cell_type": "code",
   "execution_count": 28,
   "metadata": {},
   "outputs": [
    {
     "data": {
      "image/png": "[encoded data removed]",
      "text/plain": [
       "<Figure size 864x432 with 2 Axes>"
      ]
     },
     "metadata": {
      "needs_background": "light"
     },
     "output_type": "display_data"
    }
   ],
   "source": [
    "fig, ax = plt.subplots(1, 2,figsize=(12,6))\n",
    "sns.histplot(data=df[df.Class==1],x='Hour',stat='count',color='maroon',bins=4,ax=ax[0],label='Fraud')\n",
    "ax[0].set_title('Fraud Class')\n",
    "ax[0].legend()\n",
    "sns.histplot(data=df[df.Class==0],x='Hour',stat='count',color='blue',bins=4,ax=ax[1],label='Non-fraud')\n",
    "ax[1].set_title('Non-Fraud Class')\n",
    "ax[1].legend()\n",
    "plt.suptitle('Number of transactions w.r.t clocktime',fontsize=16)\n",
    "plt.show()"
   ]
  },
  {
   "cell_type": "markdown",
   "metadata": {},
   "source": [
    "When we divide a single day into **4** time periods we observe that number of nonfraudulent transactions shows the similar pattern as that of all transactions present w.r.t 'Hour'. But in case of fraudulent transactions the count varies within range 100 to 120 and there isn't much variation."
   ]
  },
  {
   "cell_type": "code",
   "execution_count": 29,
   "metadata": {},
   "outputs": [],
   "source": [
    "#sns.displot(df[df.Class==1].Amount,color='maroon')\n",
    "#plt.show()\n",
    "#sns.displot(df[df.Class==0].Amount,color='blue')\n",
    "#plt.show()"
   ]
  },
  {
   "cell_type": "markdown",
   "metadata": {},
   "source": [
    "Since there are 4 divisions or groups made per day the histograms above are shown w.r.t ***4*** different time frames of day. For fraudulent class we observe that there is not much difference between number of transactions w.r.t to Hours. But nonfraudulent transactions shows the same overall trend in number of transactions w.r.t Hours."
   ]
  },
  {
   "cell_type": "code",
   "execution_count": 30,
   "metadata": {},
   "outputs": [
    {
     "data": {
      "text/plain": [
       "(1062, 19)"
      ]
     },
     "execution_count": 30,
     "metadata": {},
     "output_type": "execute_result"
    }
   ],
   "source": [
    "df[(df.duplicated()) & (df.Class==0)].V1.count(),df[(df.duplicated()) & (df.Class==1)].V1.count()\n",
    "#Since this is an imbalanced dataset w.r.t 'Class' we do not delete duplicate data with Class = 1 that is fraudulent transactions."
   ]
  },
  {
   "cell_type": "markdown",
   "metadata": {},
   "source": [
    "## Extracting 4 time points of the day ##"
   ]
  },
  {
   "cell_type": "code",
   "execution_count": 31,
   "metadata": {},
   "outputs": [],
   "source": [
    "def myfunc(Hour):\n",
    "    if Hour>=0 and Hour<6:\n",
    "        myvalue='night'\n",
    "    elif Hour>=6 and Hour<12:\n",
    "        myvalue='morning'\n",
    "    elif Hour>=12 and Hour<18:\n",
    "        myvalue='afternoon'\n",
    "    else:\n",
    "        myvalue='evening'\n",
    "    return myvalue"
   ]
  },
  {
   "cell_type": "code",
   "execution_count": 32,
   "metadata": {},
   "outputs": [],
   "source": [
    "df['time_day']=df.apply(lambda x: myfunc(x['Hour']), axis=1)"
   ]
  },
  {
   "cell_type": "code",
   "execution_count": 33,
   "metadata": {},
   "outputs": [],
   "source": [
    "#df.drop(['time of day'],axis=1,inplace=True)\n",
    "df.drop(['Time'],axis=1,inplace=True)"
   ]
  },
  {
   "cell_type": "code",
   "execution_count": 34,
   "metadata": {},
   "outputs": [
    {
     "data": {
      "text/plain": [
       "Index(['V1', 'V2', 'V3', 'V4', 'V5', 'V6', 'V7', 'V8', 'V9', 'V10', 'V11', 'V12', 'V13', 'V14', 'V15', 'V16', 'V17', 'V18', 'V19', 'V20', 'V21', 'V22', 'V23', 'V24', 'V25', 'V26', 'V27', 'V28', 'Amount', 'Class', 'Hour', 'time_day'], dtype='object')"
      ]
     },
     "execution_count": 34,
     "metadata": {},
     "output_type": "execute_result"
    }
   ],
   "source": [
    "df.head()\n",
    "df.columns"
   ]
  },
  {
   "cell_type": "code",
   "execution_count": 35,
   "metadata": {},
   "outputs": [],
   "source": [
    "#x=pd.Series(100*np.cumsum(var)/np.sum(var))\n",
    "#x.plot(ls='--')\n",
    "#plt.title('% cumulative variance of principal components ')\n",
    "#plt.show()"
   ]
  },
  {
   "cell_type": "code",
   "execution_count": 36,
   "metadata": {},
   "outputs": [
    {
     "data": {
      "image/png": "[encoded data removed]",
      "text/plain": [
       "<Figure size 432x288 with 1 Axes>"
      ]
     },
     "metadata": {
      "needs_background": "light"
     },
     "output_type": "display_data"
    }
   ],
   "source": [
    "sns.boxplot(y=df[df.Amount<5000].Amount,x=df[df.Amount<5000].Class)\n",
    "plt.show()"
   ]
  },
  {
   "cell_type": "code",
   "execution_count": 32,
   "metadata": {},
   "outputs": [],
   "source": [
    "#sns.boxplot(df.Amount[df.Class==1])\n",
    "#sns.boxplot(df.Amount[df.Class==0])"
   ]
  },
  {
   "cell_type": "code",
   "execution_count": 37,
   "metadata": {},
   "outputs": [
    {
     "data": {
      "text/html": [
       "<div>\n",
       "<style scoped>\n",
       "    .dataframe tbody tr th:only-of-type {\n",
       "        vertical-align: middle;\n",
       "    }\n",
       "\n",
       "    .dataframe tbody tr th {\n",
       "        vertical-align: top;\n",
       "    }\n",
       "\n",
       "    .dataframe thead tr th {\n",
       "        text-align: left;\n",
       "    }\n",
       "\n",
       "    .dataframe thead tr:last-of-type th {\n",
       "        text-align: right;\n",
       "    }\n",
       "</style>\n",
       "<table border=\"1\" class=\"dataframe\">\n",
       "  <thead>\n",
       "    <tr>\n",
       "      <th></th>\n",
       "      <th colspan=\"2\" halign=\"left\">count</th>\n",
       "      <th colspan=\"2\" halign=\"left\">sum</th>\n",
       "      <th colspan=\"2\" halign=\"left\">mean</th>\n",
       "    </tr>\n",
       "    <tr>\n",
       "      <th>Class</th>\n",
       "      <th>0</th>\n",
       "      <th>1</th>\n",
       "      <th>0</th>\n",
       "      <th>1</th>\n",
       "      <th>0</th>\n",
       "      <th>1</th>\n",
       "    </tr>\n",
       "    <tr>\n",
       "      <th>time_day</th>\n",
       "      <th></th>\n",
       "      <th></th>\n",
       "      <th></th>\n",
       "      <th></th>\n",
       "      <th></th>\n",
       "      <th></th>\n",
       "    </tr>\n",
       "  </thead>\n",
       "  <tbody>\n",
       "    <tr>\n",
       "      <th>afternoon</th>\n",
       "      <td>96301</td>\n",
       "      <td>134</td>\n",
       "      <td>9.823130e+06</td>\n",
       "      <td>19355.18</td>\n",
       "      <td>102.004440</td>\n",
       "      <td>144.441642</td>\n",
       "    </tr>\n",
       "    <tr>\n",
       "      <th>evening</th>\n",
       "      <td>93410</td>\n",
       "      <td>116</td>\n",
       "      <td>6.871554e+06</td>\n",
       "      <td>15584.80</td>\n",
       "      <td>73.563367</td>\n",
       "      <td>134.351724</td>\n",
       "    </tr>\n",
       "    <tr>\n",
       "      <th>morning</th>\n",
       "      <td>70794</td>\n",
       "      <td>118</td>\n",
       "      <td>6.952689e+06</td>\n",
       "      <td>14371.84</td>\n",
       "      <td>98.210138</td>\n",
       "      <td>121.795254</td>\n",
       "    </tr>\n",
       "    <tr>\n",
       "      <th>night</th>\n",
       "      <td>23810</td>\n",
       "      <td>124</td>\n",
       "      <td>1.455090e+06</td>\n",
       "      <td>10816.15</td>\n",
       "      <td>61.112550</td>\n",
       "      <td>87.227016</td>\n",
       "    </tr>\n",
       "  </tbody>\n",
       "</table>\n",
       "</div>"
      ],
      "text/plain": [
       "           count                sum                  mean            \n",
       "Class          0    1             0         1           0           1\n",
       "time_day                                                             \n",
       "afternoon  96301  134  9.823130e+06  19355.18  102.004440  144.441642\n",
       "evening    93410  116  6.871554e+06  15584.80   73.563367  134.351724\n",
       "morning    70794  118  6.952689e+06  14371.84   98.210138  121.795254\n",
       "night      23810  124  1.455090e+06  10816.15   61.112550   87.227016"
      ]
     },
     "execution_count": 37,
     "metadata": {},
     "output_type": "execute_result"
    }
   ],
   "source": [
    "#df.groupby(['Class']).agg({'time_day':lambda x: x.count()})\n",
    "df.pivot_table(index='time_day',columns='Class',values='Amount',aggfunc=['count','sum',np.mean])"
   ]
  },
  {
   "cell_type": "markdown",
   "metadata": {},
   "source": [
    "We observe count of fraudulent transactions is highest in **afternoon** and also total fraudulent amount is maximum in the same time period."
   ]
  },
  {
   "cell_type": "code",
   "execution_count": 38,
   "metadata": {},
   "outputs": [],
   "source": [
    "from sklearn.preprocessing import LabelEncoder\n",
    "le=LabelEncoder()\n",
    "z=pd.Series(le.fit_transform(df.time_day))"
   ]
  },
  {
   "cell_type": "code",
   "execution_count": 39,
   "metadata": {},
   "outputs": [
    {
     "data": {
      "text/plain": [
       "Index(['V1', 'V2', 'V3', 'V4', 'V5', 'V6', 'V7', 'V8', 'V9', 'V10', 'V11', 'V12', 'V13', 'V14', 'V15', 'V16', 'V17', 'V18', 'V19', 'V20', 'V21', 'V22', 'V23', 'V24', 'V25', 'V26', 'V27', 'V28', 'Amount', 'Class', 'Hour', 'time_day', 0], dtype='object')"
      ]
     },
     "execution_count": 39,
     "metadata": {},
     "output_type": "execute_result"
    }
   ],
   "source": [
    "df=pd.concat([df,z],axis=1)\n",
    "df.columns"
   ]
  },
  {
   "cell_type": "code",
   "execution_count": 40,
   "metadata": {},
   "outputs": [
    {
     "data": {
      "text/plain": [
       "Index(['V1', 'V2', 'V3', 'V4', 'V5', 'V6', 'V7', 'V8', 'V9', 'V10', 'V11', 'V12', 'V13', 'V14', 'V15', 'V16', 'V17', 'V18', 'V19', 'V20', 'V21', 'V22', 'V23', 'V24', 'V25', 'V26', 'V27', 'V28', 'Amount', 'Class', 0], dtype='object')"
      ]
     },
     "execution_count": 40,
     "metadata": {},
     "output_type": "execute_result"
    }
   ],
   "source": [
    "df.drop(['Hour','time_day'],axis=1,inplace=True)\n",
    "df.columns"
   ]
  },
  {
   "cell_type": "code",
   "execution_count": 41,
   "metadata": {},
   "outputs": [
    {
     "data": {
      "text/plain": [
       "Index(['V1', 'V2', 'V3', 'V4', 'V5', 'V6', 'V7', 'V8', 'V9', 'V10', 'V11', 'V12', 'V13', 'V14', 'V15', 'V16', 'V17', 'V18', 'V19', 'V20', 'V21', 'V22', 'V23', 'V24', 'V25', 'V26', 'V27', 'V28', 'Amount', 'Class', 'group'], dtype='object')"
      ]
     },
     "execution_count": 41,
     "metadata": {},
     "output_type": "execute_result"
    }
   ],
   "source": [
    "df.rename(columns={0:'group'},inplace=True)\n",
    "df.columns"
   ]
  },
  {
   "cell_type": "code",
   "execution_count": 42,
   "metadata": {},
   "outputs": [
    {
     "data": {
      "text/plain": [
       "Index(['V1', 'V2', 'V3', 'V4', 'V5', 'V6', 'V7', 'V8', 'V9', 'V10', 'V11', 'V12', 'V13', 'V14', 'V15', 'V16', 'V17', 'V18', 'V19', 'V20', 'V21', 'V22', 'V23', 'V24', 'V25', 'V26', 'V27', 'V28', 'Amount'], dtype='object')"
      ]
     },
     "execution_count": 42,
     "metadata": {},
     "output_type": "execute_result"
    }
   ],
   "source": [
    "df.iloc[:,:29].columns"
   ]
  },
  {
   "cell_type": "code",
   "execution_count": 43,
   "metadata": {},
   "outputs": [
    {
     "data": {
      "text/html": [
       "<div>\n",
       "<style scoped>\n",
       "    .dataframe tbody tr th:only-of-type {\n",
       "        vertical-align: middle;\n",
       "    }\n",
       "\n",
       "    .dataframe tbody tr th {\n",
       "        vertical-align: top;\n",
       "    }\n",
       "\n",
       "    .dataframe thead th {\n",
       "        text-align: right;\n",
       "    }\n",
       "</style>\n",
       "<table border=\"1\" class=\"dataframe\">\n",
       "  <thead>\n",
       "    <tr style=\"text-align: right;\">\n",
       "      <th></th>\n",
       "      <th>V1</th>\n",
       "      <th>V2</th>\n",
       "      <th>V3</th>\n",
       "      <th>V4</th>\n",
       "      <th>V5</th>\n",
       "      <th>V6</th>\n",
       "      <th>V7</th>\n",
       "      <th>V8</th>\n",
       "      <th>V9</th>\n",
       "      <th>V10</th>\n",
       "      <th>V11</th>\n",
       "      <th>V12</th>\n",
       "      <th>V13</th>\n",
       "      <th>V14</th>\n",
       "      <th>V15</th>\n",
       "      <th>V16</th>\n",
       "      <th>V17</th>\n",
       "      <th>V18</th>\n",
       "      <th>V19</th>\n",
       "      <th>V20</th>\n",
       "      <th>V21</th>\n",
       "      <th>V22</th>\n",
       "      <th>V23</th>\n",
       "      <th>V24</th>\n",
       "      <th>V25</th>\n",
       "      <th>V26</th>\n",
       "      <th>V27</th>\n",
       "      <th>V28</th>\n",
       "      <th>Amount</th>\n",
       "      <th>group</th>\n",
       "    </tr>\n",
       "  </thead>\n",
       "  <tbody>\n",
       "    <tr>\n",
       "      <th>0</th>\n",
       "      <td>-1.359807</td>\n",
       "      <td>-0.072781</td>\n",
       "      <td>2.536347</td>\n",
       "      <td>1.378155</td>\n",
       "      <td>-0.338321</td>\n",
       "      <td>0.462388</td>\n",
       "      <td>0.239599</td>\n",
       "      <td>0.098698</td>\n",
       "      <td>0.363787</td>\n",
       "      <td>0.090794</td>\n",
       "      <td>-0.551600</td>\n",
       "      <td>-0.617801</td>\n",
       "      <td>-0.991390</td>\n",
       "      <td>-0.311169</td>\n",
       "      <td>1.468177</td>\n",
       "      <td>-0.470401</td>\n",
       "      <td>0.207971</td>\n",
       "      <td>0.025791</td>\n",
       "      <td>0.403993</td>\n",
       "      <td>0.251412</td>\n",
       "      <td>-0.018307</td>\n",
       "      <td>0.277838</td>\n",
       "      <td>-0.110474</td>\n",
       "      <td>0.066928</td>\n",
       "      <td>0.128539</td>\n",
       "      <td>-0.189115</td>\n",
       "      <td>0.133558</td>\n",
       "      <td>-0.021053</td>\n",
       "      <td>149.62</td>\n",
       "      <td>3</td>\n",
       "    </tr>\n",
       "    <tr>\n",
       "      <th>1</th>\n",
       "      <td>1.191857</td>\n",
       "      <td>0.266151</td>\n",
       "      <td>0.166480</td>\n",
       "      <td>0.448154</td>\n",
       "      <td>0.060018</td>\n",
       "      <td>-0.082361</td>\n",
       "      <td>-0.078803</td>\n",
       "      <td>0.085102</td>\n",
       "      <td>-0.255425</td>\n",
       "      <td>-0.166974</td>\n",
       "      <td>1.612727</td>\n",
       "      <td>1.065235</td>\n",
       "      <td>0.489095</td>\n",
       "      <td>-0.143772</td>\n",
       "      <td>0.635558</td>\n",
       "      <td>0.463917</td>\n",
       "      <td>-0.114805</td>\n",
       "      <td>-0.183361</td>\n",
       "      <td>-0.145783</td>\n",
       "      <td>-0.069083</td>\n",
       "      <td>-0.225775</td>\n",
       "      <td>-0.638672</td>\n",
       "      <td>0.101288</td>\n",
       "      <td>-0.339846</td>\n",
       "      <td>0.167170</td>\n",
       "      <td>0.125895</td>\n",
       "      <td>-0.008983</td>\n",
       "      <td>0.014724</td>\n",
       "      <td>2.69</td>\n",
       "      <td>3</td>\n",
       "    </tr>\n",
       "    <tr>\n",
       "      <th>2</th>\n",
       "      <td>-1.358354</td>\n",
       "      <td>-1.340163</td>\n",
       "      <td>1.773209</td>\n",
       "      <td>0.379780</td>\n",
       "      <td>-0.503198</td>\n",
       "      <td>1.800499</td>\n",
       "      <td>0.791461</td>\n",
       "      <td>0.247676</td>\n",
       "      <td>-1.514654</td>\n",
       "      <td>0.207643</td>\n",
       "      <td>0.624501</td>\n",
       "      <td>0.066084</td>\n",
       "      <td>0.717293</td>\n",
       "      <td>-0.165946</td>\n",
       "      <td>2.345865</td>\n",
       "      <td>-2.890083</td>\n",
       "      <td>1.109969</td>\n",
       "      <td>-0.121359</td>\n",
       "      <td>-2.261857</td>\n",
       "      <td>0.524980</td>\n",
       "      <td>0.247998</td>\n",
       "      <td>0.771679</td>\n",
       "      <td>0.909412</td>\n",
       "      <td>-0.689281</td>\n",
       "      <td>-0.327642</td>\n",
       "      <td>-0.139097</td>\n",
       "      <td>-0.055353</td>\n",
       "      <td>-0.059752</td>\n",
       "      <td>378.66</td>\n",
       "      <td>3</td>\n",
       "    </tr>\n",
       "    <tr>\n",
       "      <th>3</th>\n",
       "      <td>-0.966272</td>\n",
       "      <td>-0.185226</td>\n",
       "      <td>1.792993</td>\n",
       "      <td>-0.863291</td>\n",
       "      <td>-0.010309</td>\n",
       "      <td>1.247203</td>\n",
       "      <td>0.237609</td>\n",
       "      <td>0.377436</td>\n",
       "      <td>-1.387024</td>\n",
       "      <td>-0.054952</td>\n",
       "      <td>-0.226487</td>\n",
       "      <td>0.178228</td>\n",
       "      <td>0.507757</td>\n",
       "      <td>-0.287924</td>\n",
       "      <td>-0.631418</td>\n",
       "      <td>-1.059647</td>\n",
       "      <td>-0.684093</td>\n",
       "      <td>1.965775</td>\n",
       "      <td>-1.232622</td>\n",
       "      <td>-0.208038</td>\n",
       "      <td>-0.108300</td>\n",
       "      <td>0.005274</td>\n",
       "      <td>-0.190321</td>\n",
       "      <td>-1.175575</td>\n",
       "      <td>0.647376</td>\n",
       "      <td>-0.221929</td>\n",
       "      <td>0.062723</td>\n",
       "      <td>0.061458</td>\n",
       "      <td>123.50</td>\n",
       "      <td>3</td>\n",
       "    </tr>\n",
       "    <tr>\n",
       "      <th>4</th>\n",
       "      <td>-1.158233</td>\n",
       "      <td>0.877737</td>\n",
       "      <td>1.548718</td>\n",
       "      <td>0.403034</td>\n",
       "      <td>-0.407193</td>\n",
       "      <td>0.095921</td>\n",
       "      <td>0.592941</td>\n",
       "      <td>-0.270533</td>\n",
       "      <td>0.817739</td>\n",
       "      <td>0.753074</td>\n",
       "      <td>-0.822843</td>\n",
       "      <td>0.538196</td>\n",
       "      <td>1.345852</td>\n",
       "      <td>-1.119670</td>\n",
       "      <td>0.175121</td>\n",
       "      <td>-0.451449</td>\n",
       "      <td>-0.237033</td>\n",
       "      <td>-0.038195</td>\n",
       "      <td>0.803487</td>\n",
       "      <td>0.408542</td>\n",
       "      <td>-0.009431</td>\n",
       "      <td>0.798278</td>\n",
       "      <td>-0.137458</td>\n",
       "      <td>0.141267</td>\n",
       "      <td>-0.206010</td>\n",
       "      <td>0.502292</td>\n",
       "      <td>0.219422</td>\n",
       "      <td>0.215153</td>\n",
       "      <td>69.99</td>\n",
       "      <td>3</td>\n",
       "    </tr>\n",
       "  </tbody>\n",
       "</table>\n",
       "</div>"
      ],
      "text/plain": [
       "         V1        V2        V3        V4        V5        V6        V7        V8        V9       V10       V11       V12       V13       V14       V15       V16       V17       V18       V19       V20       V21       V22       V23       V24       V25       V26       V27       V28  Amount  group\n",
       "0 -1.359807 -0.072781  2.536347  1.378155 -0.338321  0.462388  0.239599  0.098698  0.363787  0.090794 -0.551600 -0.617801 -0.991390 -0.311169  1.468177 -0.470401  0.207971  0.025791  0.403993  0.251412 -0.018307  0.277838 -0.110474  0.066928  0.128539 -0.189115  0.133558 -0.021053  149.62      3\n",
       "1  1.191857  0.266151  0.166480  0.448154  0.060018 -0.082361 -0.078803  0.085102 -0.255425 -0.166974  1.612727  1.065235  0.489095 -0.143772  0.635558  0.463917 -0.114805 -0.183361 -0.145783 -0.069083 -0.225775 -0.638672  0.101288 -0.339846  0.167170  0.125895 -0.008983  0.014724    2.69      3\n",
       "2 -1.358354 -1.340163  1.773209  0.379780 -0.503198  1.800499  0.791461  0.247676 -1.514654  0.207643  0.624501  0.066084  0.717293 -0.165946  2.345865 -2.890083  1.109969 -0.121359 -2.261857  0.524980  0.247998  0.771679  0.909412 -0.689281 -0.327642 -0.139097 -0.055353 -0.059752  378.66      3\n",
       "3 -0.966272 -0.185226  1.792993 -0.863291 -0.010309  1.247203  0.237609  0.377436 -1.387024 -0.054952 -0.226487  0.178228  0.507757 -0.287924 -0.631418 -1.059647 -0.684093  1.965775 -1.232622 -0.208038 -0.108300  0.005274 -0.190321 -1.175575  0.647376 -0.221929  0.062723  0.061458  123.50      3\n",
       "4 -1.158233  0.877737  1.548718  0.403034 -0.407193  0.095921  0.592941 -0.270533  0.817739  0.753074 -0.822843  0.538196  1.345852 -1.119670  0.175121 -0.451449 -0.237033 -0.038195  0.803487  0.408542 -0.009431  0.798278 -0.137458  0.141267 -0.206010  0.502292  0.219422  0.215153   69.99      3"
      ]
     },
     "execution_count": 43,
     "metadata": {},
     "output_type": "execute_result"
    }
   ],
   "source": [
    "dat=pd.concat([pd.DataFrame(df.iloc[:,:29]),df['group']],axis=1)\n",
    "dat.head()"
   ]
  },
  {
   "cell_type": "code",
   "execution_count": 44,
   "metadata": {},
   "outputs": [],
   "source": [
    "X=dat[dat.Amount<5000].values\n",
    "#from sklearn.preprocessing import MinMaxScaler\n",
    "#rs=RobustScaler()\n",
    "#rs.fit_transform(np.array(df.Amount))"
   ]
  },
  {
   "cell_type": "code",
   "execution_count": 45,
   "metadata": {},
   "outputs": [],
   "source": [
    "y=df[df.Amount<5000].Class.values"
   ]
  },
  {
   "cell_type": "code",
   "execution_count": 21,
   "metadata": {},
   "outputs": [
    {
     "data": {
      "text/plain": [
       "<Figure size 720x720 with 0 Axes>"
      ]
     },
     "metadata": {},
     "output_type": "display_data"
    },
    {
     "data": {
      "image/png": "[encoded data removed]",
      "text/plain": [
       "<Figure size 432x288 with 30 Axes>"
      ]
     },
     "metadata": {
      "needs_background": "light"
     },
     "output_type": "display_data"
    }
   ],
   "source": [
    "fig=plt.figure(figsize=(10,10))\n",
    "# create a histogram plot of each numeric variable\n",
    "ax = dat.hist(bins=50)\n",
    "# disable axis labels to avoid the clutter\n",
    "for axis in ax.flatten():\n",
    "    axis.set_xticklabels([])\n",
    "    axis.set_yticklabels([])\n",
    "# show the plot\n",
    "plt.show()"
   ]
  },
  {
   "cell_type": "code",
   "execution_count": 46,
   "metadata": {},
   "outputs": [
    {
     "data": {
      "text/plain": [
       "array([[-1.35980713e+00, -7.27811733e-02,  2.53634674e+00, ...,\n",
       "        -2.10530535e-02,  1.49620000e+02,  3.00000000e+00],\n",
       "       [ 1.19185711e+00,  2.66150712e-01,  1.66480113e-01, ...,\n",
       "         1.47241692e-02,  2.69000000e+00,  3.00000000e+00],\n",
       "       [-1.35835406e+00, -1.34016307e+00,  1.77320934e+00, ...,\n",
       "        -5.97518406e-02,  3.78660000e+02,  3.00000000e+00],\n",
       "       ...,\n",
       "       [ 1.91956501e+00, -3.01253846e-01, -3.24963981e+00, ...,\n",
       "        -2.65608286e-02,  6.78800000e+01,  1.00000000e+00],\n",
       "       [-2.40440050e-01,  5.30482513e-01,  7.02510230e-01, ...,\n",
       "         1.04532821e-01,  1.00000000e+01,  1.00000000e+00],\n",
       "       [-5.33412522e-01, -1.89733337e-01,  7.03337367e-01, ...,\n",
       "         1.36489143e-02,  2.17000000e+02,  1.00000000e+00]])"
      ]
     },
     "execution_count": 46,
     "metadata": {},
     "output_type": "execute_result"
    }
   ],
   "source": [
    "from sklearn.feature_selection import SelectKBest\n",
    "from sklearn.model_selection import train_test_split\n",
    "\n",
    "sk=SelectKBest(k='all')\n",
    "sk.fit_transform(X,y)"
   ]
  },
  {
   "cell_type": "code",
   "execution_count": 47,
   "metadata": {},
   "outputs": [
    {
     "data": {
      "text/plain": [
       "array([0.00000000e+000, 0.00000000e+000, 0.00000000e+000, 0.00000000e+000,\n",
       "       0.00000000e+000, 8.85055623e-123, 0.00000000e+000, 2.47967496e-026,\n",
       "       0.00000000e+000, 0.00000000e+000, 0.00000000e+000, 0.00000000e+000,\n",
       "       1.49112688e-002, 0.00000000e+000, 2.45059536e-002, 0.00000000e+000,\n",
       "       0.00000000e+000, 0.00000000e+000, 4.89488024e-077, 9.57618254e-030,\n",
       "       1.74234131e-104, 6.74513835e-001, 1.30741524e-001, 1.17016578e-004,\n",
       "       7.72620837e-002, 1.74909199e-002, 9.66458361e-022, 2.64193038e-007,\n",
       "       3.71405934e-004, 8.26962565e-020])"
      ]
     },
     "execution_count": 47,
     "metadata": {},
     "output_type": "execute_result"
    }
   ],
   "source": [
    "sk.pvalues_"
   ]
  },
  {
   "cell_type": "code",
   "execution_count": 48,
   "metadata": {},
   "outputs": [],
   "source": [
    "X_train,X_test,y_train,y_test=train_test_split(X,y,random_state=1,test_size=.5)"
   ]
  },
  {
   "cell_type": "code",
   "execution_count": 49,
   "metadata": {},
   "outputs": [
    {
     "name": "stdout",
     "output_type": "stream",
     "text": [
      "              precision    recall  f1-score   support\n",
      "\n",
      "           0       1.00      1.00      1.00    142123\n",
      "           1       0.96      0.83      0.89       253\n",
      "\n",
      "    accuracy                           1.00    142376\n",
      "   macro avg       0.98      0.91      0.94    142376\n",
      "weighted avg       1.00      1.00      1.00    142376\n",
      "\n",
      "Accuracy on the training set: 1.0000\n",
      "Accuracy on the test set: 0.9996\n"
     ]
    }
   ],
   "source": [
    "from sklearn.ensemble import RandomForestClassifier\n",
    "from sklearn.metrics import classification_report,accuracy_score,roc_auc_score, roc_curve, confusion_matrix\n",
    "rf=RandomForestClassifier(criterion='entropy',oob_score=True)\n",
    "rf.fit(X_train,y_train)\n",
    "ypred=rf.predict(X_test)\n",
    "print(classification_report(y_test,ypred))\n",
    "print('Accuracy on the training set: {:.4f}'.format(rf.score(X_train,y_train)))\n",
    "print('Accuracy on the test set: {:.4f}'.format(rf.score(X_test,y_test)))\n",
    "#print('Accuracy: {:.3f}'.format(accuracy_score(y_test,ypred)))"
   ]
  },
  {
   "cell_type": "code",
   "execution_count": 50,
   "metadata": {},
   "outputs": [
    {
     "name": "stdout",
     "output_type": "stream",
     "text": [
      "Accuracy score: 0.9996\n",
      "roc auc score: 0.9130\n"
     ]
    },
    {
     "data": {
      "image/png": "[encoded data removed]",
      "text/plain": [
       "<Figure size 432x288 with 1 Axes>"
      ]
     },
     "metadata": {
      "needs_background": "light"
     },
     "output_type": "display_data"
    }
   ],
   "source": [
    "probs=rf.predict_proba(X_test)[:,1]\n",
    "from sklearn.metrics import roc_auc_score, roc_curve\n",
    "false_positive_rate, true_positive_rate, threshold = roc_curve(y_test,probs)\n",
    "\n",
    "# Plot ROC curve\n",
    "#%matplotlib inline\n",
    "#import matplotlib.pyplot as plt\n",
    "print('Accuracy score: {:.4f}'.format(accuracy_score(y_test,ypred)))\n",
    "print('roc auc score: {:.4f}'.format(roc_auc_score(y_test,ypred)))\n",
    "plt.title(\"Receiver Operating Characteristic\")\n",
    "plt.plot(false_positive_rate, true_positive_rate)\n",
    "#plt.plot([0, 1], ls=\"--\")\n",
    "#plt.plot([0, 0], [1, 0] , c=\".7\"), plt.plot([1, 1] , c=\".7\")\n",
    "plt.ylabel(\"True Positive Rate\")\n",
    "plt.xlabel(\"False Positive Rate\")\n",
    "plt.show()"
   ]
  },
  {
   "cell_type": "code",
   "execution_count": 51,
   "metadata": {},
   "outputs": [
    {
     "name": "stdout",
     "output_type": "stream",
     "text": [
      "[[142114      9]\n",
      " [    44    209]]\n"
     ]
    },
    {
     "data": {
      "image/png": "[encoded data removed]",
      "text/plain": [
       "<Figure size 432x288 with 2 Axes>"
      ]
     },
     "metadata": {
      "needs_background": "light"
     },
     "output_type": "display_data"
    }
   ],
   "source": [
    "from sklearn.metrics import confusion_matrix\n",
    "cnf=confusion_matrix(y_test,ypred)\n",
    "print(cnf)\n",
    "sns.heatmap(cnf,annot=True,cmap='Blues')\n",
    "plt.show()"
   ]
  },
  {
   "cell_type": "code",
   "execution_count": 52,
   "metadata": {},
   "outputs": [
    {
     "name": "stdout",
     "output_type": "stream",
     "text": [
      "              precision    recall  f1-score   support\n",
      "\n",
      "           0       1.00      1.00      1.00    142123\n",
      "           1       0.89      0.71      0.79       253\n",
      "\n",
      "    accuracy                           1.00    142376\n",
      "   macro avg       0.94      0.86      0.89    142376\n",
      "weighted avg       1.00      1.00      1.00    142376\n",
      "\n",
      "Accuracy on the training set: 0.999\n",
      "Accuracy on the test set: 0.999\n",
      "Accuracy: 0.999\n"
     ]
    }
   ],
   "source": [
    "from sklearn.linear_model import LogisticRegression\n",
    "from sklearn.metrics import classification_report\n",
    "reg=LogisticRegression(max_iter=1000)\n",
    "reg.fit(X_train,y_train)\n",
    "ypred1=reg.predict(X_test)\n",
    "print(classification_report(y_test,ypred1))\n",
    "print('Accuracy on the training set: {:.3f}'.format(reg.score(X_train,y_train)))\n",
    "print('Accuracy on the test set: {:.3f}'.format(reg.score(X_test,y_test)))\n",
    "print('Accuracy: {:.3f}'.format(accuracy_score(y_test,ypred1)))"
   ]
  },
  {
   "cell_type": "code",
   "execution_count": 53,
   "metadata": {},
   "outputs": [
    {
     "name": "stdout",
     "output_type": "stream",
     "text": [
      "ROC_AUC score: 0.8556503094700106\n"
     ]
    },
    {
     "data": {
      "image/png": "[encoded data removed]",
      "text/plain": [
       "<Figure size 432x288 with 1 Axes>"
      ]
     },
     "metadata": {
      "needs_background": "light"
     },
     "output_type": "display_data"
    }
   ],
   "source": [
    "probs1=reg.predict_proba(X_test)[:,1]\n",
    "from sklearn.metrics import roc_auc_score, roc_curve\n",
    "false_positive_rate, true_positive_rate, threshold = roc_curve(y_test,probs1)\n",
    "\n",
    "# Plot ROC curve\n",
    "#%matplotlib inline\n",
    "#import matplotlib.pyplot as plt\n",
    "print('ROC_AUC score: {}'.format(roc_auc_score(y_test,ypred1)))\n",
    "plt.title(\"Receiver Operating Characteristic\")\n",
    "plt.plot(false_positive_rate, true_positive_rate)\n",
    "#plt.plot([0, 1], ls=\"--\")\n",
    "#plt.plot([0, 0], [1, 0] , c=\".7\"), plt.plot([1, 1] , c=\".7\")\n",
    "plt.ylabel(\"True Positive Rate\")\n",
    "plt.xlabel(\"False Positive Rate\")\n",
    "plt.show()"
   ]
  },
  {
   "cell_type": "code",
   "execution_count": 54,
   "metadata": {},
   "outputs": [
    {
     "name": "stdout",
     "output_type": "stream",
     "text": [
      "[[142100     23]\n",
      " [    73    180]]\n"
     ]
    },
    {
     "data": {
      "image/png": "[encoded data removed]",
      "text/plain": [
       "<Figure size 432x288 with 2 Axes>"
      ]
     },
     "metadata": {
      "needs_background": "light"
     },
     "output_type": "display_data"
    }
   ],
   "source": [
    "from sklearn.metrics import confusion_matrix\n",
    "cnf=confusion_matrix(y_test,ypred1)\n",
    "print(cnf)\n",
    "sns.heatmap(cnf,annot=True,cmap='Blues')\n",
    "plt.show()"
   ]
  },
  {
   "cell_type": "code",
   "execution_count": 102,
   "metadata": {},
   "outputs": [
    {
     "data": {
      "text/plain": [
       "GridSearchCV(estimator=RandomForestClassifier(),\n",
       "             param_grid={'criterion': ['gini', 'entropy'],\n",
       "                         'oob_score': (True, False)})"
      ]
     },
     "execution_count": 102,
     "metadata": {},
     "output_type": "execute_result"
    }
   ],
   "source": [
    "#from sklearn import svm\n",
    "\n",
    "from sklearn.model_selection import GridSearchCV\n",
    "\n",
    "#iris = datasets.load_iris()\n",
    "\n",
    "parameters = {'oob_score':(True,False), 'criterion':['gini','entropy']}\n",
    "rf_clf = RandomForestClassifier()\n",
    "\n",
    "\n",
    "clf = GridSearchCV(rf_clf, parameters)\n",
    "clf.fit(X_train, y_train)"
   ]
  },
  {
   "cell_type": "code",
   "execution_count": 36,
   "metadata": {},
   "outputs": [
    {
     "data": {
      "text/plain": [
       "({'criterion': 'entropy', 'oob_score': True}, 0.9995365134017536)"
      ]
     },
     "execution_count": 36,
     "metadata": {},
     "output_type": "execute_result"
    }
   ],
   "source": [
    "clf.best_params_,clf.best_score_"
   ]
  },
  {
   "cell_type": "code",
   "execution_count": 40,
   "metadata": {},
   "outputs": [
    {
     "data": {
      "text/plain": [
       "{'mean_fit_time': array([72.8414032 , 72.91907163, 50.20299196, 50.49837279]),\n",
       " 'std_fit_time': array([3.39655745, 4.51840869, 1.43505666, 2.42457651]),\n",
       " 'mean_score_time': array([0.24706759, 0.27615576, 0.19554019, 0.23737202]),\n",
       " 'std_score_time': array([0.00599006, 0.01319495, 0.00389434, 0.014068  ]),\n",
       " 'param_criterion': masked_array(data=['gini', 'gini', 'entropy', 'entropy'],\n",
       "              mask=[False, False, False, False],\n",
       "        fill_value='?',\n",
       "             dtype=object),\n",
       " 'param_oob_score': masked_array(data=[True, False, True, False],\n",
       "              mask=[False, False, False, False],\n",
       "        fill_value='?',\n",
       "             dtype=object),\n",
       " 'params': [{'criterion': 'gini', 'oob_score': True},\n",
       "  {'criterion': 'gini', 'oob_score': False},\n",
       "  {'criterion': 'entropy', 'oob_score': True},\n",
       "  {'criterion': 'entropy', 'oob_score': False}],\n",
       " 'split0_test_score': array([0.99936798, 0.9994382 , 0.9994382 , 0.99940309]),\n",
       " 'split1_test_score': array([0.99954354, 0.99961376, 0.99954354, 0.99954354]),\n",
       " 'split2_test_score': array([0.99961376, 0.9997191 , 0.99968399, 0.99964888]),\n",
       " 'split3_test_score': array([0.99950843, 0.9994382 , 0.99950843, 0.99950843]),\n",
       " 'split4_test_score': array([0.9994733 , 0.9994733 , 0.99950841, 0.9994733 ]),\n",
       " 'mean_test_score': array([0.9995014 , 0.99953651, 0.99953651, 0.99951545]),\n",
       " 'std_test_score': array([8.12922679e-05, 1.11921874e-04, 8.12921827e-05, 8.12929069e-05]),\n",
       " 'rank_test_score': array([4, 2, 1, 3], dtype=int32)}"
      ]
     },
     "execution_count": 40,
     "metadata": {},
     "output_type": "execute_result"
    }
   ],
   "source": [
    "clf.cv_results_"
   ]
  },
  {
   "cell_type": "code",
   "execution_count": 95,
   "metadata": {},
   "outputs": [
    {
     "name": "stdout",
     "output_type": "stream",
     "text": [
      "              precision    recall  f1-score   support\n",
      "\n",
      "           0       1.00      0.98      0.99    142123\n",
      "           1       0.06      0.86      0.12       253\n",
      "\n",
      "    accuracy                           0.98    142376\n",
      "   macro avg       0.53      0.92      0.55    142376\n",
      "weighted avg       1.00      0.98      0.99    142376\n",
      "\n",
      "Accuracy on the training set: 0.999\n",
      "Accuracy on the test set: 0.999\n",
      "Accuracy: 0.977\n"
     ]
    }
   ],
   "source": [
    "from sklearn.naive_bayes import GaussianNB\n",
    "from sklearn.metrics import classification_report\n",
    "gnb=GaussianNB()\n",
    "gnb.fit(X_train,y_train)\n",
    "ypred2=gnb.predict(X_test)\n",
    "print(classification_report(y_test,ypred2))\n",
    "print('Accuracy on the training set: {:.3f}'.format(reg.score(X_train,y_train)))\n",
    "print('Accuracy on the test set: {:.3f}'.format(reg.score(X_test,y_test)))\n",
    "print('Accuracy: {:.3f}'.format(accuracy_score(y_test,ypred2)))"
   ]
  },
  {
   "cell_type": "code",
   "execution_count": 86,
   "metadata": {},
   "outputs": [
    {
     "data": {
      "image/png": "[encoded data removed]",
      "text/plain": [
       "<Figure size 432x288 with 1 Axes>"
      ]
     },
     "metadata": {
      "needs_background": "light"
     },
     "output_type": "display_data"
    }
   ],
   "source": [
    "probs2=gnb.predict_proba(X_test)[:,1]\n",
    "from sklearn.metrics import roc_auc_score, roc_curve, balanced_accuracy_score\n",
    "false_positive_rate, true_positive_rate, threshold = roc_curve(y_test,probs2)\n",
    "\n",
    "# Plot ROC curve\n",
    "#%matplotlib inline\n",
    "#import matplotlib.pyplot as plt\n",
    "\n",
    "plt.title(\"Receiver Operating Characteristic\")\n",
    "plt.plot(false_positive_rate, true_positive_rate)\n",
    "#plt.plot([0, 1], ls=\"--\")\n",
    "#plt.plot([0, 0], [1, 0] , c=\".7\"), plt.plot([1, 1] , c=\".7\")\n",
    "plt.ylabel(\"True Positive Rate\")\n",
    "plt.xlabel(\"False Positive Rate\")\n",
    "plt.show()"
   ]
  },
  {
   "cell_type": "code",
   "execution_count": 96,
   "metadata": {},
   "outputs": [
    {
     "data": {
      "text/plain": [
       "0.9194314622370051"
      ]
     },
     "execution_count": 96,
     "metadata": {},
     "output_type": "execute_result"
    }
   ],
   "source": [
    "roc_auc_score(y_test,ypred2)#,balanced_accuracy_score(y_test,ypred2)"
   ]
  },
  {
   "cell_type": "code",
   "execution_count": 97,
   "metadata": {},
   "outputs": [
    {
     "name": "stdout",
     "output_type": "stream",
     "text": [
      "[[138883   3240]\n",
      " [    35    218]]\n"
     ]
    },
    {
     "data": {
      "image/png": "[encoded data removed]",
      "text/plain": [
       "<Figure size 432x288 with 2 Axes>"
      ]
     },
     "metadata": {
      "needs_background": "light"
     },
     "output_type": "display_data"
    }
   ],
   "source": [
    "cnf=confusion_matrix(y_test,ypred2)\n",
    "print(cnf)\n",
    "sns.heatmap(cnf,annot=True,cmap='Blues')\n",
    "plt.show()"
   ]
  },
  {
   "cell_type": "code",
   "execution_count": 101,
   "metadata": {},
   "outputs": [
    {
     "name": "stdout",
     "output_type": "stream",
     "text": [
      "              precision    recall  f1-score   support\n",
      "\n",
      "           0       1.00      1.00      1.00    142123\n",
      "           1       0.72      0.78      0.75       253\n",
      "\n",
      "    accuracy                           1.00    142376\n",
      "   macro avg       0.86      0.89      0.87    142376\n",
      "weighted avg       1.00      1.00      1.00    142376\n",
      "\n",
      "Accuracy on the training set: 1.000\n",
      "Accuracy on the test set: 0.999\n",
      "Accuracy: 0.999\n"
     ]
    }
   ],
   "source": [
    "from sklearn.tree import DecisionTreeClassifier\n",
    "from sklearn.metrics import classification_report\n",
    "dtc=DecisionTreeClassifier(max_features='auto')\n",
    "dtc.fit(X_train,y_train)\n",
    "ypred3=dtc.predict(X_test)\n",
    "print(classification_report(y_test,ypred3))\n",
    "print('Accuracy on the training set: {:.3f}'.format(dtc.score(X_train,y_train)))\n",
    "print('Accuracy on the test set: {:.3f}'.format(dtc.score(X_test,y_test)))\n",
    "print('Accuracy: {:.3f}'.format(accuracy_score(y_test,ypred3)))"
   ]
  },
  {
   "cell_type": "code",
   "execution_count": 102,
   "metadata": {},
   "outputs": [
    {
     "data": {
      "image/png": "[encoded data removed]",
      "text/plain": [
       "<Figure size 432x288 with 1 Axes>"
      ]
     },
     "metadata": {
      "needs_background": "light"
     },
     "output_type": "display_data"
    }
   ],
   "source": [
    "probs3=dtc.predict_proba(X_test)[:,1]\n",
    "from sklearn.metrics import roc_auc_score, roc_curve, balanced_accuracy_score\n",
    "false_positive_rate, true_positive_rate, threshold = roc_curve(y_test,probs3)\n",
    "\n",
    "# Plot ROC curve\n",
    "#%matplotlib inline\n",
    "#import matplotlib.pyplot as plt\n",
    "\n",
    "plt.title(\"Receiver Operating Characteristic\")\n",
    "plt.plot(false_positive_rate, true_positive_rate)\n",
    "#plt.plot([0, 1], ls=\"--\")\n",
    "#plt.plot([0, 0], [1, 0] , c=\".7\"), plt.plot([1, 1] , c=\".7\")\n",
    "plt.ylabel(\"True Positive Rate\")\n",
    "plt.xlabel(\"False Positive Rate\")\n",
    "plt.show()"
   ]
  },
  {
   "cell_type": "code",
   "execution_count": 103,
   "metadata": {},
   "outputs": [
    {
     "data": {
      "text/plain": [
       "0.88906068920594"
      ]
     },
     "execution_count": 103,
     "metadata": {},
     "output_type": "execute_result"
    }
   ],
   "source": [
    "roc_auc_score(y_test,ypred3)"
   ]
  },
  {
   "cell_type": "code",
   "execution_count": 92,
   "metadata": {},
   "outputs": [
    {
     "data": {
      "text/plain": [
       "GridSearchCV(estimator=DecisionTreeClassifier(),\n",
       "             param_grid={'criterion': ['gini', 'entropy'],\n",
       "                         'max_features': ('auto', 'log2', 'sqrt')})"
      ]
     },
     "execution_count": 92,
     "metadata": {},
     "output_type": "execute_result"
    }
   ],
   "source": [
    "from sklearn import svm\n",
    "from sklearn.model_selection import GridSearchCV\n",
    "#iris = datasets.load_iris()\n",
    "\n",
    "parameters = {'max_features':('auto','log2','sqrt'), 'criterion':['gini','entropy']}\n",
    "dtc_clf = DecisionTreeClassifier()\n",
    "\n",
    "\n",
    "clf = GridSearchCV(dtc_clf, parameters)\n",
    "clf.fit(X_train, y_train)"
   ]
  },
  {
   "cell_type": "code",
   "execution_count": 93,
   "metadata": {},
   "outputs": [
    {
     "data": {
      "text/plain": [
       "({'criterion': 'gini', 'max_features': 'sqrt'}, 0.9991713426431698)"
      ]
     },
     "execution_count": 93,
     "metadata": {},
     "output_type": "execute_result"
    }
   ],
   "source": [
    "clf.best_params_,clf.best_score_"
   ]
  },
  {
   "cell_type": "code",
   "execution_count": 94,
   "metadata": {},
   "outputs": [
    {
     "data": {
      "text/plain": [
       "{'mean_fit_time': array([1.21108723, 1.00631728, 1.35486422, 0.80598783, 0.70348754,\n",
       "        0.74030499]),\n",
       " 'std_fit_time': array([0.20700999, 0.09811267, 0.22401447, 0.11178678, 0.11950796,\n",
       "        0.12255952]),\n",
       " 'mean_score_time': array([0.01427498, 0.0109612 , 0.01143298, 0.01019516, 0.01096487,\n",
       "        0.0100162 ]),\n",
       " 'std_score_time': array([0.00376269, 0.00019021, 0.00062009, 0.00027276, 0.00076617,\n",
       "        0.00013412]),\n",
       " 'param_criterion': masked_array(data=['gini', 'gini', 'gini', 'entropy', 'entropy',\n",
       "                    'entropy'],\n",
       "              mask=[False, False, False, False, False, False],\n",
       "        fill_value='?',\n",
       "             dtype=object),\n",
       " 'param_max_features': masked_array(data=['auto', 'log2', 'sqrt', 'auto', 'log2', 'sqrt'],\n",
       "              mask=[False, False, False, False, False, False],\n",
       "        fill_value='?',\n",
       "             dtype=object),\n",
       " 'params': [{'criterion': 'gini', 'max_features': 'auto'},\n",
       "  {'criterion': 'gini', 'max_features': 'log2'},\n",
       "  {'criterion': 'gini', 'max_features': 'sqrt'},\n",
       "  {'criterion': 'entropy', 'max_features': 'auto'},\n",
       "  {'criterion': 'entropy', 'max_features': 'log2'},\n",
       "  {'criterion': 'entropy', 'max_features': 'sqrt'}],\n",
       " 'split0_test_score': array([0.99884129, 0.99894663, 0.99912219, 0.99905197, 0.99922753,\n",
       "        0.99905197]),\n",
       " 'split1_test_score': array([0.99908708, 0.99940309, 0.99926264, 0.99922753, 0.99912219,\n",
       "        0.99912219]),\n",
       " 'split2_test_score': array([0.99891152, 0.99919242, 0.99908708, 0.99912219, 0.99908708,\n",
       "        0.99936798]),\n",
       " 'split3_test_score': array([0.99877107, 0.99894663, 0.99919242, 0.99919242, 0.9991573 ,\n",
       "        0.99898174]),\n",
       " 'split4_test_score': array([0.99912216, 0.99891148, 0.99919239, 0.99901682, 0.99908705,\n",
       "        0.99919239]),\n",
       " 'mean_test_score': array([0.99894662, 0.99908005, 0.99917134, 0.99912218, 0.99913623,\n",
       "        0.99914325]),\n",
       " 'std_test_score': array([1.36885273e-04, 1.90262631e-04, 6.12185401e-05, 8.00775829e-05,\n",
       "        5.25573661e-05, 1.32497631e-04]),\n",
       " 'rank_test_score': array([6, 5, 1, 4, 3, 2], dtype=int32)}"
      ]
     },
     "execution_count": 94,
     "metadata": {},
     "output_type": "execute_result"
    }
   ],
   "source": [
    "clf.cv_results_"
   ]
  },
  {
   "cell_type": "code",
   "execution_count": 104,
   "metadata": {},
   "outputs": [
    {
     "name": "stdout",
     "output_type": "stream",
     "text": [
      "              precision    recall  f1-score   support\n",
      "\n",
      "           0       1.00      1.00      1.00    142123\n",
      "           1       0.94      0.81      0.87       253\n",
      "\n",
      "    accuracy                           1.00    142376\n",
      "   macro avg       0.97      0.91      0.94    142376\n",
      "weighted avg       1.00      1.00      1.00    142376\n",
      "\n",
      "Accuracy on the training set: 1.000\n",
      "Accuracy on the test set: 1.000\n",
      "Accuracy: 1.000\n"
     ]
    }
   ],
   "source": [
    "from sklearn.ensemble import BaggingClassifier\n",
    "from sklearn.metrics import classification_report,accuracy_score\n",
    "bag=BaggingClassifier()\n",
    "bag.fit(X_train,y_train)\n",
    "ypred4=bag.predict(X_test)\n",
    "print(classification_report(y_test,ypred4))\n",
    "print('Accuracy on the training set: {:.3f}'.format(bag.score(X_train,y_train)))\n",
    "print('Accuracy on the test set: {:.3f}'.format(bag.score(X_test,y_test)))\n",
    "print('Accuracy: {:.3f}'.format(accuracy_score(y_test,ypred4)))"
   ]
  },
  {
   "cell_type": "code",
   "execution_count": 105,
   "metadata": {},
   "outputs": [
    {
     "data": {
      "image/png": "[encoded data removed]",
      "text/plain": [
       "<Figure size 432x288 with 1 Axes>"
      ]
     },
     "metadata": {
      "needs_background": "light"
     },
     "output_type": "display_data"
    }
   ],
   "source": [
    "probs4=bag.predict_proba(X_test)[:,1]\n",
    "from sklearn.metrics import roc_auc_score, roc_curve, balanced_accuracy_score\n",
    "false_positive_rate, true_positive_rate, threshold = roc_curve(y_test,probs4)\n",
    "\n",
    "# Plot ROC curve\n",
    "#%matplotlib inline\n",
    "#import matplotlib.pyplot as plt\n",
    "\n",
    "plt.title(\"Receiver Operating Characteristic\")\n",
    "plt.plot(false_positive_rate, true_positive_rate)\n",
    "#plt.plot([0, 1], ls=\"--\")\n",
    "#plt.plot([0, 0], [1, 0] , c=\".7\"), plt.plot([1, 1] , c=\".7\")\n",
    "plt.ylabel(\"True Positive Rate\")\n",
    "plt.xlabel(\"False Positive Rate\")\n",
    "plt.show()"
   ]
  },
  {
   "cell_type": "code",
   "execution_count": 106,
   "metadata": {},
   "outputs": [
    {
     "data": {
      "text/plain": [
       "0.9070724075530078"
      ]
     },
     "execution_count": 106,
     "metadata": {},
     "output_type": "execute_result"
    }
   ],
   "source": [
    "roc_auc_score(y_test,ypred4)#, balanced_accuracy_score(y_test,ypred4)"
   ]
  },
  {
   "cell_type": "code",
   "execution_count": 107,
   "metadata": {},
   "outputs": [
    {
     "name": "stdout",
     "output_type": "stream",
     "text": [
      "[[142111     12]\n",
      " [    47    206]]\n"
     ]
    },
    {
     "data": {
      "image/png": "[encoded data removed]",
      "text/plain": [
       "<Figure size 432x288 with 2 Axes>"
      ]
     },
     "metadata": {
      "needs_background": "light"
     },
     "output_type": "display_data"
    }
   ],
   "source": [
    "cnf=confusion_matrix(y_test,ypred4)\n",
    "print(cnf)\n",
    "sns.heatmap(cnf,annot=True,cmap='Blues')\n",
    "plt.show()"
   ]
  },
  {
   "cell_type": "code",
   "execution_count": 55,
   "metadata": {},
   "outputs": [],
   "source": [
    "from imblearn.under_sampling import RandomUnderSampler"
   ]
  },
  {
   "cell_type": "code",
   "execution_count": 56,
   "metadata": {},
   "outputs": [],
   "source": [
    "from imblearn.over_sampling import SMOTE, ADASYN, RandomOverSampler"
   ]
  },
  {
   "cell_type": "code",
   "execution_count": 57,
   "metadata": {},
   "outputs": [
    {
     "name": "stdout",
     "output_type": "stream",
     "text": [
      "Counter({0: 284260, 1: 492})\n",
      "Counter({0: 284260, 1: 284260})\n"
     ]
    }
   ],
   "source": [
    "from collections import Counter\n",
    "print(Counter(y))\n",
    "ros=RandomOverSampler(random_state=42)\n",
    "Xover, yover = ros.fit_resample(X,y)\n",
    "print(Counter(yover))"
   ]
  },
  {
   "cell_type": "code",
   "execution_count": 58,
   "metadata": {},
   "outputs": [],
   "source": [
    "X_train,X_test,y_train,y_test=train_test_split(Xover,yover,random_state=1,test_size=.3)"
   ]
  },
  {
   "cell_type": "code",
   "execution_count": 51,
   "metadata": {},
   "outputs": [
    {
     "name": "stdout",
     "output_type": "stream",
     "text": [
      "Counter({0: 284260, 1: 492})\n",
      "Counter({0: 284260, 1: 284260})\n"
     ]
    }
   ],
   "source": [
    "from collections import Counter\n",
    "print(Counter(y))\n",
    "smt=SMOTE(random_state=42)\n",
    "Xsmt, ysmt = smt.fit_resample(X,y)\n",
    "print(Counter(ysmt))"
   ]
  },
  {
   "cell_type": "code",
   "execution_count": 52,
   "metadata": {},
   "outputs": [],
   "source": [
    "#X_train,X_test,y_train,y_test=train_test_split(Xsmt,ysmt,random_state=1,test_size=.3)"
   ]
  },
  {
   "cell_type": "markdown",
   "metadata": {},
   "source": [
    "We can also try SMOTE technique instead of oversampling for class imbalance but in this case oversampling is giving better results. i have already tested the different ML models using SMOTE. So the results of ML models using RandomOverSampler is given in this notebook."
   ]
  },
  {
   "cell_type": "code",
   "execution_count": 77,
   "metadata": {},
   "outputs": [
    {
     "name": "stdout",
     "output_type": "stream",
     "text": [
      "              precision    recall  f1-score   support\n",
      "\n",
      "           0       1.00      1.00      1.00     85293\n",
      "           1       1.00      1.00      1.00     85263\n",
      "\n",
      "    accuracy                           1.00    170556\n",
      "   macro avg       1.00      1.00      1.00    170556\n",
      "weighted avg       1.00      1.00      1.00    170556\n",
      "\n",
      "Accuracy on the training set: 1.000\n",
      "Accuracy on the test set: 1.000\n"
     ]
    }
   ],
   "source": [
    "from sklearn.ensemble import RandomForestClassifier\n",
    "from sklearn.metrics import classification_report,accuracy_score,roc_auc_score, roc_curve, confusion_matrix\n",
    "rf=RandomForestClassifier(criterion='entropy',oob_score=True)\n",
    "rf.fit(X_train,y_train)\n",
    "ypred=rf.predict(X_test)\n",
    "print(classification_report(y_test,ypred))\n",
    "print('Accuracy on the training set: {:.3f}'.format(rf.score(X_train,y_train)))\n",
    "print('Accuracy on the test set: {:.3f}'.format(rf.score(X_test,y_test)))\n",
    "#print('Accuracy: {:.3f}'.format(accuracy_score(y_test,ypred)))"
   ]
  },
  {
   "cell_type": "code",
   "execution_count": 78,
   "metadata": {},
   "outputs": [
    {
     "name": "stdout",
     "output_type": "stream",
     "text": [
      "Accuracy score: 1.0000\n",
      "roc_auc score: 1.0000\n"
     ]
    },
    {
     "data": {
      "image/png": "[encoded data removed]",
      "text/plain": [
       "<Figure size 432x288 with 1 Axes>"
      ]
     },
     "metadata": {
      "needs_background": "light"
     },
     "output_type": "display_data"
    }
   ],
   "source": [
    "probs=rf.predict_proba(X_test)[:,1]\n",
    "from sklearn.metrics import roc_auc_score, roc_curve\n",
    "false_positive_rate, true_positive_rate, threshold = roc_curve(y_test,probs)\n",
    "\n",
    "# Plot ROC curve\n",
    "#%matplotlib inline\n",
    "#import matplotlib.pyplot as plt\n",
    "auc=roc_auc_score(y_test,ypred)\n",
    "print('Accuracy score: {:.4f}'.format(accuracy_score(y_test,ypred)))\n",
    "print('roc_auc score: {:.4f}'.format(roc_auc_score(y_test,ypred)))\n",
    "plt.title(\"Receiver Operating Characteristic\")\n",
    "plt.plot(false_positive_rate, true_positive_rate,label='roc_auc='+str(auc))\n",
    "plt.legend(loc=4)\n",
    "#plt.plot([0, 1], ls=\"--\")\n",
    "#plt.plot([0, 0], [1, 0] , c=\".7\"), plt.plot([1, 1] , c=\".7\")\n",
    "plt.ylabel(\"True Positive Rate\")\n",
    "plt.xlabel(\"False Positive Rate\")\n",
    "plt.show()\n",
    "#plt.savefig('roc_curve_rf.png')"
   ]
  },
  {
   "cell_type": "code",
   "execution_count": 79,
   "metadata": {},
   "outputs": [
    {
     "name": "stdout",
     "output_type": "stream",
     "text": [
      "[[85289     4]\n",
      " [    0 85263]]\n"
     ]
    },
    {
     "data": {
      "image/png": "[encoded data removed]",
      "text/plain": [
       "<Figure size 432x288 with 2 Axes>"
      ]
     },
     "metadata": {
      "needs_background": "light"
     },
     "output_type": "display_data"
    }
   ],
   "source": [
    "cnf=confusion_matrix(y_test,ypred)\n",
    "print(cnf)\n",
    "sns.heatmap(cnf,annot=True,cmap='Blues')\n",
    "plt.show()\n",
    "#plt.savefig('cnfmatrix_rfmodel.png')"
   ]
  },
  {
   "cell_type": "code",
   "execution_count": 72,
   "metadata": {},
   "outputs": [],
   "source": [
    "import pickle\n",
    "pkl_filename = \"rf_cc_model.pkl\"\n",
    "\n",
    "\n",
    "with open(pkl_filename, 'wb') as file:\n",
    "    pickle.dump(rf, file)\n"
   ]
  },
  {
   "cell_type": "code",
   "execution_count": 66,
   "metadata": {},
   "outputs": [
    {
     "name": "stderr",
     "output_type": "stream",
     "text": [
      "/Users/drgopasinha/opt/anaconda3/lib/python3.8/site-packages/sklearn/base.py:329: UserWarning: Trying to unpickle estimator DecisionTreeClassifier from version 0.23.1 when using version 0.23.2. This might lead to breaking code or invalid results. Use at your own risk.\n",
      "  warnings.warn(\n",
      "/Users/drgopasinha/opt/anaconda3/lib/python3.8/site-packages/sklearn/base.py:329: UserWarning: Trying to unpickle estimator RandomForestClassifier from version 0.23.1 when using version 0.23.2. This might lead to breaking code or invalid results. Use at your own risk.\n",
      "  warnings.warn(\n"
     ]
    }
   ],
   "source": [
    "import pickle\n",
    "with open('rf_cc_model.pkl', 'rb') as file:\n",
    "    pickle_model = pickle.load(file)\n"
   ]
  },
  {
   "cell_type": "code",
   "execution_count": 67,
   "metadata": {},
   "outputs": [
    {
     "data": {
      "text/plain": [
       "<bound method ClassifierMixin.score of RandomForestClassifier(criterion='entropy', oob_score=True)>"
      ]
     },
     "execution_count": 67,
     "metadata": {},
     "output_type": "execute_result"
    }
   ],
   "source": [
    "pickle_model.score"
   ]
  },
  {
   "cell_type": "code",
   "execution_count": 68,
   "metadata": {},
   "outputs": [
    {
     "name": "stdout",
     "output_type": "stream",
     "text": [
      "              precision    recall  f1-score   support\n",
      "\n",
      "           0       1.00      1.00      1.00     85293\n",
      "           1       1.00      1.00      1.00     85263\n",
      "\n",
      "    accuracy                           1.00    170556\n",
      "   macro avg       1.00      1.00      1.00    170556\n",
      "weighted avg       1.00      1.00      1.00    170556\n",
      "\n",
      "Accuracy on the training set: 1.0000\n",
      "Accuracy on the test set: 0.9998\n"
     ]
    }
   ],
   "source": [
    "from sklearn.tree import DecisionTreeClassifier\n",
    "dtc=DecisionTreeClassifier()#max_features=\"sqrt\")\n",
    "dtc.fit(X_train,y_train)\n",
    "ypred1=dtc.predict(X_test)\n",
    "print(classification_report(y_test,ypred1))\n",
    "print('Accuracy on the training set: {:.4f}'.format(dtc.score(X_train,y_train)))\n",
    "print('Accuracy on the test set: {:.4f}'.format(dtc.score(X_test,y_test)))"
   ]
  },
  {
   "cell_type": "code",
   "execution_count": 69,
   "metadata": {},
   "outputs": [
    {
     "name": "stdout",
     "output_type": "stream",
     "text": [
      "Accuracy: 0.9998\n",
      "roc score: 0.9998\n"
     ]
    },
    {
     "data": {
      "image/png": "[encoded data removed]",
      "text/plain": [
       "<Figure size 432x288 with 1 Axes>"
      ]
     },
     "metadata": {
      "needs_background": "light"
     },
     "output_type": "display_data"
    }
   ],
   "source": [
    "probs1=dtc.predict_proba(X_test)[:,1]\n",
    "from sklearn.metrics import roc_auc_score, roc_curve\n",
    "false_positive_rate, true_positive_rate, threshold = roc_curve(y_test,probs1)\n",
    "\n",
    "# Plot ROC curve\n",
    "#%matplotlib inline\n",
    "#import matplotlib.pyplot as plt\n",
    "print('Accuracy: {:.4f}'.format(accuracy_score(y_test,ypred1)))\n",
    "print('roc score: {:.4f}'.format(roc_auc_score(y_test,ypred1)))\n",
    "plt.title(\"Receiver Operating Characteristic\")\n",
    "plt.plot(false_positive_rate, true_positive_rate)\n",
    "#plt.plot([0, 1], ls=\"--\")\n",
    "#plt.plot([0, 0], [1, 0] , c=\".7\"), plt.plot([1, 1] , c=\".7\")\n",
    "plt.ylabel(\"True Positive Rate\")\n",
    "plt.xlabel(\"False Positive Rate\")\n",
    "plt.show()"
   ]
  },
  {
   "cell_type": "code",
   "execution_count": 70,
   "metadata": {},
   "outputs": [
    {
     "name": "stdout",
     "output_type": "stream",
     "text": [
      "[[85255    38]\n",
      " [    0 85263]]\n"
     ]
    },
    {
     "data": {
      "image/png": "[encoded data removed]",
      "text/plain": [
       "<Figure size 432x288 with 2 Axes>"
      ]
     },
     "metadata": {
      "needs_background": "light"
     },
     "output_type": "display_data"
    }
   ],
   "source": [
    "cnf=confusion_matrix(y_test,ypred1)\n",
    "print(cnf)\n",
    "sns.heatmap(cnf,annot=True,cmap='Blues')\n",
    "plt.show()"
   ]
  },
  {
   "cell_type": "markdown",
   "metadata": {},
   "source": [
    "RandomForestClassifier is performing better than the decision tree model."
   ]
  },
  {
   "cell_type": "code",
   "execution_count": 71,
   "metadata": {},
   "outputs": [
    {
     "name": "stdout",
     "output_type": "stream",
     "text": [
      "              precision    recall  f1-score   support\n",
      "\n",
      "           0       1.00      1.00      1.00     85293\n",
      "           1       1.00      1.00      1.00     85263\n",
      "\n",
      "    accuracy                           1.00    170556\n",
      "   macro avg       1.00      1.00      1.00    170556\n",
      "weighted avg       1.00      1.00      1.00    170556\n",
      "\n",
      "Accuracy on the training set: 1.0000\n",
      "Accuracy on the test set: 1.0000\n"
     ]
    }
   ],
   "source": [
    "from xgboost import XGBClassifier\n",
    "ada=XGBClassifier()\n",
    "ada.fit(X_train, y_train)\n",
    "ypred2=ada.predict(X_test)\n",
    "print(classification_report(y_test,ypred2))\n",
    "print('Accuracy on the training set: {:.4f}'.format(ada.score(X_train,y_train)))\n",
    "print('Accuracy on the test set: {:.4f}'.format(ada.score(X_test,y_test)))"
   ]
  },
  {
   "cell_type": "code",
   "execution_count": 72,
   "metadata": {},
   "outputs": [
    {
     "name": "stdout",
     "output_type": "stream",
     "text": [
      "Accuracy: 1.0000\n",
      "roc score: 1.0000\n"
     ]
    },
    {
     "data": {
      "image/png": "[encoded data removed]",
      "text/plain": [
       "<Figure size 432x288 with 1 Axes>"
      ]
     },
     "metadata": {
      "needs_background": "light"
     },
     "output_type": "display_data"
    }
   ],
   "source": [
    "probs2=ada.predict_proba(X_test)[:,1]\n",
    "from sklearn.metrics import roc_auc_score, roc_curve\n",
    "false_positive_rate, true_positive_rate, threshold = roc_curve(y_test,probs2)\n",
    "\n",
    "# Plot ROC curve\n",
    "#%matplotlib inline\n",
    "#import matplotlib.pyplot as plt\n",
    "auc=roc_auc_score(y_test,ypred2)\n",
    "print('Accuracy: {:.4f}'.format(accuracy_score(y_test,ypred2)))\n",
    "print('roc score: {:.4f}'.format(roc_auc_score(y_test,ypred2)))\n",
    "plt.title(\"Receiver Operating Characteristic\")\n",
    "plt.plot(false_positive_rate, true_positive_rate,label='roc_auc='+str(auc),color='red')\n",
    "plt.legend()\n",
    "#plt.plot([0, 1], ls=\"--\")\n",
    "#plt.plot([0, 0], [1, 0] , c=\".7\"), plt.plot([1, 1] , c=\".7\")\n",
    "plt.ylabel(\"True Positive Rate\")\n",
    "plt.xlabel(\"False Positive Rate\")\n",
    "plt.show()"
   ]
  },
  {
   "cell_type": "code",
   "execution_count": 73,
   "metadata": {},
   "outputs": [
    {
     "name": "stdout",
     "output_type": "stream",
     "text": [
      "[[85286     7]\n",
      " [    0 85263]]\n"
     ]
    },
    {
     "data": {
      "image/png": "[encoded data removed]",
      "text/plain": [
       "<Figure size 432x288 with 2 Axes>"
      ]
     },
     "metadata": {
      "needs_background": "light"
     },
     "output_type": "display_data"
    }
   ],
   "source": [
    "cnf=confusion_matrix(y_test,ypred2)\n",
    "print(cnf)\n",
    "sns.heatmap(cnf,annot=True,cmap='Blues')\n",
    "plt.show()"
   ]
  },
  {
   "cell_type": "markdown",
   "metadata": {},
   "source": [
    "XGBClassifier is also a good model. but for the RandomForest Classifier we were getting lesser False Positives. In general ensemble methods are giving better accuracy and roc_auc score."
   ]
  },
  {
   "cell_type": "code",
   "execution_count": 74,
   "metadata": {},
   "outputs": [
    {
     "name": "stdout",
     "output_type": "stream",
     "text": [
      "Learning rate set to 0.13276\n",
      "0:\tlearn: 0.4589123\ttotal: 262ms\tremaining: 4m 21s\n",
      "1:\tlearn: 0.3316982\ttotal: 403ms\tremaining: 3m 21s\n",
      "2:\tlearn: 0.2419141\ttotal: 560ms\tremaining: 3m 6s\n",
      "3:\tlearn: 0.1969998\ttotal: 701ms\tremaining: 2m 54s\n",
      "4:\tlearn: 0.1580606\ttotal: 853ms\tremaining: 2m 49s\n",
      "5:\tlearn: 0.1406413\ttotal: 984ms\tremaining: 2m 42s\n",
      "6:\tlearn: 0.1219675\ttotal: 1.13s\tremaining: 2m 40s\n",
      "7:\tlearn: 0.1075802\ttotal: 1.26s\tremaining: 2m 35s\n",
      "8:\tlearn: 0.0991660\ttotal: 1.39s\tremaining: 2m 33s\n",
      "9:\tlearn: 0.0892951\ttotal: 1.52s\tremaining: 2m 31s\n",
      "10:\tlearn: 0.0826719\ttotal: 1.67s\tremaining: 2m 30s\n",
      "11:\tlearn: 0.0786608\ttotal: 1.83s\tremaining: 2m 30s\n",
      "12:\tlearn: 0.0740008\ttotal: 1.97s\tremaining: 2m 29s\n",
      "13:\tlearn: 0.0701684\ttotal: 2.12s\tremaining: 2m 29s\n",
      "14:\tlearn: 0.0668388\ttotal: 2.27s\tremaining: 2m 28s\n",
      "15:\tlearn: 0.0620581\ttotal: 2.39s\tremaining: 2m 27s\n",
      "16:\tlearn: 0.0602466\ttotal: 2.53s\tremaining: 2m 26s\n",
      "17:\tlearn: 0.0573812\ttotal: 2.7s\tremaining: 2m 27s\n",
      "18:\tlearn: 0.0537016\ttotal: 2.86s\tremaining: 2m 27s\n",
      "19:\tlearn: 0.0516087\ttotal: 2.99s\tremaining: 2m 26s\n",
      "20:\tlearn: 0.0493838\ttotal: 3.13s\tremaining: 2m 25s\n",
      "21:\tlearn: 0.0466925\ttotal: 3.29s\tremaining: 2m 26s\n",
      "22:\tlearn: 0.0440009\ttotal: 3.46s\tremaining: 2m 27s\n",
      "23:\tlearn: 0.0417189\ttotal: 3.62s\tremaining: 2m 27s\n",
      "24:\tlearn: 0.0402929\ttotal: 3.78s\tremaining: 2m 27s\n",
      "25:\tlearn: 0.0377044\ttotal: 3.93s\tremaining: 2m 27s\n",
      "26:\tlearn: 0.0362733\ttotal: 4.07s\tremaining: 2m 26s\n",
      "27:\tlearn: 0.0353822\ttotal: 4.18s\tremaining: 2m 25s\n",
      "28:\tlearn: 0.0342681\ttotal: 4.3s\tremaining: 2m 24s\n",
      "29:\tlearn: 0.0331749\ttotal: 4.43s\tremaining: 2m 23s\n",
      "30:\tlearn: 0.0321749\ttotal: 4.57s\tremaining: 2m 22s\n",
      "31:\tlearn: 0.0310019\ttotal: 4.7s\tremaining: 2m 22s\n",
      "32:\tlearn: 0.0291447\ttotal: 4.84s\tremaining: 2m 21s\n",
      "33:\tlearn: 0.0283845\ttotal: 5s\tremaining: 2m 21s\n",
      "34:\tlearn: 0.0269348\ttotal: 5.14s\tremaining: 2m 21s\n",
      "35:\tlearn: 0.0264594\ttotal: 5.27s\tremaining: 2m 21s\n",
      "36:\tlearn: 0.0248697\ttotal: 5.42s\tremaining: 2m 20s\n",
      "37:\tlearn: 0.0236408\ttotal: 5.54s\tremaining: 2m 20s\n",
      "38:\tlearn: 0.0228746\ttotal: 5.7s\tremaining: 2m 20s\n",
      "39:\tlearn: 0.0222972\ttotal: 5.81s\tremaining: 2m 19s\n",
      "40:\tlearn: 0.0216282\ttotal: 5.94s\tremaining: 2m 18s\n",
      "41:\tlearn: 0.0209009\ttotal: 6.08s\tremaining: 2m 18s\n",
      "42:\tlearn: 0.0200370\ttotal: 6.24s\tremaining: 2m 18s\n",
      "43:\tlearn: 0.0194026\ttotal: 6.39s\tremaining: 2m 18s\n",
      "44:\tlearn: 0.0189921\ttotal: 6.55s\tremaining: 2m 18s\n",
      "45:\tlearn: 0.0185403\ttotal: 6.67s\tremaining: 2m 18s\n",
      "46:\tlearn: 0.0178015\ttotal: 6.82s\tremaining: 2m 18s\n",
      "47:\tlearn: 0.0173639\ttotal: 6.95s\tremaining: 2m 17s\n",
      "48:\tlearn: 0.0168542\ttotal: 7.08s\tremaining: 2m 17s\n",
      "49:\tlearn: 0.0162738\ttotal: 7.22s\tremaining: 2m 17s\n",
      "50:\tlearn: 0.0156643\ttotal: 7.39s\tremaining: 2m 17s\n",
      "51:\tlearn: 0.0153617\ttotal: 7.55s\tremaining: 2m 17s\n",
      "52:\tlearn: 0.0147361\ttotal: 7.71s\tremaining: 2m 17s\n",
      "53:\tlearn: 0.0143129\ttotal: 7.87s\tremaining: 2m 17s\n",
      "54:\tlearn: 0.0138639\ttotal: 8.02s\tremaining: 2m 17s\n",
      "55:\tlearn: 0.0132646\ttotal: 8.13s\tremaining: 2m 17s\n",
      "56:\tlearn: 0.0128447\ttotal: 8.28s\tremaining: 2m 17s\n",
      "57:\tlearn: 0.0124454\ttotal: 8.42s\tremaining: 2m 16s\n",
      "58:\tlearn: 0.0120644\ttotal: 8.61s\tremaining: 2m 17s\n",
      "59:\tlearn: 0.0116901\ttotal: 8.76s\tremaining: 2m 17s\n",
      "60:\tlearn: 0.0113050\ttotal: 8.91s\tremaining: 2m 17s\n",
      "61:\tlearn: 0.0107289\ttotal: 9.03s\tremaining: 2m 16s\n",
      "62:\tlearn: 0.0105521\ttotal: 9.16s\tremaining: 2m 16s\n",
      "63:\tlearn: 0.0103623\ttotal: 9.32s\tremaining: 2m 16s\n",
      "64:\tlearn: 0.0101066\ttotal: 9.51s\tremaining: 2m 16s\n",
      "65:\tlearn: 0.0100074\ttotal: 9.76s\tremaining: 2m 18s\n",
      "66:\tlearn: 0.0094705\ttotal: 10.1s\tremaining: 2m 21s\n",
      "67:\tlearn: 0.0092729\ttotal: 10.3s\tremaining: 2m 20s\n",
      "68:\tlearn: 0.0090185\ttotal: 10.4s\tremaining: 2m 20s\n",
      "69:\tlearn: 0.0088757\ttotal: 10.6s\tremaining: 2m 20s\n",
      "70:\tlearn: 0.0086969\ttotal: 10.7s\tremaining: 2m 20s\n",
      "71:\tlearn: 0.0084530\ttotal: 10.8s\tremaining: 2m 19s\n",
      "72:\tlearn: 0.0083014\ttotal: 11s\tremaining: 2m 19s\n",
      "73:\tlearn: 0.0081584\ttotal: 11.1s\tremaining: 2m 18s\n",
      "74:\tlearn: 0.0080043\ttotal: 11.3s\tremaining: 2m 18s\n",
      "75:\tlearn: 0.0078907\ttotal: 11.4s\tremaining: 2m 18s\n",
      "76:\tlearn: 0.0075755\ttotal: 11.5s\tremaining: 2m 18s\n",
      "77:\tlearn: 0.0074636\ttotal: 11.7s\tremaining: 2m 18s\n",
      "78:\tlearn: 0.0073381\ttotal: 11.9s\tremaining: 2m 18s\n",
      "79:\tlearn: 0.0071268\ttotal: 12s\tremaining: 2m 18s\n",
      "80:\tlearn: 0.0069197\ttotal: 12.2s\tremaining: 2m 18s\n",
      "81:\tlearn: 0.0068488\ttotal: 12.4s\tremaining: 2m 18s\n",
      "82:\tlearn: 0.0067532\ttotal: 12.6s\tremaining: 2m 18s\n",
      "83:\tlearn: 0.0064588\ttotal: 12.7s\tremaining: 2m 18s\n",
      "84:\tlearn: 0.0063669\ttotal: 12.9s\tremaining: 2m 18s\n",
      "85:\tlearn: 0.0061622\ttotal: 13s\tremaining: 2m 18s\n",
      "86:\tlearn: 0.0060869\ttotal: 13.1s\tremaining: 2m 17s\n",
      "87:\tlearn: 0.0060575\ttotal: 13.3s\tremaining: 2m 17s\n",
      "88:\tlearn: 0.0059544\ttotal: 13.4s\tremaining: 2m 17s\n",
      "89:\tlearn: 0.0058782\ttotal: 13.5s\tremaining: 2m 16s\n",
      "90:\tlearn: 0.0057780\ttotal: 13.7s\tremaining: 2m 16s\n",
      "91:\tlearn: 0.0057644\ttotal: 13.8s\tremaining: 2m 16s\n",
      "92:\tlearn: 0.0056115\ttotal: 14s\tremaining: 2m 16s\n",
      "93:\tlearn: 0.0055581\ttotal: 14.2s\tremaining: 2m 16s\n",
      "94:\tlearn: 0.0054373\ttotal: 14.4s\tremaining: 2m 16s\n",
      "95:\tlearn: 0.0053276\ttotal: 14.5s\tremaining: 2m 16s\n",
      "96:\tlearn: 0.0052740\ttotal: 14.6s\tremaining: 2m 16s\n",
      "97:\tlearn: 0.0051877\ttotal: 14.8s\tremaining: 2m 16s\n",
      "98:\tlearn: 0.0050899\ttotal: 15s\tremaining: 2m 16s\n",
      "99:\tlearn: 0.0049806\ttotal: 15.1s\tremaining: 2m 16s\n",
      "100:\tlearn: 0.0049208\ttotal: 15.3s\tremaining: 2m 15s\n",
      "101:\tlearn: 0.0048754\ttotal: 15.4s\tremaining: 2m 15s\n",
      "102:\tlearn: 0.0047986\ttotal: 15.5s\tremaining: 2m 15s\n",
      "103:\tlearn: 0.0047235\ttotal: 15.7s\tremaining: 2m 15s\n",
      "104:\tlearn: 0.0046522\ttotal: 15.8s\tremaining: 2m 15s\n",
      "105:\tlearn: 0.0046103\ttotal: 16s\tremaining: 2m 14s\n",
      "106:\tlearn: 0.0045407\ttotal: 16.1s\tremaining: 2m 14s\n",
      "107:\tlearn: 0.0044770\ttotal: 16.3s\tremaining: 2m 14s\n",
      "108:\tlearn: 0.0043684\ttotal: 16.4s\tremaining: 2m 14s\n",
      "109:\tlearn: 0.0043166\ttotal: 16.6s\tremaining: 2m 14s\n",
      "110:\tlearn: 0.0041994\ttotal: 16.7s\tremaining: 2m 14s\n",
      "111:\tlearn: 0.0041484\ttotal: 16.8s\tremaining: 2m 13s\n",
      "112:\tlearn: 0.0040949\ttotal: 17s\tremaining: 2m 13s\n",
      "113:\tlearn: 0.0040561\ttotal: 17.1s\tremaining: 2m 13s\n",
      "114:\tlearn: 0.0039935\ttotal: 17.3s\tremaining: 2m 12s\n",
      "115:\tlearn: 0.0039519\ttotal: 17.4s\tremaining: 2m 12s\n",
      "116:\tlearn: 0.0038756\ttotal: 17.6s\tremaining: 2m 12s\n",
      "117:\tlearn: 0.0038401\ttotal: 17.7s\tremaining: 2m 12s\n",
      "118:\tlearn: 0.0038174\ttotal: 17.9s\tremaining: 2m 12s\n",
      "119:\tlearn: 0.0037923\ttotal: 18s\tremaining: 2m 12s\n",
      "120:\tlearn: 0.0037233\ttotal: 18.2s\tremaining: 2m 12s\n",
      "121:\tlearn: 0.0036809\ttotal: 18.3s\tremaining: 2m 11s\n",
      "122:\tlearn: 0.0036119\ttotal: 18.5s\tremaining: 2m 11s\n",
      "123:\tlearn: 0.0035810\ttotal: 18.6s\tremaining: 2m 11s\n",
      "124:\tlearn: 0.0035809\ttotal: 18.7s\tremaining: 2m 10s\n",
      "125:\tlearn: 0.0035398\ttotal: 18.8s\tremaining: 2m 10s\n",
      "126:\tlearn: 0.0034897\ttotal: 18.9s\tremaining: 2m 10s\n",
      "127:\tlearn: 0.0034747\ttotal: 19.1s\tremaining: 2m 9s\n",
      "128:\tlearn: 0.0033953\ttotal: 19.3s\tremaining: 2m 10s\n",
      "129:\tlearn: 0.0033475\ttotal: 19.4s\tremaining: 2m 10s\n",
      "130:\tlearn: 0.0033179\ttotal: 19.6s\tremaining: 2m 9s\n",
      "131:\tlearn: 0.0032838\ttotal: 19.7s\tremaining: 2m 9s\n",
      "132:\tlearn: 0.0032506\ttotal: 19.9s\tremaining: 2m 9s\n",
      "133:\tlearn: 0.0032505\ttotal: 20s\tremaining: 2m 9s\n",
      "134:\tlearn: 0.0032505\ttotal: 20.1s\tremaining: 2m 8s\n",
      "135:\tlearn: 0.0032505\ttotal: 20.2s\tremaining: 2m 8s\n",
      "136:\tlearn: 0.0032505\ttotal: 20.3s\tremaining: 2m 7s\n",
      "137:\tlearn: 0.0032168\ttotal: 20.4s\tremaining: 2m 7s\n",
      "138:\tlearn: 0.0031658\ttotal: 20.6s\tremaining: 2m 7s\n",
      "139:\tlearn: 0.0031501\ttotal: 20.8s\tremaining: 2m 7s\n",
      "140:\tlearn: 0.0030984\ttotal: 21.1s\tremaining: 2m 8s\n",
      "141:\tlearn: 0.0030038\ttotal: 21.3s\tremaining: 2m 8s\n",
      "142:\tlearn: 0.0029604\ttotal: 21.4s\tremaining: 2m 8s\n",
      "143:\tlearn: 0.0029195\ttotal: 21.6s\tremaining: 2m 8s\n",
      "144:\tlearn: 0.0028826\ttotal: 21.8s\tremaining: 2m 8s\n",
      "145:\tlearn: 0.0028122\ttotal: 21.9s\tremaining: 2m 8s\n",
      "146:\tlearn: 0.0027774\ttotal: 22.1s\tremaining: 2m 8s\n",
      "147:\tlearn: 0.0027379\ttotal: 22.2s\tremaining: 2m 8s\n",
      "148:\tlearn: 0.0026948\ttotal: 22.4s\tremaining: 2m 7s\n",
      "149:\tlearn: 0.0026572\ttotal: 22.5s\tremaining: 2m 7s\n",
      "150:\tlearn: 0.0026329\ttotal: 22.7s\tremaining: 2m 7s\n",
      "151:\tlearn: 0.0025784\ttotal: 22.8s\tremaining: 2m 7s\n",
      "152:\tlearn: 0.0025318\ttotal: 23s\tremaining: 2m 7s\n",
      "153:\tlearn: 0.0025091\ttotal: 23.1s\tremaining: 2m 6s\n",
      "154:\tlearn: 0.0024725\ttotal: 23.2s\tremaining: 2m 6s\n",
      "155:\tlearn: 0.0024595\ttotal: 23.4s\tremaining: 2m 6s\n",
      "156:\tlearn: 0.0024360\ttotal: 23.5s\tremaining: 2m 6s\n",
      "157:\tlearn: 0.0024003\ttotal: 23.7s\tremaining: 2m 6s\n",
      "158:\tlearn: 0.0023824\ttotal: 23.9s\tremaining: 2m 6s\n",
      "159:\tlearn: 0.0023499\ttotal: 24.1s\tremaining: 2m 6s\n",
      "160:\tlearn: 0.0023418\ttotal: 24.2s\tremaining: 2m 6s\n",
      "161:\tlearn: 0.0023418\ttotal: 24.3s\tremaining: 2m 5s\n",
      "162:\tlearn: 0.0022985\ttotal: 24.5s\tremaining: 2m 5s\n",
      "163:\tlearn: 0.0022985\ttotal: 24.6s\tremaining: 2m 5s\n",
      "164:\tlearn: 0.0022777\ttotal: 24.8s\tremaining: 2m 5s\n",
      "165:\tlearn: 0.0022777\ttotal: 24.9s\tremaining: 2m 4s\n",
      "166:\tlearn: 0.0022777\ttotal: 24.9s\tremaining: 2m 4s\n",
      "167:\tlearn: 0.0022509\ttotal: 25.1s\tremaining: 2m 4s\n",
      "168:\tlearn: 0.0022270\ttotal: 25.2s\tremaining: 2m 3s\n",
      "169:\tlearn: 0.0021826\ttotal: 25.4s\tremaining: 2m 3s\n",
      "170:\tlearn: 0.0021825\ttotal: 25.5s\tremaining: 2m 3s\n",
      "171:\tlearn: 0.0021825\ttotal: 25.5s\tremaining: 2m 2s\n",
      "172:\tlearn: 0.0021825\ttotal: 25.7s\tremaining: 2m 2s\n",
      "173:\tlearn: 0.0021824\ttotal: 25.7s\tremaining: 2m 2s\n",
      "174:\tlearn: 0.0021824\ttotal: 25.8s\tremaining: 2m 1s\n",
      "175:\tlearn: 0.0021824\ttotal: 26s\tremaining: 2m 1s\n",
      "176:\tlearn: 0.0021824\ttotal: 26.1s\tremaining: 2m 1s\n",
      "177:\tlearn: 0.0021824\ttotal: 26.2s\tremaining: 2m\n",
      "178:\tlearn: 0.0021824\ttotal: 26.3s\tremaining: 2m\n",
      "179:\tlearn: 0.0021824\ttotal: 26.4s\tremaining: 2m\n",
      "180:\tlearn: 0.0021823\ttotal: 26.5s\tremaining: 2m\n",
      "181:\tlearn: 0.0021823\ttotal: 26.6s\tremaining: 1m 59s\n",
      "182:\tlearn: 0.0021823\ttotal: 26.7s\tremaining: 1m 59s\n",
      "183:\tlearn: 0.0021823\ttotal: 26.8s\tremaining: 1m 58s\n",
      "184:\tlearn: 0.0021822\ttotal: 26.9s\tremaining: 1m 58s\n",
      "185:\tlearn: 0.0021822\ttotal: 27s\tremaining: 1m 58s\n",
      "186:\tlearn: 0.0021822\ttotal: 27.2s\tremaining: 1m 58s\n",
      "187:\tlearn: 0.0021822\ttotal: 27.2s\tremaining: 1m 57s\n",
      "188:\tlearn: 0.0021822\ttotal: 27.4s\tremaining: 1m 57s\n",
      "189:\tlearn: 0.0021821\ttotal: 27.4s\tremaining: 1m 57s\n",
      "190:\tlearn: 0.0021821\ttotal: 27.6s\tremaining: 1m 56s\n",
      "191:\tlearn: 0.0021820\ttotal: 27.6s\tremaining: 1m 56s\n",
      "192:\tlearn: 0.0021820\ttotal: 27.8s\tremaining: 1m 56s\n",
      "193:\tlearn: 0.0021820\ttotal: 27.9s\tremaining: 1m 55s\n",
      "194:\tlearn: 0.0021818\ttotal: 28s\tremaining: 1m 55s\n",
      "195:\tlearn: 0.0021818\ttotal: 28.1s\tremaining: 1m 55s\n",
      "196:\tlearn: 0.0021818\ttotal: 28.2s\tremaining: 1m 54s\n",
      "197:\tlearn: 0.0021818\ttotal: 28.3s\tremaining: 1m 54s\n",
      "198:\tlearn: 0.0021623\ttotal: 28.4s\tremaining: 1m 54s\n",
      "199:\tlearn: 0.0021432\ttotal: 28.6s\tremaining: 1m 54s\n",
      "200:\tlearn: 0.0021173\ttotal: 28.7s\tremaining: 1m 54s\n",
      "201:\tlearn: 0.0021173\ttotal: 28.8s\tremaining: 1m 53s\n",
      "202:\tlearn: 0.0020899\ttotal: 28.9s\tremaining: 1m 53s\n",
      "203:\tlearn: 0.0020899\ttotal: 29s\tremaining: 1m 53s\n",
      "204:\tlearn: 0.0020899\ttotal: 29.2s\tremaining: 1m 53s\n",
      "205:\tlearn: 0.0020899\ttotal: 29.2s\tremaining: 1m 52s\n",
      "206:\tlearn: 0.0020899\ttotal: 29.4s\tremaining: 1m 52s\n",
      "207:\tlearn: 0.0020899\ttotal: 29.4s\tremaining: 1m 52s\n",
      "208:\tlearn: 0.0020899\ttotal: 29.5s\tremaining: 1m 51s\n",
      "209:\tlearn: 0.0020899\ttotal: 29.7s\tremaining: 1m 51s\n",
      "210:\tlearn: 0.0020899\ttotal: 29.7s\tremaining: 1m 51s\n",
      "211:\tlearn: 0.0020899\ttotal: 29.8s\tremaining: 1m 50s\n",
      "212:\tlearn: 0.0020899\ttotal: 29.9s\tremaining: 1m 50s\n",
      "213:\tlearn: 0.0020899\ttotal: 30s\tremaining: 1m 50s\n",
      "214:\tlearn: 0.0020899\ttotal: 30.1s\tremaining: 1m 50s\n",
      "215:\tlearn: 0.0020899\ttotal: 30.2s\tremaining: 1m 49s\n",
      "216:\tlearn: 0.0020899\ttotal: 30.3s\tremaining: 1m 49s\n",
      "217:\tlearn: 0.0020899\ttotal: 30.4s\tremaining: 1m 49s\n",
      "218:\tlearn: 0.0020899\ttotal: 30.5s\tremaining: 1m 48s\n",
      "219:\tlearn: 0.0020899\ttotal: 30.6s\tremaining: 1m 48s\n",
      "220:\tlearn: 0.0020899\ttotal: 30.7s\tremaining: 1m 48s\n",
      "221:\tlearn: 0.0020899\ttotal: 30.8s\tremaining: 1m 48s\n",
      "222:\tlearn: 0.0020899\ttotal: 30.9s\tremaining: 1m 47s\n",
      "223:\tlearn: 0.0020899\ttotal: 31s\tremaining: 1m 47s\n",
      "224:\tlearn: 0.0020899\ttotal: 31.2s\tremaining: 1m 47s\n",
      "225:\tlearn: 0.0020899\ttotal: 31.2s\tremaining: 1m 47s\n",
      "226:\tlearn: 0.0020899\ttotal: 31.3s\tremaining: 1m 46s\n",
      "227:\tlearn: 0.0020899\ttotal: 31.4s\tremaining: 1m 46s\n",
      "228:\tlearn: 0.0020899\ttotal: 31.5s\tremaining: 1m 46s\n",
      "229:\tlearn: 0.0020899\ttotal: 31.7s\tremaining: 1m 46s\n",
      "230:\tlearn: 0.0020899\ttotal: 31.8s\tremaining: 1m 45s\n",
      "231:\tlearn: 0.0020899\ttotal: 32s\tremaining: 1m 45s\n",
      "232:\tlearn: 0.0020899\ttotal: 32.1s\tremaining: 1m 45s\n",
      "233:\tlearn: 0.0020899\ttotal: 32.4s\tremaining: 1m 45s\n",
      "234:\tlearn: 0.0020899\ttotal: 32.5s\tremaining: 1m 45s\n",
      "235:\tlearn: 0.0020899\ttotal: 32.7s\tremaining: 1m 45s\n",
      "236:\tlearn: 0.0020899\ttotal: 32.8s\tremaining: 1m 45s\n",
      "237:\tlearn: 0.0020899\ttotal: 32.9s\tremaining: 1m 45s\n",
      "238:\tlearn: 0.0020899\ttotal: 33.1s\tremaining: 1m 45s\n",
      "239:\tlearn: 0.0020899\ttotal: 33.2s\tremaining: 1m 45s\n",
      "240:\tlearn: 0.0020899\ttotal: 33.4s\tremaining: 1m 45s\n",
      "241:\tlearn: 0.0020899\ttotal: 33.5s\tremaining: 1m 44s\n",
      "242:\tlearn: 0.0020899\ttotal: 33.6s\tremaining: 1m 44s\n",
      "243:\tlearn: 0.0020899\ttotal: 33.7s\tremaining: 1m 44s\n",
      "244:\tlearn: 0.0020899\ttotal: 33.8s\tremaining: 1m 44s\n",
      "245:\tlearn: 0.0020899\ttotal: 33.9s\tremaining: 1m 43s\n",
      "246:\tlearn: 0.0020899\ttotal: 34s\tremaining: 1m 43s\n",
      "247:\tlearn: 0.0020899\ttotal: 34.2s\tremaining: 1m 43s\n",
      "248:\tlearn: 0.0020899\ttotal: 34.3s\tremaining: 1m 43s\n",
      "249:\tlearn: 0.0020899\ttotal: 34.4s\tremaining: 1m 43s\n",
      "250:\tlearn: 0.0020899\ttotal: 34.6s\tremaining: 1m 43s\n",
      "251:\tlearn: 0.0020899\ttotal: 34.6s\tremaining: 1m 42s\n",
      "252:\tlearn: 0.0020899\ttotal: 34.8s\tremaining: 1m 42s\n",
      "253:\tlearn: 0.0020899\ttotal: 34.9s\tremaining: 1m 42s\n",
      "254:\tlearn: 0.0020899\ttotal: 35s\tremaining: 1m 42s\n",
      "255:\tlearn: 0.0020899\ttotal: 35.1s\tremaining: 1m 42s\n",
      "256:\tlearn: 0.0020899\ttotal: 35.2s\tremaining: 1m 41s\n",
      "257:\tlearn: 0.0020899\ttotal: 35.3s\tremaining: 1m 41s\n",
      "258:\tlearn: 0.0020899\ttotal: 35.4s\tremaining: 1m 41s\n",
      "259:\tlearn: 0.0020899\ttotal: 35.5s\tremaining: 1m 41s\n",
      "260:\tlearn: 0.0020789\ttotal: 35.6s\tremaining: 1m 40s\n",
      "261:\tlearn: 0.0020789\ttotal: 35.7s\tremaining: 1m 40s\n",
      "262:\tlearn: 0.0020789\ttotal: 35.8s\tremaining: 1m 40s\n",
      "263:\tlearn: 0.0020789\ttotal: 35.9s\tremaining: 1m 40s\n",
      "264:\tlearn: 0.0020789\ttotal: 36s\tremaining: 1m 39s\n",
      "265:\tlearn: 0.0020789\ttotal: 36.2s\tremaining: 1m 39s\n",
      "266:\tlearn: 0.0020789\ttotal: 36.3s\tremaining: 1m 39s\n",
      "267:\tlearn: 0.0020789\ttotal: 36.4s\tremaining: 1m 39s\n",
      "268:\tlearn: 0.0020789\ttotal: 36.5s\tremaining: 1m 39s\n",
      "269:\tlearn: 0.0020789\ttotal: 36.6s\tremaining: 1m 38s\n",
      "270:\tlearn: 0.0020789\ttotal: 36.7s\tremaining: 1m 38s\n",
      "271:\tlearn: 0.0020789\ttotal: 36.8s\tremaining: 1m 38s\n",
      "272:\tlearn: 0.0020789\ttotal: 36.9s\tremaining: 1m 38s\n",
      "273:\tlearn: 0.0020789\ttotal: 37s\tremaining: 1m 38s\n",
      "274:\tlearn: 0.0020789\ttotal: 37.1s\tremaining: 1m 37s\n",
      "275:\tlearn: 0.0020789\ttotal: 37.2s\tremaining: 1m 37s\n",
      "276:\tlearn: 0.0020789\ttotal: 37.3s\tremaining: 1m 37s\n",
      "277:\tlearn: 0.0020789\ttotal: 37.4s\tremaining: 1m 37s\n",
      "278:\tlearn: 0.0020789\ttotal: 37.5s\tremaining: 1m 36s\n",
      "279:\tlearn: 0.0020789\ttotal: 37.7s\tremaining: 1m 36s\n",
      "280:\tlearn: 0.0020789\ttotal: 37.7s\tremaining: 1m 36s\n",
      "281:\tlearn: 0.0020789\ttotal: 37.8s\tremaining: 1m 36s\n",
      "282:\tlearn: 0.0020789\ttotal: 38s\tremaining: 1m 36s\n",
      "283:\tlearn: 0.0020789\ttotal: 38.1s\tremaining: 1m 35s\n",
      "284:\tlearn: 0.0020789\ttotal: 38.1s\tremaining: 1m 35s\n",
      "285:\tlearn: 0.0020789\ttotal: 38.3s\tremaining: 1m 35s\n",
      "286:\tlearn: 0.0020789\ttotal: 38.4s\tremaining: 1m 35s\n",
      "287:\tlearn: 0.0020789\ttotal: 38.5s\tremaining: 1m 35s\n",
      "288:\tlearn: 0.0020789\ttotal: 38.6s\tremaining: 1m 34s\n",
      "289:\tlearn: 0.0020789\ttotal: 38.7s\tremaining: 1m 34s\n",
      "290:\tlearn: 0.0020789\ttotal: 38.8s\tremaining: 1m 34s\n",
      "291:\tlearn: 0.0020789\ttotal: 38.9s\tremaining: 1m 34s\n",
      "292:\tlearn: 0.0020789\ttotal: 39s\tremaining: 1m 33s\n",
      "293:\tlearn: 0.0020789\ttotal: 39s\tremaining: 1m 33s\n",
      "294:\tlearn: 0.0020789\ttotal: 39.2s\tremaining: 1m 33s\n",
      "295:\tlearn: 0.0020789\ttotal: 39.3s\tremaining: 1m 33s\n",
      "296:\tlearn: 0.0020789\ttotal: 39.3s\tremaining: 1m 33s\n",
      "297:\tlearn: 0.0020789\ttotal: 39.5s\tremaining: 1m 32s\n",
      "298:\tlearn: 0.0020789\ttotal: 39.6s\tremaining: 1m 32s\n",
      "299:\tlearn: 0.0020789\ttotal: 39.7s\tremaining: 1m 32s\n",
      "300:\tlearn: 0.0020789\ttotal: 39.8s\tremaining: 1m 32s\n",
      "301:\tlearn: 0.0020789\ttotal: 39.9s\tremaining: 1m 32s\n",
      "302:\tlearn: 0.0020788\ttotal: 40s\tremaining: 1m 31s\n",
      "303:\tlearn: 0.0020788\ttotal: 40.1s\tremaining: 1m 31s\n",
      "304:\tlearn: 0.0020788\ttotal: 40.2s\tremaining: 1m 31s\n",
      "305:\tlearn: 0.0020788\ttotal: 40.3s\tremaining: 1m 31s\n",
      "306:\tlearn: 0.0020788\ttotal: 40.4s\tremaining: 1m 31s\n",
      "307:\tlearn: 0.0020788\ttotal: 40.5s\tremaining: 1m 30s\n",
      "308:\tlearn: 0.0020788\ttotal: 40.6s\tremaining: 1m 30s\n",
      "309:\tlearn: 0.0020788\ttotal: 40.7s\tremaining: 1m 30s\n",
      "310:\tlearn: 0.0020788\ttotal: 40.8s\tremaining: 1m 30s\n",
      "311:\tlearn: 0.0020788\ttotal: 40.9s\tremaining: 1m 30s\n",
      "312:\tlearn: 0.0020788\ttotal: 41s\tremaining: 1m 29s\n",
      "313:\tlearn: 0.0020788\ttotal: 41.1s\tremaining: 1m 29s\n",
      "314:\tlearn: 0.0020788\ttotal: 41.2s\tremaining: 1m 29s\n",
      "315:\tlearn: 0.0020788\ttotal: 41.3s\tremaining: 1m 29s\n",
      "316:\tlearn: 0.0020788\ttotal: 41.4s\tremaining: 1m 29s\n",
      "317:\tlearn: 0.0020788\ttotal: 41.5s\tremaining: 1m 28s\n",
      "318:\tlearn: 0.0020788\ttotal: 41.6s\tremaining: 1m 28s\n",
      "319:\tlearn: 0.0020788\ttotal: 41.7s\tremaining: 1m 28s\n",
      "320:\tlearn: 0.0020788\ttotal: 41.8s\tremaining: 1m 28s\n",
      "321:\tlearn: 0.0020788\ttotal: 41.9s\tremaining: 1m 28s\n",
      "322:\tlearn: 0.0020788\ttotal: 42s\tremaining: 1m 27s\n",
      "323:\tlearn: 0.0020788\ttotal: 42.1s\tremaining: 1m 27s\n",
      "324:\tlearn: 0.0020788\ttotal: 42.2s\tremaining: 1m 27s\n",
      "325:\tlearn: 0.0020788\ttotal: 42.3s\tremaining: 1m 27s\n",
      "326:\tlearn: 0.0020788\ttotal: 42.4s\tremaining: 1m 27s\n",
      "327:\tlearn: 0.0020788\ttotal: 42.6s\tremaining: 1m 27s\n",
      "328:\tlearn: 0.0020788\ttotal: 42.6s\tremaining: 1m 26s\n",
      "329:\tlearn: 0.0020788\ttotal: 42.8s\tremaining: 1m 26s\n",
      "330:\tlearn: 0.0020788\ttotal: 42.9s\tremaining: 1m 26s\n",
      "331:\tlearn: 0.0020788\ttotal: 43s\tremaining: 1m 26s\n",
      "332:\tlearn: 0.0020788\ttotal: 43.2s\tremaining: 1m 26s\n",
      "333:\tlearn: 0.0020788\ttotal: 43.3s\tremaining: 1m 26s\n",
      "334:\tlearn: 0.0020788\ttotal: 43.6s\tremaining: 1m 26s\n",
      "335:\tlearn: 0.0020788\ttotal: 43.8s\tremaining: 1m 26s\n",
      "336:\tlearn: 0.0020788\ttotal: 43.9s\tremaining: 1m 26s\n",
      "337:\tlearn: 0.0020788\ttotal: 44s\tremaining: 1m 26s\n",
      "338:\tlearn: 0.0020788\ttotal: 44.1s\tremaining: 1m 26s\n",
      "339:\tlearn: 0.0020788\ttotal: 44.2s\tremaining: 1m 25s\n",
      "340:\tlearn: 0.0020788\ttotal: 44.4s\tremaining: 1m 25s\n",
      "341:\tlearn: 0.0020657\ttotal: 44.5s\tremaining: 1m 25s\n",
      "342:\tlearn: 0.0020459\ttotal: 44.7s\tremaining: 1m 25s\n",
      "343:\tlearn: 0.0020148\ttotal: 44.9s\tremaining: 1m 25s\n",
      "344:\tlearn: 0.0019610\ttotal: 45.1s\tremaining: 1m 25s\n",
      "345:\tlearn: 0.0019428\ttotal: 45.2s\tremaining: 1m 25s\n",
      "346:\tlearn: 0.0019209\ttotal: 45.3s\tremaining: 1m 25s\n",
      "347:\tlearn: 0.0019209\ttotal: 45.4s\tremaining: 1m 25s\n",
      "348:\tlearn: 0.0018998\ttotal: 45.5s\tremaining: 1m 24s\n",
      "349:\tlearn: 0.0018744\ttotal: 45.7s\tremaining: 1m 24s\n",
      "350:\tlearn: 0.0018536\ttotal: 45.8s\tremaining: 1m 24s\n",
      "351:\tlearn: 0.0018216\ttotal: 46s\tremaining: 1m 24s\n",
      "352:\tlearn: 0.0017989\ttotal: 46.1s\tremaining: 1m 24s\n",
      "353:\tlearn: 0.0017989\ttotal: 46.2s\tremaining: 1m 24s\n",
      "354:\tlearn: 0.0017989\ttotal: 46.3s\tremaining: 1m 24s\n",
      "355:\tlearn: 0.0017989\ttotal: 46.4s\tremaining: 1m 23s\n",
      "356:\tlearn: 0.0017989\ttotal: 46.5s\tremaining: 1m 23s\n",
      "357:\tlearn: 0.0017989\ttotal: 46.6s\tremaining: 1m 23s\n",
      "358:\tlearn: 0.0017698\ttotal: 46.8s\tremaining: 1m 23s\n",
      "359:\tlearn: 0.0017698\ttotal: 46.8s\tremaining: 1m 23s\n",
      "360:\tlearn: 0.0017696\ttotal: 46.9s\tremaining: 1m 23s\n",
      "361:\tlearn: 0.0017553\ttotal: 47s\tremaining: 1m 22s\n",
      "362:\tlearn: 0.0017440\ttotal: 47.2s\tremaining: 1m 22s\n",
      "363:\tlearn: 0.0017276\ttotal: 47.4s\tremaining: 1m 22s\n",
      "364:\tlearn: 0.0016970\ttotal: 47.5s\tremaining: 1m 22s\n",
      "365:\tlearn: 0.0016499\ttotal: 47.7s\tremaining: 1m 22s\n",
      "366:\tlearn: 0.0016100\ttotal: 47.8s\tremaining: 1m 22s\n",
      "367:\tlearn: 0.0015892\ttotal: 48s\tremaining: 1m 22s\n",
      "368:\tlearn: 0.0015737\ttotal: 48.2s\tremaining: 1m 22s\n",
      "369:\tlearn: 0.0015587\ttotal: 48.3s\tremaining: 1m 22s\n",
      "370:\tlearn: 0.0015241\ttotal: 48.5s\tremaining: 1m 22s\n",
      "371:\tlearn: 0.0015103\ttotal: 48.6s\tremaining: 1m 22s\n",
      "372:\tlearn: 0.0015102\ttotal: 48.7s\tremaining: 1m 21s\n",
      "373:\tlearn: 0.0014821\ttotal: 48.8s\tremaining: 1m 21s\n",
      "374:\tlearn: 0.0014635\ttotal: 49s\tremaining: 1m 21s\n",
      "375:\tlearn: 0.0014635\ttotal: 49.1s\tremaining: 1m 21s\n",
      "376:\tlearn: 0.0014495\ttotal: 49.2s\tremaining: 1m 21s\n",
      "377:\tlearn: 0.0014368\ttotal: 49.4s\tremaining: 1m 21s\n",
      "378:\tlearn: 0.0014368\ttotal: 49.5s\tremaining: 1m 21s\n",
      "379:\tlearn: 0.0014368\ttotal: 49.6s\tremaining: 1m 20s\n",
      "380:\tlearn: 0.0014368\ttotal: 49.7s\tremaining: 1m 20s\n",
      "381:\tlearn: 0.0014368\ttotal: 49.8s\tremaining: 1m 20s\n",
      "382:\tlearn: 0.0014368\ttotal: 49.9s\tremaining: 1m 20s\n",
      "383:\tlearn: 0.0014368\ttotal: 49.9s\tremaining: 1m 20s\n",
      "384:\tlearn: 0.0014368\ttotal: 50s\tremaining: 1m 19s\n",
      "385:\tlearn: 0.0014367\ttotal: 50.1s\tremaining: 1m 19s\n",
      "386:\tlearn: 0.0014367\ttotal: 50.2s\tremaining: 1m 19s\n",
      "387:\tlearn: 0.0014367\ttotal: 50.3s\tremaining: 1m 19s\n",
      "388:\tlearn: 0.0014367\ttotal: 50.4s\tremaining: 1m 19s\n",
      "389:\tlearn: 0.0014366\ttotal: 50.5s\tremaining: 1m 18s\n",
      "390:\tlearn: 0.0014366\ttotal: 50.6s\tremaining: 1m 18s\n",
      "391:\tlearn: 0.0014365\ttotal: 50.7s\tremaining: 1m 18s\n",
      "392:\tlearn: 0.0014365\ttotal: 50.8s\tremaining: 1m 18s\n",
      "393:\tlearn: 0.0014365\ttotal: 50.9s\tremaining: 1m 18s\n",
      "394:\tlearn: 0.0014365\ttotal: 51s\tremaining: 1m 18s\n",
      "395:\tlearn: 0.0014365\ttotal: 51.1s\tremaining: 1m 17s\n",
      "396:\tlearn: 0.0014365\ttotal: 51.2s\tremaining: 1m 17s\n",
      "397:\tlearn: 0.0014365\ttotal: 51.3s\tremaining: 1m 17s\n",
      "398:\tlearn: 0.0014364\ttotal: 51.4s\tremaining: 1m 17s\n",
      "399:\tlearn: 0.0014364\ttotal: 51.5s\tremaining: 1m 17s\n",
      "400:\tlearn: 0.0014364\ttotal: 51.6s\tremaining: 1m 17s\n",
      "401:\tlearn: 0.0014364\ttotal: 51.6s\tremaining: 1m 16s\n",
      "402:\tlearn: 0.0014364\ttotal: 51.7s\tremaining: 1m 16s\n",
      "403:\tlearn: 0.0014364\ttotal: 51.8s\tremaining: 1m 16s\n",
      "404:\tlearn: 0.0014363\ttotal: 51.9s\tremaining: 1m 16s\n",
      "405:\tlearn: 0.0014363\ttotal: 52.1s\tremaining: 1m 16s\n",
      "406:\tlearn: 0.0014363\ttotal: 52.2s\tremaining: 1m 16s\n",
      "407:\tlearn: 0.0014362\ttotal: 52.3s\tremaining: 1m 15s\n",
      "408:\tlearn: 0.0014362\ttotal: 52.4s\tremaining: 1m 15s\n",
      "409:\tlearn: 0.0014362\ttotal: 52.5s\tremaining: 1m 15s\n",
      "410:\tlearn: 0.0014362\ttotal: 52.6s\tremaining: 1m 15s\n",
      "411:\tlearn: 0.0014362\ttotal: 52.7s\tremaining: 1m 15s\n",
      "412:\tlearn: 0.0014361\ttotal: 52.8s\tremaining: 1m 15s\n",
      "413:\tlearn: 0.0014361\ttotal: 52.9s\tremaining: 1m 14s\n",
      "414:\tlearn: 0.0014361\ttotal: 53s\tremaining: 1m 14s\n",
      "415:\tlearn: 0.0014360\ttotal: 53.1s\tremaining: 1m 14s\n",
      "416:\tlearn: 0.0014360\ttotal: 53.2s\tremaining: 1m 14s\n",
      "417:\tlearn: 0.0014360\ttotal: 53.3s\tremaining: 1m 14s\n",
      "418:\tlearn: 0.0014360\ttotal: 53.4s\tremaining: 1m 14s\n",
      "419:\tlearn: 0.0014360\ttotal: 53.5s\tremaining: 1m 13s\n",
      "420:\tlearn: 0.0014360\ttotal: 53.6s\tremaining: 1m 13s\n",
      "421:\tlearn: 0.0014360\ttotal: 53.7s\tremaining: 1m 13s\n",
      "422:\tlearn: 0.0014360\ttotal: 53.8s\tremaining: 1m 13s\n",
      "423:\tlearn: 0.0014360\ttotal: 53.9s\tremaining: 1m 13s\n",
      "424:\tlearn: 0.0014360\ttotal: 54s\tremaining: 1m 13s\n",
      "425:\tlearn: 0.0014360\ttotal: 54.1s\tremaining: 1m 12s\n",
      "426:\tlearn: 0.0014360\ttotal: 54.3s\tremaining: 1m 12s\n",
      "427:\tlearn: 0.0014360\ttotal: 54.4s\tremaining: 1m 12s\n",
      "428:\tlearn: 0.0014360\ttotal: 54.8s\tremaining: 1m 12s\n",
      "429:\tlearn: 0.0014360\ttotal: 54.9s\tremaining: 1m 12s\n",
      "430:\tlearn: 0.0014360\ttotal: 55.1s\tremaining: 1m 12s\n",
      "431:\tlearn: 0.0014360\ttotal: 55.2s\tremaining: 1m 12s\n",
      "432:\tlearn: 0.0014360\ttotal: 55.3s\tremaining: 1m 12s\n",
      "433:\tlearn: 0.0014360\ttotal: 55.4s\tremaining: 1m 12s\n",
      "434:\tlearn: 0.0014360\ttotal: 55.5s\tremaining: 1m 12s\n",
      "435:\tlearn: 0.0014360\ttotal: 55.6s\tremaining: 1m 11s\n",
      "436:\tlearn: 0.0014360\ttotal: 55.8s\tremaining: 1m 11s\n",
      "437:\tlearn: 0.0014360\ttotal: 55.9s\tremaining: 1m 11s\n",
      "438:\tlearn: 0.0014360\ttotal: 55.9s\tremaining: 1m 11s\n",
      "439:\tlearn: 0.0014360\ttotal: 56.1s\tremaining: 1m 11s\n",
      "440:\tlearn: 0.0014360\ttotal: 56.1s\tremaining: 1m 11s\n",
      "441:\tlearn: 0.0014360\ttotal: 56.2s\tremaining: 1m 10s\n",
      "442:\tlearn: 0.0014360\ttotal: 56.3s\tremaining: 1m 10s\n",
      "443:\tlearn: 0.0014360\ttotal: 56.4s\tremaining: 1m 10s\n",
      "444:\tlearn: 0.0014360\ttotal: 56.5s\tremaining: 1m 10s\n",
      "445:\tlearn: 0.0014360\ttotal: 56.7s\tremaining: 1m 10s\n",
      "446:\tlearn: 0.0014360\ttotal: 56.7s\tremaining: 1m 10s\n",
      "447:\tlearn: 0.0014180\ttotal: 56.9s\tremaining: 1m 10s\n",
      "448:\tlearn: 0.0014179\ttotal: 57s\tremaining: 1m 9s\n",
      "449:\tlearn: 0.0014179\ttotal: 57.1s\tremaining: 1m 9s\n",
      "450:\tlearn: 0.0014179\ttotal: 57.3s\tremaining: 1m 9s\n",
      "451:\tlearn: 0.0014179\ttotal: 57.4s\tremaining: 1m 9s\n",
      "452:\tlearn: 0.0014179\ttotal: 57.5s\tremaining: 1m 9s\n",
      "453:\tlearn: 0.0014179\ttotal: 57.6s\tremaining: 1m 9s\n",
      "454:\tlearn: 0.0014179\ttotal: 57.8s\tremaining: 1m 9s\n",
      "455:\tlearn: 0.0014179\ttotal: 57.9s\tremaining: 1m 9s\n",
      "456:\tlearn: 0.0014178\ttotal: 58s\tremaining: 1m 8s\n",
      "457:\tlearn: 0.0014178\ttotal: 58.1s\tremaining: 1m 8s\n",
      "458:\tlearn: 0.0014178\ttotal: 58.2s\tremaining: 1m 8s\n",
      "459:\tlearn: 0.0014178\ttotal: 58.3s\tremaining: 1m 8s\n",
      "460:\tlearn: 0.0014178\ttotal: 58.4s\tremaining: 1m 8s\n",
      "461:\tlearn: 0.0014178\ttotal: 58.5s\tremaining: 1m 8s\n",
      "462:\tlearn: 0.0014178\ttotal: 58.7s\tremaining: 1m 8s\n",
      "463:\tlearn: 0.0014178\ttotal: 58.7s\tremaining: 1m 7s\n",
      "464:\tlearn: 0.0014046\ttotal: 58.9s\tremaining: 1m 7s\n",
      "465:\tlearn: 0.0014046\ttotal: 59s\tremaining: 1m 7s\n",
      "466:\tlearn: 0.0014046\ttotal: 59.1s\tremaining: 1m 7s\n",
      "467:\tlearn: 0.0014045\ttotal: 59.2s\tremaining: 1m 7s\n",
      "468:\tlearn: 0.0014045\ttotal: 59.4s\tremaining: 1m 7s\n",
      "469:\tlearn: 0.0014044\ttotal: 59.5s\tremaining: 1m 7s\n",
      "470:\tlearn: 0.0014044\ttotal: 59.7s\tremaining: 1m 7s\n",
      "471:\tlearn: 0.0014043\ttotal: 59.8s\tremaining: 1m 6s\n",
      "472:\tlearn: 0.0014043\ttotal: 59.9s\tremaining: 1m 6s\n",
      "473:\tlearn: 0.0014043\ttotal: 1m\tremaining: 1m 6s\n",
      "474:\tlearn: 0.0013795\ttotal: 1m\tremaining: 1m 6s\n",
      "475:\tlearn: 0.0013721\ttotal: 1m\tremaining: 1m 6s\n",
      "476:\tlearn: 0.0013721\ttotal: 1m\tremaining: 1m 6s\n",
      "477:\tlearn: 0.0013721\ttotal: 1m\tremaining: 1m 6s\n",
      "478:\tlearn: 0.0013559\ttotal: 1m\tremaining: 1m 5s\n",
      "479:\tlearn: 0.0013559\ttotal: 1m\tremaining: 1m 5s\n",
      "480:\tlearn: 0.0013559\ttotal: 1m\tremaining: 1m 5s\n",
      "481:\tlearn: 0.0013559\ttotal: 1m\tremaining: 1m 5s\n",
      "482:\tlearn: 0.0013558\ttotal: 1m 1s\tremaining: 1m 5s\n",
      "483:\tlearn: 0.0013558\ttotal: 1m 1s\tremaining: 1m 5s\n",
      "484:\tlearn: 0.0013558\ttotal: 1m 1s\tremaining: 1m 5s\n",
      "485:\tlearn: 0.0013558\ttotal: 1m 1s\tremaining: 1m 4s\n",
      "486:\tlearn: 0.0013558\ttotal: 1m 1s\tremaining: 1m 4s\n",
      "487:\tlearn: 0.0013558\ttotal: 1m 1s\tremaining: 1m 4s\n",
      "488:\tlearn: 0.0013558\ttotal: 1m 1s\tremaining: 1m 4s\n",
      "489:\tlearn: 0.0013558\ttotal: 1m 1s\tremaining: 1m 4s\n",
      "490:\tlearn: 0.0013558\ttotal: 1m 1s\tremaining: 1m 4s\n",
      "491:\tlearn: 0.0013558\ttotal: 1m 1s\tremaining: 1m 3s\n",
      "492:\tlearn: 0.0013558\ttotal: 1m 2s\tremaining: 1m 3s\n",
      "493:\tlearn: 0.0013558\ttotal: 1m 2s\tremaining: 1m 3s\n",
      "494:\tlearn: 0.0013558\ttotal: 1m 2s\tremaining: 1m 3s\n",
      "495:\tlearn: 0.0013558\ttotal: 1m 2s\tremaining: 1m 3s\n",
      "496:\tlearn: 0.0013558\ttotal: 1m 2s\tremaining: 1m 3s\n",
      "497:\tlearn: 0.0013558\ttotal: 1m 2s\tremaining: 1m 3s\n",
      "498:\tlearn: 0.0013558\ttotal: 1m 2s\tremaining: 1m 2s\n",
      "499:\tlearn: 0.0013558\ttotal: 1m 2s\tremaining: 1m 2s\n",
      "500:\tlearn: 0.0013558\ttotal: 1m 2s\tremaining: 1m 2s\n",
      "501:\tlearn: 0.0013558\ttotal: 1m 2s\tremaining: 1m 2s\n",
      "502:\tlearn: 0.0013558\ttotal: 1m 3s\tremaining: 1m 2s\n",
      "503:\tlearn: 0.0013558\ttotal: 1m 3s\tremaining: 1m 2s\n",
      "504:\tlearn: 0.0013558\ttotal: 1m 3s\tremaining: 1m 2s\n",
      "505:\tlearn: 0.0013558\ttotal: 1m 3s\tremaining: 1m 1s\n",
      "506:\tlearn: 0.0013558\ttotal: 1m 3s\tremaining: 1m 1s\n",
      "507:\tlearn: 0.0013558\ttotal: 1m 3s\tremaining: 1m 1s\n",
      "508:\tlearn: 0.0013558\ttotal: 1m 3s\tremaining: 1m 1s\n",
      "509:\tlearn: 0.0013558\ttotal: 1m 3s\tremaining: 1m 1s\n",
      "510:\tlearn: 0.0013558\ttotal: 1m 3s\tremaining: 1m 1s\n",
      "511:\tlearn: 0.0013558\ttotal: 1m 3s\tremaining: 1m\n",
      "512:\tlearn: 0.0013558\ttotal: 1m 4s\tremaining: 1m\n",
      "513:\tlearn: 0.0013558\ttotal: 1m 4s\tremaining: 1m\n",
      "514:\tlearn: 0.0013558\ttotal: 1m 4s\tremaining: 1m\n",
      "515:\tlearn: 0.0013558\ttotal: 1m 4s\tremaining: 1m\n",
      "516:\tlearn: 0.0013557\ttotal: 1m 4s\tremaining: 1m\n",
      "517:\tlearn: 0.0013557\ttotal: 1m 4s\tremaining: 1m\n",
      "518:\tlearn: 0.0013557\ttotal: 1m 4s\tremaining: 59.9s\n",
      "519:\tlearn: 0.0013557\ttotal: 1m 4s\tremaining: 59.8s\n",
      "520:\tlearn: 0.0013557\ttotal: 1m 4s\tremaining: 59.6s\n",
      "521:\tlearn: 0.0013557\ttotal: 1m 4s\tremaining: 59.5s\n",
      "522:\tlearn: 0.0013557\ttotal: 1m 5s\tremaining: 59.4s\n",
      "523:\tlearn: 0.0013557\ttotal: 1m 5s\tremaining: 59.2s\n",
      "524:\tlearn: 0.0013463\ttotal: 1m 5s\tremaining: 59.2s\n",
      "525:\tlearn: 0.0013385\ttotal: 1m 5s\tremaining: 59.1s\n",
      "526:\tlearn: 0.0013385\ttotal: 1m 5s\tremaining: 59s\n",
      "527:\tlearn: 0.0013385\ttotal: 1m 5s\tremaining: 58.8s\n",
      "528:\tlearn: 0.0013385\ttotal: 1m 5s\tremaining: 58.7s\n",
      "529:\tlearn: 0.0013385\ttotal: 1m 6s\tremaining: 58.6s\n",
      "530:\tlearn: 0.0013385\ttotal: 1m 6s\tremaining: 58.5s\n",
      "531:\tlearn: 0.0013385\ttotal: 1m 6s\tremaining: 58.4s\n",
      "532:\tlearn: 0.0013384\ttotal: 1m 6s\tremaining: 58.3s\n",
      "533:\tlearn: 0.0013384\ttotal: 1m 6s\tremaining: 58.1s\n",
      "534:\tlearn: 0.0013384\ttotal: 1m 6s\tremaining: 58s\n",
      "535:\tlearn: 0.0013384\ttotal: 1m 6s\tremaining: 57.9s\n",
      "536:\tlearn: 0.0013384\ttotal: 1m 6s\tremaining: 57.8s\n",
      "537:\tlearn: 0.0013384\ttotal: 1m 7s\tremaining: 57.6s\n",
      "538:\tlearn: 0.0013384\ttotal: 1m 7s\tremaining: 57.5s\n",
      "539:\tlearn: 0.0013384\ttotal: 1m 7s\tremaining: 57.4s\n",
      "540:\tlearn: 0.0013384\ttotal: 1m 7s\tremaining: 57.2s\n",
      "541:\tlearn: 0.0013384\ttotal: 1m 7s\tremaining: 57.1s\n",
      "542:\tlearn: 0.0013384\ttotal: 1m 7s\tremaining: 57s\n",
      "543:\tlearn: 0.0013384\ttotal: 1m 7s\tremaining: 56.8s\n",
      "544:\tlearn: 0.0013273\ttotal: 1m 7s\tremaining: 56.7s\n",
      "545:\tlearn: 0.0013273\ttotal: 1m 8s\tremaining: 56.6s\n",
      "546:\tlearn: 0.0013002\ttotal: 1m 8s\tremaining: 56.5s\n",
      "547:\tlearn: 0.0013002\ttotal: 1m 8s\tremaining: 56.4s\n",
      "548:\tlearn: 0.0013002\ttotal: 1m 8s\tremaining: 56.3s\n",
      "549:\tlearn: 0.0013002\ttotal: 1m 8s\tremaining: 56.1s\n",
      "550:\tlearn: 0.0013002\ttotal: 1m 8s\tremaining: 56s\n",
      "551:\tlearn: 0.0013002\ttotal: 1m 8s\tremaining: 56s\n",
      "552:\tlearn: 0.0013002\ttotal: 1m 9s\tremaining: 55.9s\n",
      "553:\tlearn: 0.0013002\ttotal: 1m 9s\tremaining: 55.7s\n",
      "554:\tlearn: 0.0013002\ttotal: 1m 9s\tremaining: 55.6s\n",
      "555:\tlearn: 0.0013002\ttotal: 1m 9s\tremaining: 55.4s\n",
      "556:\tlearn: 0.0013002\ttotal: 1m 9s\tremaining: 55.3s\n",
      "557:\tlearn: 0.0013002\ttotal: 1m 9s\tremaining: 55.1s\n",
      "558:\tlearn: 0.0013002\ttotal: 1m 9s\tremaining: 55s\n",
      "559:\tlearn: 0.0013002\ttotal: 1m 9s\tremaining: 54.9s\n",
      "560:\tlearn: 0.0013002\ttotal: 1m 9s\tremaining: 54.7s\n",
      "561:\tlearn: 0.0013002\ttotal: 1m 10s\tremaining: 54.6s\n",
      "562:\tlearn: 0.0013002\ttotal: 1m 10s\tremaining: 54.5s\n",
      "563:\tlearn: 0.0013002\ttotal: 1m 10s\tremaining: 54.3s\n",
      "564:\tlearn: 0.0013002\ttotal: 1m 10s\tremaining: 54.2s\n",
      "565:\tlearn: 0.0013002\ttotal: 1m 10s\tremaining: 54.1s\n",
      "566:\tlearn: 0.0012877\ttotal: 1m 10s\tremaining: 53.9s\n",
      "567:\tlearn: 0.0012877\ttotal: 1m 10s\tremaining: 53.8s\n",
      "568:\tlearn: 0.0012877\ttotal: 1m 10s\tremaining: 53.6s\n",
      "569:\tlearn: 0.0012877\ttotal: 1m 10s\tremaining: 53.5s\n",
      "570:\tlearn: 0.0012877\ttotal: 1m 11s\tremaining: 53.4s\n",
      "571:\tlearn: 0.0012704\ttotal: 1m 11s\tremaining: 53.3s\n",
      "572:\tlearn: 0.0012704\ttotal: 1m 11s\tremaining: 53.1s\n",
      "573:\tlearn: 0.0012703\ttotal: 1m 11s\tremaining: 53s\n",
      "574:\tlearn: 0.0012463\ttotal: 1m 11s\tremaining: 52.9s\n",
      "575:\tlearn: 0.0012463\ttotal: 1m 11s\tremaining: 52.7s\n",
      "576:\tlearn: 0.0012348\ttotal: 1m 11s\tremaining: 52.6s\n",
      "577:\tlearn: 0.0012348\ttotal: 1m 11s\tremaining: 52.4s\n",
      "578:\tlearn: 0.0012348\ttotal: 1m 11s\tremaining: 52.3s\n",
      "579:\tlearn: 0.0012257\ttotal: 1m 12s\tremaining: 52.2s\n",
      "580:\tlearn: 0.0012257\ttotal: 1m 12s\tremaining: 52.1s\n",
      "581:\tlearn: 0.0012257\ttotal: 1m 12s\tremaining: 51.9s\n",
      "582:\tlearn: 0.0012257\ttotal: 1m 12s\tremaining: 51.8s\n",
      "583:\tlearn: 0.0012109\ttotal: 1m 12s\tremaining: 51.7s\n",
      "584:\tlearn: 0.0012109\ttotal: 1m 12s\tremaining: 51.6s\n",
      "585:\tlearn: 0.0012109\ttotal: 1m 12s\tremaining: 51.4s\n",
      "586:\tlearn: 0.0012109\ttotal: 1m 12s\tremaining: 51.3s\n",
      "587:\tlearn: 0.0012109\ttotal: 1m 12s\tremaining: 51.1s\n",
      "588:\tlearn: 0.0012109\ttotal: 1m 13s\tremaining: 51s\n",
      "589:\tlearn: 0.0012109\ttotal: 1m 13s\tremaining: 50.9s\n",
      "590:\tlearn: 0.0011972\ttotal: 1m 13s\tremaining: 50.8s\n",
      "591:\tlearn: 0.0011831\ttotal: 1m 13s\tremaining: 50.7s\n",
      "592:\tlearn: 0.0011831\ttotal: 1m 13s\tremaining: 50.5s\n",
      "593:\tlearn: 0.0011831\ttotal: 1m 13s\tremaining: 50.4s\n",
      "594:\tlearn: 0.0011831\ttotal: 1m 13s\tremaining: 50.3s\n",
      "595:\tlearn: 0.0011831\ttotal: 1m 13s\tremaining: 50.1s\n",
      "596:\tlearn: 0.0011831\ttotal: 1m 14s\tremaining: 50s\n",
      "597:\tlearn: 0.0011831\ttotal: 1m 14s\tremaining: 49.9s\n",
      "598:\tlearn: 0.0011831\ttotal: 1m 14s\tremaining: 49.8s\n",
      "599:\tlearn: 0.0011831\ttotal: 1m 14s\tremaining: 49.6s\n",
      "600:\tlearn: 0.0011831\ttotal: 1m 14s\tremaining: 49.5s\n",
      "601:\tlearn: 0.0011831\ttotal: 1m 14s\tremaining: 49.4s\n",
      "602:\tlearn: 0.0011831\ttotal: 1m 14s\tremaining: 49.2s\n",
      "603:\tlearn: 0.0011831\ttotal: 1m 14s\tremaining: 49.1s\n",
      "604:\tlearn: 0.0011831\ttotal: 1m 14s\tremaining: 49s\n",
      "605:\tlearn: 0.0011831\ttotal: 1m 15s\tremaining: 48.8s\n",
      "606:\tlearn: 0.0011831\ttotal: 1m 15s\tremaining: 48.7s\n",
      "607:\tlearn: 0.0011831\ttotal: 1m 15s\tremaining: 48.5s\n",
      "608:\tlearn: 0.0011831\ttotal: 1m 15s\tremaining: 48.4s\n",
      "609:\tlearn: 0.0011831\ttotal: 1m 15s\tremaining: 48.3s\n",
      "610:\tlearn: 0.0011831\ttotal: 1m 15s\tremaining: 48.2s\n",
      "611:\tlearn: 0.0011831\ttotal: 1m 15s\tremaining: 48s\n",
      "612:\tlearn: 0.0011831\ttotal: 1m 15s\tremaining: 47.9s\n",
      "613:\tlearn: 0.0011831\ttotal: 1m 15s\tremaining: 47.7s\n",
      "614:\tlearn: 0.0011831\ttotal: 1m 16s\tremaining: 47.6s\n",
      "615:\tlearn: 0.0011831\ttotal: 1m 16s\tremaining: 47.5s\n",
      "616:\tlearn: 0.0011831\ttotal: 1m 16s\tremaining: 47.3s\n",
      "617:\tlearn: 0.0011831\ttotal: 1m 16s\tremaining: 47.2s\n",
      "618:\tlearn: 0.0011831\ttotal: 1m 16s\tremaining: 47.1s\n",
      "619:\tlearn: 0.0011831\ttotal: 1m 16s\tremaining: 47s\n",
      "620:\tlearn: 0.0011831\ttotal: 1m 16s\tremaining: 46.8s\n",
      "621:\tlearn: 0.0011831\ttotal: 1m 16s\tremaining: 46.7s\n",
      "622:\tlearn: 0.0011831\ttotal: 1m 16s\tremaining: 46.5s\n",
      "623:\tlearn: 0.0011831\ttotal: 1m 17s\tremaining: 46.4s\n",
      "624:\tlearn: 0.0011831\ttotal: 1m 17s\tremaining: 46.3s\n",
      "625:\tlearn: 0.0011831\ttotal: 1m 17s\tremaining: 46.2s\n",
      "626:\tlearn: 0.0011831\ttotal: 1m 17s\tremaining: 46s\n",
      "627:\tlearn: 0.0011831\ttotal: 1m 17s\tremaining: 45.9s\n",
      "628:\tlearn: 0.0011831\ttotal: 1m 17s\tremaining: 45.8s\n",
      "629:\tlearn: 0.0011831\ttotal: 1m 17s\tremaining: 45.6s\n",
      "630:\tlearn: 0.0011831\ttotal: 1m 17s\tremaining: 45.5s\n",
      "631:\tlearn: 0.0011831\ttotal: 1m 17s\tremaining: 45.4s\n",
      "632:\tlearn: 0.0011831\ttotal: 1m 18s\tremaining: 45.2s\n",
      "633:\tlearn: 0.0011831\ttotal: 1m 18s\tremaining: 45.1s\n",
      "634:\tlearn: 0.0011831\ttotal: 1m 18s\tremaining: 45s\n",
      "635:\tlearn: 0.0011831\ttotal: 1m 18s\tremaining: 44.9s\n",
      "636:\tlearn: 0.0011831\ttotal: 1m 18s\tremaining: 44.7s\n",
      "637:\tlearn: 0.0011831\ttotal: 1m 18s\tremaining: 44.6s\n",
      "638:\tlearn: 0.0011831\ttotal: 1m 18s\tremaining: 44.5s\n",
      "639:\tlearn: 0.0011831\ttotal: 1m 18s\tremaining: 44.4s\n",
      "640:\tlearn: 0.0011831\ttotal: 1m 18s\tremaining: 44.2s\n",
      "641:\tlearn: 0.0011831\ttotal: 1m 19s\tremaining: 44.1s\n",
      "642:\tlearn: 0.0011831\ttotal: 1m 19s\tremaining: 44s\n",
      "643:\tlearn: 0.0011831\ttotal: 1m 19s\tremaining: 43.9s\n",
      "644:\tlearn: 0.0011831\ttotal: 1m 19s\tremaining: 43.8s\n",
      "645:\tlearn: 0.0011831\ttotal: 1m 19s\tremaining: 43.7s\n",
      "646:\tlearn: 0.0011831\ttotal: 1m 20s\tremaining: 43.7s\n",
      "647:\tlearn: 0.0011831\ttotal: 1m 20s\tremaining: 43.6s\n",
      "648:\tlearn: 0.0011831\ttotal: 1m 20s\tremaining: 43.5s\n",
      "649:\tlearn: 0.0011831\ttotal: 1m 20s\tremaining: 43.3s\n",
      "650:\tlearn: 0.0011831\ttotal: 1m 20s\tremaining: 43.2s\n",
      "651:\tlearn: 0.0011831\ttotal: 1m 20s\tremaining: 43.1s\n",
      "652:\tlearn: 0.0011831\ttotal: 1m 20s\tremaining: 43s\n",
      "653:\tlearn: 0.0011831\ttotal: 1m 20s\tremaining: 42.8s\n",
      "654:\tlearn: 0.0011831\ttotal: 1m 21s\tremaining: 42.7s\n",
      "655:\tlearn: 0.0011831\ttotal: 1m 21s\tremaining: 42.6s\n",
      "656:\tlearn: 0.0011831\ttotal: 1m 21s\tremaining: 42.4s\n",
      "657:\tlearn: 0.0011831\ttotal: 1m 21s\tremaining: 42.3s\n",
      "658:\tlearn: 0.0011831\ttotal: 1m 21s\tremaining: 42.2s\n",
      "659:\tlearn: 0.0011831\ttotal: 1m 21s\tremaining: 42s\n",
      "660:\tlearn: 0.0011831\ttotal: 1m 21s\tremaining: 41.9s\n",
      "661:\tlearn: 0.0011831\ttotal: 1m 21s\tremaining: 41.8s\n",
      "662:\tlearn: 0.0011831\ttotal: 1m 21s\tremaining: 41.7s\n",
      "663:\tlearn: 0.0011831\ttotal: 1m 22s\tremaining: 41.5s\n",
      "664:\tlearn: 0.0011831\ttotal: 1m 22s\tremaining: 41.4s\n",
      "665:\tlearn: 0.0011830\ttotal: 1m 22s\tremaining: 41.3s\n",
      "666:\tlearn: 0.0011830\ttotal: 1m 22s\tremaining: 41.1s\n",
      "667:\tlearn: 0.0011830\ttotal: 1m 22s\tremaining: 41s\n",
      "668:\tlearn: 0.0011830\ttotal: 1m 22s\tremaining: 40.9s\n",
      "669:\tlearn: 0.0011830\ttotal: 1m 22s\tremaining: 40.7s\n",
      "670:\tlearn: 0.0011830\ttotal: 1m 22s\tremaining: 40.6s\n",
      "671:\tlearn: 0.0011830\ttotal: 1m 22s\tremaining: 40.5s\n",
      "672:\tlearn: 0.0011830\ttotal: 1m 23s\tremaining: 40.4s\n",
      "673:\tlearn: 0.0011830\ttotal: 1m 23s\tremaining: 40.3s\n",
      "674:\tlearn: 0.0011830\ttotal: 1m 23s\tremaining: 40.1s\n",
      "675:\tlearn: 0.0011830\ttotal: 1m 23s\tremaining: 40s\n",
      "676:\tlearn: 0.0011830\ttotal: 1m 23s\tremaining: 39.9s\n",
      "677:\tlearn: 0.0011830\ttotal: 1m 23s\tremaining: 39.8s\n",
      "678:\tlearn: 0.0011830\ttotal: 1m 23s\tremaining: 39.6s\n",
      "679:\tlearn: 0.0011830\ttotal: 1m 23s\tremaining: 39.5s\n",
      "680:\tlearn: 0.0011830\ttotal: 1m 24s\tremaining: 39.4s\n",
      "681:\tlearn: 0.0011830\ttotal: 1m 24s\tremaining: 39.3s\n",
      "682:\tlearn: 0.0011830\ttotal: 1m 24s\tremaining: 39.1s\n",
      "683:\tlearn: 0.0011830\ttotal: 1m 24s\tremaining: 39s\n",
      "684:\tlearn: 0.0011830\ttotal: 1m 24s\tremaining: 38.9s\n",
      "685:\tlearn: 0.0011830\ttotal: 1m 24s\tremaining: 38.8s\n",
      "686:\tlearn: 0.0011830\ttotal: 1m 24s\tremaining: 38.7s\n",
      "687:\tlearn: 0.0011830\ttotal: 1m 24s\tremaining: 38.5s\n",
      "688:\tlearn: 0.0011830\ttotal: 1m 25s\tremaining: 38.4s\n",
      "689:\tlearn: 0.0011830\ttotal: 1m 25s\tremaining: 38.3s\n",
      "690:\tlearn: 0.0011830\ttotal: 1m 25s\tremaining: 38.1s\n",
      "691:\tlearn: 0.0011830\ttotal: 1m 25s\tremaining: 38s\n",
      "692:\tlearn: 0.0011830\ttotal: 1m 25s\tremaining: 37.9s\n",
      "693:\tlearn: 0.0011830\ttotal: 1m 25s\tremaining: 37.8s\n",
      "694:\tlearn: 0.0011830\ttotal: 1m 25s\tremaining: 37.6s\n",
      "695:\tlearn: 0.0011830\ttotal: 1m 25s\tremaining: 37.5s\n",
      "696:\tlearn: 0.0011830\ttotal: 1m 25s\tremaining: 37.4s\n",
      "697:\tlearn: 0.0011830\ttotal: 1m 26s\tremaining: 37.2s\n",
      "698:\tlearn: 0.0011830\ttotal: 1m 26s\tremaining: 37.1s\n",
      "699:\tlearn: 0.0011830\ttotal: 1m 26s\tremaining: 37s\n",
      "700:\tlearn: 0.0011830\ttotal: 1m 26s\tremaining: 36.8s\n",
      "701:\tlearn: 0.0011830\ttotal: 1m 26s\tremaining: 36.7s\n",
      "702:\tlearn: 0.0011830\ttotal: 1m 26s\tremaining: 36.6s\n",
      "703:\tlearn: 0.0011830\ttotal: 1m 26s\tremaining: 36.5s\n",
      "704:\tlearn: 0.0011830\ttotal: 1m 26s\tremaining: 36.3s\n",
      "705:\tlearn: 0.0011830\ttotal: 1m 26s\tremaining: 36.2s\n",
      "706:\tlearn: 0.0011830\ttotal: 1m 27s\tremaining: 36.1s\n",
      "707:\tlearn: 0.0011830\ttotal: 1m 27s\tremaining: 36s\n",
      "708:\tlearn: 0.0011830\ttotal: 1m 27s\tremaining: 35.8s\n",
      "709:\tlearn: 0.0011830\ttotal: 1m 27s\tremaining: 35.7s\n",
      "710:\tlearn: 0.0011830\ttotal: 1m 27s\tremaining: 35.6s\n",
      "711:\tlearn: 0.0011830\ttotal: 1m 27s\tremaining: 35.4s\n",
      "712:\tlearn: 0.0011830\ttotal: 1m 27s\tremaining: 35.3s\n",
      "713:\tlearn: 0.0011830\ttotal: 1m 27s\tremaining: 35.2s\n",
      "714:\tlearn: 0.0011830\ttotal: 1m 27s\tremaining: 35.1s\n",
      "715:\tlearn: 0.0011830\ttotal: 1m 28s\tremaining: 34.9s\n",
      "716:\tlearn: 0.0011830\ttotal: 1m 28s\tremaining: 34.8s\n",
      "717:\tlearn: 0.0011830\ttotal: 1m 28s\tremaining: 34.7s\n",
      "718:\tlearn: 0.0011830\ttotal: 1m 28s\tremaining: 34.5s\n",
      "719:\tlearn: 0.0011830\ttotal: 1m 28s\tremaining: 34.4s\n",
      "720:\tlearn: 0.0011830\ttotal: 1m 28s\tremaining: 34.3s\n",
      "721:\tlearn: 0.0011830\ttotal: 1m 28s\tremaining: 34.2s\n",
      "722:\tlearn: 0.0011830\ttotal: 1m 28s\tremaining: 34s\n",
      "723:\tlearn: 0.0011830\ttotal: 1m 28s\tremaining: 33.9s\n",
      "724:\tlearn: 0.0011830\ttotal: 1m 29s\tremaining: 33.8s\n",
      "725:\tlearn: 0.0011830\ttotal: 1m 29s\tremaining: 33.7s\n",
      "726:\tlearn: 0.0011830\ttotal: 1m 29s\tremaining: 33.5s\n",
      "727:\tlearn: 0.0011830\ttotal: 1m 29s\tremaining: 33.4s\n",
      "728:\tlearn: 0.0011830\ttotal: 1m 29s\tremaining: 33.3s\n",
      "729:\tlearn: 0.0011830\ttotal: 1m 29s\tremaining: 33.2s\n",
      "730:\tlearn: 0.0011830\ttotal: 1m 29s\tremaining: 33.1s\n",
      "731:\tlearn: 0.0011830\ttotal: 1m 29s\tremaining: 32.9s\n",
      "732:\tlearn: 0.0011830\ttotal: 1m 30s\tremaining: 32.8s\n",
      "733:\tlearn: 0.0011830\ttotal: 1m 30s\tremaining: 32.7s\n",
      "734:\tlearn: 0.0011830\ttotal: 1m 30s\tremaining: 32.6s\n",
      "735:\tlearn: 0.0011830\ttotal: 1m 30s\tremaining: 32.4s\n",
      "736:\tlearn: 0.0011830\ttotal: 1m 30s\tremaining: 32.3s\n",
      "737:\tlearn: 0.0011830\ttotal: 1m 30s\tremaining: 32.2s\n",
      "738:\tlearn: 0.0011830\ttotal: 1m 30s\tremaining: 32s\n",
      "739:\tlearn: 0.0011830\ttotal: 1m 30s\tremaining: 31.9s\n",
      "740:\tlearn: 0.0011830\ttotal: 1m 31s\tremaining: 31.8s\n",
      "741:\tlearn: 0.0011830\ttotal: 1m 31s\tremaining: 31.7s\n",
      "742:\tlearn: 0.0011830\ttotal: 1m 31s\tremaining: 31.6s\n",
      "743:\tlearn: 0.0011830\ttotal: 1m 31s\tremaining: 31.5s\n",
      "744:\tlearn: 0.0011830\ttotal: 1m 31s\tremaining: 31.4s\n",
      "745:\tlearn: 0.0011830\ttotal: 1m 31s\tremaining: 31.3s\n",
      "746:\tlearn: 0.0011830\ttotal: 1m 32s\tremaining: 31.2s\n",
      "747:\tlearn: 0.0011738\ttotal: 1m 32s\tremaining: 31.1s\n",
      "748:\tlearn: 0.0011738\ttotal: 1m 32s\tremaining: 30.9s\n",
      "749:\tlearn: 0.0011737\ttotal: 1m 32s\tremaining: 30.8s\n",
      "750:\tlearn: 0.0011737\ttotal: 1m 32s\tremaining: 30.7s\n",
      "751:\tlearn: 0.0011737\ttotal: 1m 32s\tremaining: 30.6s\n",
      "752:\tlearn: 0.0011737\ttotal: 1m 32s\tremaining: 30.4s\n",
      "753:\tlearn: 0.0011737\ttotal: 1m 32s\tremaining: 30.3s\n",
      "754:\tlearn: 0.0011737\ttotal: 1m 33s\tremaining: 30.2s\n",
      "755:\tlearn: 0.0011737\ttotal: 1m 33s\tremaining: 30.1s\n",
      "756:\tlearn: 0.0011737\ttotal: 1m 33s\tremaining: 29.9s\n",
      "757:\tlearn: 0.0011737\ttotal: 1m 33s\tremaining: 29.8s\n",
      "758:\tlearn: 0.0011737\ttotal: 1m 33s\tremaining: 29.7s\n",
      "759:\tlearn: 0.0011737\ttotal: 1m 33s\tremaining: 29.6s\n",
      "760:\tlearn: 0.0011737\ttotal: 1m 33s\tremaining: 29.5s\n",
      "761:\tlearn: 0.0011737\ttotal: 1m 33s\tremaining: 29.4s\n",
      "762:\tlearn: 0.0011737\ttotal: 1m 34s\tremaining: 29.2s\n",
      "763:\tlearn: 0.0011737\ttotal: 1m 34s\tremaining: 29.1s\n",
      "764:\tlearn: 0.0011737\ttotal: 1m 34s\tremaining: 29s\n",
      "765:\tlearn: 0.0011737\ttotal: 1m 34s\tremaining: 28.9s\n",
      "766:\tlearn: 0.0011737\ttotal: 1m 34s\tremaining: 28.7s\n",
      "767:\tlearn: 0.0011737\ttotal: 1m 34s\tremaining: 28.6s\n",
      "768:\tlearn: 0.0011737\ttotal: 1m 34s\tremaining: 28.5s\n",
      "769:\tlearn: 0.0011737\ttotal: 1m 35s\tremaining: 28.4s\n",
      "770:\tlearn: 0.0011737\ttotal: 1m 35s\tremaining: 28.3s\n",
      "771:\tlearn: 0.0011737\ttotal: 1m 35s\tremaining: 28.1s\n",
      "772:\tlearn: 0.0011737\ttotal: 1m 35s\tremaining: 28s\n",
      "773:\tlearn: 0.0011737\ttotal: 1m 35s\tremaining: 27.9s\n",
      "774:\tlearn: 0.0011737\ttotal: 1m 35s\tremaining: 27.8s\n",
      "775:\tlearn: 0.0011737\ttotal: 1m 35s\tremaining: 27.6s\n",
      "776:\tlearn: 0.0011737\ttotal: 1m 35s\tremaining: 27.5s\n",
      "777:\tlearn: 0.0011737\ttotal: 1m 35s\tremaining: 27.4s\n",
      "778:\tlearn: 0.0011737\ttotal: 1m 36s\tremaining: 27.2s\n",
      "779:\tlearn: 0.0011737\ttotal: 1m 36s\tremaining: 27.1s\n",
      "780:\tlearn: 0.0011737\ttotal: 1m 36s\tremaining: 27s\n",
      "781:\tlearn: 0.0011737\ttotal: 1m 36s\tremaining: 26.9s\n",
      "782:\tlearn: 0.0011737\ttotal: 1m 36s\tremaining: 26.7s\n",
      "783:\tlearn: 0.0011737\ttotal: 1m 36s\tremaining: 26.6s\n",
      "784:\tlearn: 0.0011737\ttotal: 1m 36s\tremaining: 26.5s\n",
      "785:\tlearn: 0.0011737\ttotal: 1m 36s\tremaining: 26.4s\n",
      "786:\tlearn: 0.0011737\ttotal: 1m 37s\tremaining: 26.3s\n",
      "787:\tlearn: 0.0011737\ttotal: 1m 37s\tremaining: 26.1s\n",
      "788:\tlearn: 0.0011737\ttotal: 1m 37s\tremaining: 26s\n",
      "789:\tlearn: 0.0011737\ttotal: 1m 37s\tremaining: 25.9s\n",
      "790:\tlearn: 0.0011737\ttotal: 1m 37s\tremaining: 25.8s\n",
      "791:\tlearn: 0.0011737\ttotal: 1m 37s\tremaining: 25.6s\n",
      "792:\tlearn: 0.0011737\ttotal: 1m 37s\tremaining: 25.5s\n",
      "793:\tlearn: 0.0011737\ttotal: 1m 37s\tremaining: 25.4s\n",
      "794:\tlearn: 0.0011539\ttotal: 1m 37s\tremaining: 25.3s\n",
      "795:\tlearn: 0.0011539\ttotal: 1m 38s\tremaining: 25.1s\n",
      "796:\tlearn: 0.0011539\ttotal: 1m 38s\tremaining: 25s\n",
      "797:\tlearn: 0.0011539\ttotal: 1m 38s\tremaining: 24.9s\n",
      "798:\tlearn: 0.0011539\ttotal: 1m 38s\tremaining: 24.7s\n",
      "799:\tlearn: 0.0011539\ttotal: 1m 38s\tremaining: 24.6s\n",
      "800:\tlearn: 0.0011539\ttotal: 1m 38s\tremaining: 24.5s\n",
      "801:\tlearn: 0.0011539\ttotal: 1m 38s\tremaining: 24.4s\n",
      "802:\tlearn: 0.0011539\ttotal: 1m 38s\tremaining: 24.2s\n",
      "803:\tlearn: 0.0011539\ttotal: 1m 38s\tremaining: 24.1s\n",
      "804:\tlearn: 0.0011539\ttotal: 1m 39s\tremaining: 24s\n",
      "805:\tlearn: 0.0011539\ttotal: 1m 39s\tremaining: 23.9s\n",
      "806:\tlearn: 0.0011539\ttotal: 1m 39s\tremaining: 23.7s\n",
      "807:\tlearn: 0.0011539\ttotal: 1m 39s\tremaining: 23.6s\n",
      "808:\tlearn: 0.0011539\ttotal: 1m 39s\tremaining: 23.5s\n",
      "809:\tlearn: 0.0011539\ttotal: 1m 39s\tremaining: 23.3s\n",
      "810:\tlearn: 0.0011539\ttotal: 1m 39s\tremaining: 23.2s\n",
      "811:\tlearn: 0.0011539\ttotal: 1m 39s\tremaining: 23.1s\n",
      "812:\tlearn: 0.0011539\ttotal: 1m 39s\tremaining: 23s\n",
      "813:\tlearn: 0.0011539\ttotal: 1m 39s\tremaining: 22.8s\n",
      "814:\tlearn: 0.0011539\ttotal: 1m 40s\tremaining: 22.7s\n",
      "815:\tlearn: 0.0011539\ttotal: 1m 40s\tremaining: 22.6s\n",
      "816:\tlearn: 0.0011539\ttotal: 1m 40s\tremaining: 22.5s\n",
      "817:\tlearn: 0.0011539\ttotal: 1m 40s\tremaining: 22.3s\n",
      "818:\tlearn: 0.0011539\ttotal: 1m 40s\tremaining: 22.2s\n",
      "819:\tlearn: 0.0011539\ttotal: 1m 40s\tremaining: 22.1s\n",
      "820:\tlearn: 0.0011539\ttotal: 1m 40s\tremaining: 22s\n",
      "821:\tlearn: 0.0011539\ttotal: 1m 40s\tremaining: 21.8s\n",
      "822:\tlearn: 0.0011539\ttotal: 1m 40s\tremaining: 21.7s\n",
      "823:\tlearn: 0.0011539\ttotal: 1m 41s\tremaining: 21.6s\n",
      "824:\tlearn: 0.0011539\ttotal: 1m 41s\tremaining: 21.5s\n",
      "825:\tlearn: 0.0011539\ttotal: 1m 41s\tremaining: 21.3s\n",
      "826:\tlearn: 0.0011539\ttotal: 1m 41s\tremaining: 21.2s\n",
      "827:\tlearn: 0.0011539\ttotal: 1m 41s\tremaining: 21.1s\n",
      "828:\tlearn: 0.0011539\ttotal: 1m 41s\tremaining: 21s\n",
      "829:\tlearn: 0.0011539\ttotal: 1m 41s\tremaining: 20.8s\n",
      "830:\tlearn: 0.0011539\ttotal: 1m 41s\tremaining: 20.7s\n",
      "831:\tlearn: 0.0011539\ttotal: 1m 41s\tremaining: 20.6s\n",
      "832:\tlearn: 0.0011539\ttotal: 1m 42s\tremaining: 20.5s\n",
      "833:\tlearn: 0.0011539\ttotal: 1m 42s\tremaining: 20.3s\n",
      "834:\tlearn: 0.0011539\ttotal: 1m 42s\tremaining: 20.2s\n",
      "835:\tlearn: 0.0011539\ttotal: 1m 42s\tremaining: 20.1s\n",
      "836:\tlearn: 0.0011539\ttotal: 1m 42s\tremaining: 20s\n",
      "837:\tlearn: 0.0011539\ttotal: 1m 42s\tremaining: 19.9s\n",
      "838:\tlearn: 0.0011539\ttotal: 1m 42s\tremaining: 19.7s\n",
      "839:\tlearn: 0.0011539\ttotal: 1m 43s\tremaining: 19.6s\n",
      "840:\tlearn: 0.0011539\ttotal: 1m 43s\tremaining: 19.5s\n",
      "841:\tlearn: 0.0011539\ttotal: 1m 43s\tremaining: 19.4s\n",
      "842:\tlearn: 0.0011539\ttotal: 1m 43s\tremaining: 19.3s\n",
      "843:\tlearn: 0.0011539\ttotal: 1m 43s\tremaining: 19.2s\n",
      "844:\tlearn: 0.0011539\ttotal: 1m 43s\tremaining: 19s\n",
      "845:\tlearn: 0.0011539\ttotal: 1m 43s\tremaining: 18.9s\n",
      "846:\tlearn: 0.0011539\ttotal: 1m 44s\tremaining: 18.8s\n",
      "847:\tlearn: 0.0011539\ttotal: 1m 44s\tremaining: 18.7s\n",
      "848:\tlearn: 0.0011539\ttotal: 1m 44s\tremaining: 18.5s\n",
      "849:\tlearn: 0.0011539\ttotal: 1m 44s\tremaining: 18.4s\n",
      "850:\tlearn: 0.0011539\ttotal: 1m 44s\tremaining: 18.3s\n",
      "851:\tlearn: 0.0011539\ttotal: 1m 44s\tremaining: 18.2s\n",
      "852:\tlearn: 0.0011539\ttotal: 1m 44s\tremaining: 18.1s\n",
      "853:\tlearn: 0.0011539\ttotal: 1m 44s\tremaining: 17.9s\n",
      "854:\tlearn: 0.0011539\ttotal: 1m 44s\tremaining: 17.8s\n",
      "855:\tlearn: 0.0011539\ttotal: 1m 45s\tremaining: 17.7s\n",
      "856:\tlearn: 0.0011539\ttotal: 1m 45s\tremaining: 17.6s\n",
      "857:\tlearn: 0.0011539\ttotal: 1m 45s\tremaining: 17.4s\n",
      "858:\tlearn: 0.0011539\ttotal: 1m 45s\tremaining: 17.3s\n",
      "859:\tlearn: 0.0011539\ttotal: 1m 45s\tremaining: 17.2s\n",
      "860:\tlearn: 0.0011539\ttotal: 1m 45s\tremaining: 17.1s\n",
      "861:\tlearn: 0.0011539\ttotal: 1m 45s\tremaining: 16.9s\n",
      "862:\tlearn: 0.0011539\ttotal: 1m 45s\tremaining: 16.8s\n",
      "863:\tlearn: 0.0011539\ttotal: 1m 45s\tremaining: 16.7s\n",
      "864:\tlearn: 0.0011539\ttotal: 1m 46s\tremaining: 16.6s\n",
      "865:\tlearn: 0.0011539\ttotal: 1m 46s\tremaining: 16.4s\n",
      "866:\tlearn: 0.0011539\ttotal: 1m 46s\tremaining: 16.3s\n",
      "867:\tlearn: 0.0011539\ttotal: 1m 46s\tremaining: 16.2s\n",
      "868:\tlearn: 0.0011539\ttotal: 1m 46s\tremaining: 16.1s\n",
      "869:\tlearn: 0.0011539\ttotal: 1m 46s\tremaining: 15.9s\n",
      "870:\tlearn: 0.0011539\ttotal: 1m 46s\tremaining: 15.8s\n",
      "871:\tlearn: 0.0011539\ttotal: 1m 46s\tremaining: 15.7s\n",
      "872:\tlearn: 0.0011539\ttotal: 1m 46s\tremaining: 15.6s\n",
      "873:\tlearn: 0.0011539\ttotal: 1m 47s\tremaining: 15.4s\n",
      "874:\tlearn: 0.0011539\ttotal: 1m 47s\tremaining: 15.3s\n",
      "875:\tlearn: 0.0011539\ttotal: 1m 47s\tremaining: 15.2s\n",
      "876:\tlearn: 0.0011538\ttotal: 1m 47s\tremaining: 15.1s\n",
      "877:\tlearn: 0.0011538\ttotal: 1m 47s\tremaining: 14.9s\n",
      "878:\tlearn: 0.0011538\ttotal: 1m 47s\tremaining: 14.8s\n",
      "879:\tlearn: 0.0011538\ttotal: 1m 47s\tremaining: 14.7s\n",
      "880:\tlearn: 0.0011538\ttotal: 1m 47s\tremaining: 14.6s\n",
      "881:\tlearn: 0.0011538\ttotal: 1m 48s\tremaining: 14.4s\n",
      "882:\tlearn: 0.0011538\ttotal: 1m 48s\tremaining: 14.3s\n",
      "883:\tlearn: 0.0011538\ttotal: 1m 48s\tremaining: 14.2s\n",
      "884:\tlearn: 0.0011538\ttotal: 1m 48s\tremaining: 14.1s\n",
      "885:\tlearn: 0.0011538\ttotal: 1m 48s\tremaining: 14s\n",
      "886:\tlearn: 0.0011538\ttotal: 1m 48s\tremaining: 13.8s\n",
      "887:\tlearn: 0.0011538\ttotal: 1m 48s\tremaining: 13.7s\n",
      "888:\tlearn: 0.0011538\ttotal: 1m 48s\tremaining: 13.6s\n",
      "889:\tlearn: 0.0011538\ttotal: 1m 48s\tremaining: 13.5s\n",
      "890:\tlearn: 0.0011538\ttotal: 1m 49s\tremaining: 13.3s\n",
      "891:\tlearn: 0.0011538\ttotal: 1m 49s\tremaining: 13.2s\n",
      "892:\tlearn: 0.0011538\ttotal: 1m 49s\tremaining: 13.1s\n",
      "893:\tlearn: 0.0011538\ttotal: 1m 49s\tremaining: 13s\n",
      "894:\tlearn: 0.0011538\ttotal: 1m 49s\tremaining: 12.8s\n",
      "895:\tlearn: 0.0011538\ttotal: 1m 49s\tremaining: 12.7s\n",
      "896:\tlearn: 0.0011538\ttotal: 1m 49s\tremaining: 12.6s\n",
      "897:\tlearn: 0.0011538\ttotal: 1m 49s\tremaining: 12.5s\n",
      "898:\tlearn: 0.0011538\ttotal: 1m 49s\tremaining: 12.4s\n",
      "899:\tlearn: 0.0011538\ttotal: 1m 50s\tremaining: 12.2s\n",
      "900:\tlearn: 0.0011538\ttotal: 1m 50s\tremaining: 12.1s\n",
      "901:\tlearn: 0.0011537\ttotal: 1m 50s\tremaining: 12s\n",
      "902:\tlearn: 0.0011537\ttotal: 1m 50s\tremaining: 11.9s\n",
      "903:\tlearn: 0.0011537\ttotal: 1m 50s\tremaining: 11.7s\n",
      "904:\tlearn: 0.0011537\ttotal: 1m 50s\tremaining: 11.6s\n",
      "905:\tlearn: 0.0011537\ttotal: 1m 50s\tremaining: 11.5s\n",
      "906:\tlearn: 0.0011537\ttotal: 1m 50s\tremaining: 11.4s\n",
      "907:\tlearn: 0.0011537\ttotal: 1m 50s\tremaining: 11.2s\n",
      "908:\tlearn: 0.0011537\ttotal: 1m 51s\tremaining: 11.1s\n",
      "909:\tlearn: 0.0011537\ttotal: 1m 51s\tremaining: 11s\n",
      "910:\tlearn: 0.0011537\ttotal: 1m 51s\tremaining: 10.9s\n",
      "911:\tlearn: 0.0011537\ttotal: 1m 51s\tremaining: 10.7s\n",
      "912:\tlearn: 0.0011537\ttotal: 1m 51s\tremaining: 10.6s\n",
      "913:\tlearn: 0.0011537\ttotal: 1m 51s\tremaining: 10.5s\n",
      "914:\tlearn: 0.0011537\ttotal: 1m 51s\tremaining: 10.4s\n",
      "915:\tlearn: 0.0011537\ttotal: 1m 51s\tremaining: 10.3s\n",
      "916:\tlearn: 0.0011537\ttotal: 1m 51s\tremaining: 10.1s\n",
      "917:\tlearn: 0.0011537\ttotal: 1m 52s\tremaining: 10s\n",
      "918:\tlearn: 0.0011537\ttotal: 1m 52s\tremaining: 9.89s\n",
      "919:\tlearn: 0.0011537\ttotal: 1m 52s\tremaining: 9.77s\n",
      "920:\tlearn: 0.0011537\ttotal: 1m 52s\tremaining: 9.64s\n",
      "921:\tlearn: 0.0011537\ttotal: 1m 52s\tremaining: 9.52s\n",
      "922:\tlearn: 0.0011537\ttotal: 1m 52s\tremaining: 9.39s\n",
      "923:\tlearn: 0.0011537\ttotal: 1m 52s\tremaining: 9.27s\n",
      "924:\tlearn: 0.0011537\ttotal: 1m 52s\tremaining: 9.15s\n",
      "925:\tlearn: 0.0011537\ttotal: 1m 52s\tremaining: 9.03s\n",
      "926:\tlearn: 0.0011537\ttotal: 1m 53s\tremaining: 8.91s\n",
      "927:\tlearn: 0.0011537\ttotal: 1m 53s\tremaining: 8.79s\n",
      "928:\tlearn: 0.0011537\ttotal: 1m 53s\tremaining: 8.67s\n",
      "929:\tlearn: 0.0011537\ttotal: 1m 53s\tremaining: 8.55s\n",
      "930:\tlearn: 0.0011537\ttotal: 1m 53s\tremaining: 8.42s\n",
      "931:\tlearn: 0.0011537\ttotal: 1m 53s\tremaining: 8.3s\n",
      "932:\tlearn: 0.0011537\ttotal: 1m 53s\tremaining: 8.18s\n",
      "933:\tlearn: 0.0011537\ttotal: 1m 54s\tremaining: 8.06s\n",
      "934:\tlearn: 0.0011537\ttotal: 1m 54s\tremaining: 7.93s\n",
      "935:\tlearn: 0.0011537\ttotal: 1m 54s\tremaining: 7.81s\n",
      "936:\tlearn: 0.0011537\ttotal: 1m 54s\tremaining: 7.69s\n",
      "937:\tlearn: 0.0011537\ttotal: 1m 54s\tremaining: 7.57s\n",
      "938:\tlearn: 0.0011537\ttotal: 1m 54s\tremaining: 7.45s\n",
      "939:\tlearn: 0.0011537\ttotal: 1m 54s\tremaining: 7.32s\n",
      "940:\tlearn: 0.0011537\ttotal: 1m 54s\tremaining: 7.2s\n",
      "941:\tlearn: 0.0011537\ttotal: 1m 54s\tremaining: 7.08s\n",
      "942:\tlearn: 0.0011537\ttotal: 1m 55s\tremaining: 6.95s\n",
      "943:\tlearn: 0.0011537\ttotal: 1m 55s\tremaining: 6.83s\n",
      "944:\tlearn: 0.0011537\ttotal: 1m 55s\tremaining: 6.71s\n",
      "945:\tlearn: 0.0011537\ttotal: 1m 55s\tremaining: 6.59s\n",
      "946:\tlearn: 0.0011537\ttotal: 1m 55s\tremaining: 6.47s\n",
      "947:\tlearn: 0.0011537\ttotal: 1m 55s\tremaining: 6.35s\n",
      "948:\tlearn: 0.0011537\ttotal: 1m 56s\tremaining: 6.24s\n",
      "949:\tlearn: 0.0011537\ttotal: 1m 56s\tremaining: 6.12s\n",
      "950:\tlearn: 0.0011537\ttotal: 1m 56s\tremaining: 6s\n",
      "951:\tlearn: 0.0011537\ttotal: 1m 56s\tremaining: 5.87s\n",
      "952:\tlearn: 0.0011537\ttotal: 1m 56s\tremaining: 5.75s\n",
      "953:\tlearn: 0.0011537\ttotal: 1m 56s\tremaining: 5.63s\n",
      "954:\tlearn: 0.0011537\ttotal: 1m 56s\tremaining: 5.51s\n",
      "955:\tlearn: 0.0011537\ttotal: 1m 57s\tremaining: 5.39s\n",
      "956:\tlearn: 0.0011537\ttotal: 1m 57s\tremaining: 5.26s\n",
      "957:\tlearn: 0.0011537\ttotal: 1m 57s\tremaining: 5.14s\n",
      "958:\tlearn: 0.0011537\ttotal: 1m 57s\tremaining: 5.02s\n",
      "959:\tlearn: 0.0011537\ttotal: 1m 57s\tremaining: 4.89s\n",
      "960:\tlearn: 0.0011537\ttotal: 1m 57s\tremaining: 4.77s\n",
      "961:\tlearn: 0.0011537\ttotal: 1m 57s\tremaining: 4.65s\n",
      "962:\tlearn: 0.0011537\ttotal: 1m 57s\tremaining: 4.53s\n",
      "963:\tlearn: 0.0011537\ttotal: 1m 57s\tremaining: 4.4s\n",
      "964:\tlearn: 0.0011537\ttotal: 1m 58s\tremaining: 4.28s\n",
      "965:\tlearn: 0.0011537\ttotal: 1m 58s\tremaining: 4.16s\n",
      "966:\tlearn: 0.0011537\ttotal: 1m 58s\tremaining: 4.04s\n",
      "967:\tlearn: 0.0011537\ttotal: 1m 58s\tremaining: 3.91s\n",
      "968:\tlearn: 0.0011537\ttotal: 1m 58s\tremaining: 3.79s\n",
      "969:\tlearn: 0.0011537\ttotal: 1m 58s\tremaining: 3.67s\n",
      "970:\tlearn: 0.0011537\ttotal: 1m 58s\tremaining: 3.54s\n",
      "971:\tlearn: 0.0011537\ttotal: 1m 58s\tremaining: 3.42s\n",
      "972:\tlearn: 0.0011537\ttotal: 1m 58s\tremaining: 3.3s\n",
      "973:\tlearn: 0.0011537\ttotal: 1m 59s\tremaining: 3.18s\n",
      "974:\tlearn: 0.0011537\ttotal: 1m 59s\tremaining: 3.06s\n",
      "975:\tlearn: 0.0011537\ttotal: 1m 59s\tremaining: 2.93s\n",
      "976:\tlearn: 0.0011537\ttotal: 1m 59s\tremaining: 2.81s\n",
      "977:\tlearn: 0.0011537\ttotal: 1m 59s\tremaining: 2.69s\n",
      "978:\tlearn: 0.0011537\ttotal: 1m 59s\tremaining: 2.56s\n",
      "979:\tlearn: 0.0011537\ttotal: 1m 59s\tremaining: 2.44s\n",
      "980:\tlearn: 0.0011537\ttotal: 1m 59s\tremaining: 2.32s\n",
      "981:\tlearn: 0.0011537\ttotal: 1m 59s\tremaining: 2.2s\n",
      "982:\tlearn: 0.0011537\ttotal: 2m\tremaining: 2.08s\n",
      "983:\tlearn: 0.0011537\ttotal: 2m\tremaining: 1.95s\n",
      "984:\tlearn: 0.0011537\ttotal: 2m\tremaining: 1.83s\n",
      "985:\tlearn: 0.0011537\ttotal: 2m\tremaining: 1.71s\n",
      "986:\tlearn: 0.0011293\ttotal: 2m\tremaining: 1.59s\n",
      "987:\tlearn: 0.0011292\ttotal: 2m\tremaining: 1.47s\n",
      "988:\tlearn: 0.0011292\ttotal: 2m\tremaining: 1.34s\n",
      "989:\tlearn: 0.0011292\ttotal: 2m\tremaining: 1.22s\n",
      "990:\tlearn: 0.0011292\ttotal: 2m 1s\tremaining: 1.1s\n",
      "991:\tlearn: 0.0011292\ttotal: 2m 1s\tremaining: 978ms\n",
      "992:\tlearn: 0.0011292\ttotal: 2m 1s\tremaining: 855ms\n",
      "993:\tlearn: 0.0011292\ttotal: 2m 1s\tremaining: 733ms\n",
      "994:\tlearn: 0.0011292\ttotal: 2m 1s\tremaining: 611ms\n",
      "995:\tlearn: 0.0011292\ttotal: 2m 1s\tremaining: 489ms\n",
      "996:\tlearn: 0.0011292\ttotal: 2m 1s\tremaining: 367ms\n",
      "997:\tlearn: 0.0011292\ttotal: 2m 1s\tremaining: 244ms\n",
      "998:\tlearn: 0.0011292\ttotal: 2m 2s\tremaining: 122ms\n",
      "999:\tlearn: 0.0011292\ttotal: 2m 2s\tremaining: 0us\n",
      "              precision    recall  f1-score   support\n",
      "\n",
      "           0       1.00      1.00      1.00     85293\n",
      "           1       1.00      1.00      1.00     85263\n",
      "\n",
      "    accuracy                           1.00    170556\n",
      "   macro avg       1.00      1.00      1.00    170556\n",
      "weighted avg       1.00      1.00      1.00    170556\n",
      "\n",
      "Accuracy on the training set: 0.9999\n",
      "Accuracy on the test set: 0.9999\n"
     ]
    }
   ],
   "source": [
    "from catboost import CatBoostClassifier \n",
    "cbc=CatBoostClassifier()\n",
    "cbc.fit(X_train, y_train)\n",
    "ypred3=cbc.predict(X_test)\n",
    "print(classification_report(y_test,ypred3))\n",
    "print('Accuracy on the training set: {:.4f}'.format(cbc.score(X_train,y_train)))\n",
    "print('Accuracy on the test set: {:.4f}'.format(cbc.score(X_test,y_test)))"
   ]
  },
  {
   "cell_type": "code",
   "execution_count": 75,
   "metadata": {},
   "outputs": [
    {
     "name": "stdout",
     "output_type": "stream",
     "text": [
      "Accuracy: 0.9999\n",
      "roc score: 0.9999\n"
     ]
    },
    {
     "data": {
      "image/png": "[encoded data removed]",
      "text/plain": [
       "<Figure size 432x288 with 1 Axes>"
      ]
     },
     "metadata": {
      "needs_background": "light"
     },
     "output_type": "display_data"
    }
   ],
   "source": [
    "probs3=cbc.predict_proba(X_test)[:,1]\n",
    "from sklearn.metrics import roc_auc_score, roc_curve\n",
    "false_positive_rate, true_positive_rate, threshold = roc_curve(y_test,probs3)\n",
    "\n",
    "print('Accuracy: {:.4f}'.format(accuracy_score(y_test,ypred3)))\n",
    "print('roc score: {:.4f}'.format(roc_auc_score(y_test,ypred3)))\n",
    "plt.title(\"Receiver Operating Characteristic\")\n",
    "plt.plot(false_positive_rate, true_positive_rate)\n",
    "#plt.plot([0, 1], ls=\"--\")\n",
    "#plt.plot([0, 0], [1, 0] , c=\".7\"), plt.plot([1, 1] , c=\".7\")\n",
    "plt.ylabel(\"True Positive Rate\")\n",
    "plt.xlabel(\"False Positive Rate\")\n",
    "plt.show()"
   ]
  },
  {
   "cell_type": "code",
   "execution_count": 76,
   "metadata": {},
   "outputs": [
    {
     "name": "stdout",
     "output_type": "stream",
     "text": [
      "[[85270    23]\n",
      " [    0 85263]]\n"
     ]
    },
    {
     "data": {
      "image/png": "[encoded data removed]",
      "text/plain": [
       "<Figure size 432x288 with 2 Axes>"
      ]
     },
     "metadata": {
      "needs_background": "light"
     },
     "output_type": "display_data"
    }
   ],
   "source": [
    "cnf=confusion_matrix(y_test,ypred3)\n",
    "print(cnf)\n",
    "sns.heatmap(cnf,annot=True,cmap='Blues')\n",
    "plt.show()"
   ]
  },
  {
   "cell_type": "code",
   "execution_count": null,
   "metadata": {},
   "outputs": [],
   "source": []
  }
 ],
 "metadata": {
  "kernelspec": {
   "display_name": "Python 3",
   "language": "python",
   "name": "python3"
  },
  "language_info": {
   "codemirror_mode": {
    "name": "ipython",
    "version": 3
   },
   "file_extension": ".py",
   "mimetype": "text/x-python",
   "name": "python",
   "nbconvert_exporter": "python",
   "pygments_lexer": "ipython3",
   "version": "3.8.5"
  }
 },
 "nbformat": 4,
 "nbformat_minor": 4
}
